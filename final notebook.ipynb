{
 "cells": [
  {
   "cell_type": "markdown",
   "id": "a2ff9bd0",
   "metadata": {},
   "source": [
    "The purpose of this study is to propose a prediction model for 30-day unplanned readmission among diabetes patients in US hospitals. The analysis will be based on risk factors such as a patient’s demographics, admission details, diagnosis, and medical data. In a broader sense, the goal of the study is to allow health centers to better anticipate and address unplanned readmissions while improving their quality of care and cost efficiency."
   ]
  },
  {
   "cell_type": "markdown",
   "id": "3dc6172b",
   "metadata": {},
   "source": [
    "# Import Libraries"
   ]
  },
  {
   "cell_type": "code",
   "execution_count": 1,
   "id": "e779e9b1",
   "metadata": {},
   "outputs": [],
   "source": [
    "import pandas as pd\n",
    "import numpy as np\n",
    "import matplotlib.pyplot as plt\n",
    "import seaborn as sns\n",
    "import scipy.stats as stats\n",
    "import os\n",
    "import warnings\n",
    "warnings.filterwarnings(\"ignore\")\n",
    "\n",
    "import statsmodels.api as sm\n",
    "from statsmodels.stats.anova import anova_lm\n",
    "import scipy.stats as stats\n",
    "import matplotlib.pyplot as plt\n",
    "from sklearn.preprocessing import StandardScaler, PowerTransformer, LabelEncoder, OneHotEncoder, MinMaxScaler\n",
    "pd.set_option('display.max_columns', None)\n",
    "pd.set_option('display.max_rows', None)"
   ]
  },
  {
   "cell_type": "markdown",
   "id": "79027ea5",
   "metadata": {},
   "source": [
    "# Import dataset"
   ]
  },
  {
   "cell_type": "code",
   "execution_count": 2,
   "id": "d8851e47",
   "metadata": {},
   "outputs": [
    {
     "data": {
      "text/html": [
       "<div>\n",
       "<style scoped>\n",
       "    .dataframe tbody tr th:only-of-type {\n",
       "        vertical-align: middle;\n",
       "    }\n",
       "\n",
       "    .dataframe tbody tr th {\n",
       "        vertical-align: top;\n",
       "    }\n",
       "\n",
       "    .dataframe thead th {\n",
       "        text-align: right;\n",
       "    }\n",
       "</style>\n",
       "<table border=\"1\" class=\"dataframe\">\n",
       "  <thead>\n",
       "    <tr style=\"text-align: right;\">\n",
       "      <th></th>\n",
       "      <th>encounter_id</th>\n",
       "      <th>patient_nbr</th>\n",
       "      <th>race</th>\n",
       "      <th>gender</th>\n",
       "      <th>age</th>\n",
       "      <th>weight</th>\n",
       "      <th>admission_type_id</th>\n",
       "      <th>discharge_disposition_id</th>\n",
       "      <th>admission_source_id</th>\n",
       "      <th>time_in_hospital</th>\n",
       "      <th>payer_code</th>\n",
       "      <th>medical_specialty</th>\n",
       "      <th>num_lab_procedures</th>\n",
       "      <th>num_procedures</th>\n",
       "      <th>num_medications</th>\n",
       "      <th>number_outpatient</th>\n",
       "      <th>number_emergency</th>\n",
       "      <th>number_inpatient</th>\n",
       "      <th>diag_1</th>\n",
       "      <th>diag_2</th>\n",
       "      <th>diag_3</th>\n",
       "      <th>number_diagnoses</th>\n",
       "      <th>max_glu_serum</th>\n",
       "      <th>A1Cresult</th>\n",
       "      <th>metformin</th>\n",
       "      <th>repaglinide</th>\n",
       "      <th>nateglinide</th>\n",
       "      <th>chlorpropamide</th>\n",
       "      <th>glimepiride</th>\n",
       "      <th>acetohexamide</th>\n",
       "      <th>glipizide</th>\n",
       "      <th>glyburide</th>\n",
       "      <th>tolbutamide</th>\n",
       "      <th>pioglitazone</th>\n",
       "      <th>rosiglitazone</th>\n",
       "      <th>acarbose</th>\n",
       "      <th>miglitol</th>\n",
       "      <th>troglitazone</th>\n",
       "      <th>tolazamide</th>\n",
       "      <th>examide</th>\n",
       "      <th>citoglipton</th>\n",
       "      <th>insulin</th>\n",
       "      <th>glyburide-metformin</th>\n",
       "      <th>glipizide-metformin</th>\n",
       "      <th>glimepiride-pioglitazone</th>\n",
       "      <th>metformin-rosiglitazone</th>\n",
       "      <th>metformin-pioglitazone</th>\n",
       "      <th>change</th>\n",
       "      <th>diabetesMed</th>\n",
       "      <th>readmitted</th>\n",
       "    </tr>\n",
       "  </thead>\n",
       "  <tbody>\n",
       "    <tr>\n",
       "      <th>0</th>\n",
       "      <td>2278392</td>\n",
       "      <td>8222157</td>\n",
       "      <td>Caucasian</td>\n",
       "      <td>Female</td>\n",
       "      <td>[0-10)</td>\n",
       "      <td>?</td>\n",
       "      <td>6</td>\n",
       "      <td>25</td>\n",
       "      <td>1</td>\n",
       "      <td>1</td>\n",
       "      <td>?</td>\n",
       "      <td>Pediatrics-Endocrinology</td>\n",
       "      <td>41</td>\n",
       "      <td>0</td>\n",
       "      <td>1</td>\n",
       "      <td>0</td>\n",
       "      <td>0</td>\n",
       "      <td>0</td>\n",
       "      <td>250.83</td>\n",
       "      <td>?</td>\n",
       "      <td>?</td>\n",
       "      <td>1</td>\n",
       "      <td>None</td>\n",
       "      <td>None</td>\n",
       "      <td>No</td>\n",
       "      <td>No</td>\n",
       "      <td>No</td>\n",
       "      <td>No</td>\n",
       "      <td>No</td>\n",
       "      <td>No</td>\n",
       "      <td>No</td>\n",
       "      <td>No</td>\n",
       "      <td>No</td>\n",
       "      <td>No</td>\n",
       "      <td>No</td>\n",
       "      <td>No</td>\n",
       "      <td>No</td>\n",
       "      <td>No</td>\n",
       "      <td>No</td>\n",
       "      <td>No</td>\n",
       "      <td>No</td>\n",
       "      <td>No</td>\n",
       "      <td>No</td>\n",
       "      <td>No</td>\n",
       "      <td>No</td>\n",
       "      <td>No</td>\n",
       "      <td>No</td>\n",
       "      <td>No</td>\n",
       "      <td>No</td>\n",
       "      <td>NO</td>\n",
       "    </tr>\n",
       "    <tr>\n",
       "      <th>1</th>\n",
       "      <td>149190</td>\n",
       "      <td>55629189</td>\n",
       "      <td>Caucasian</td>\n",
       "      <td>Female</td>\n",
       "      <td>[10-20)</td>\n",
       "      <td>?</td>\n",
       "      <td>1</td>\n",
       "      <td>1</td>\n",
       "      <td>7</td>\n",
       "      <td>3</td>\n",
       "      <td>?</td>\n",
       "      <td>?</td>\n",
       "      <td>59</td>\n",
       "      <td>0</td>\n",
       "      <td>18</td>\n",
       "      <td>0</td>\n",
       "      <td>0</td>\n",
       "      <td>0</td>\n",
       "      <td>276</td>\n",
       "      <td>250.01</td>\n",
       "      <td>255</td>\n",
       "      <td>9</td>\n",
       "      <td>None</td>\n",
       "      <td>None</td>\n",
       "      <td>No</td>\n",
       "      <td>No</td>\n",
       "      <td>No</td>\n",
       "      <td>No</td>\n",
       "      <td>No</td>\n",
       "      <td>No</td>\n",
       "      <td>No</td>\n",
       "      <td>No</td>\n",
       "      <td>No</td>\n",
       "      <td>No</td>\n",
       "      <td>No</td>\n",
       "      <td>No</td>\n",
       "      <td>No</td>\n",
       "      <td>No</td>\n",
       "      <td>No</td>\n",
       "      <td>No</td>\n",
       "      <td>No</td>\n",
       "      <td>Up</td>\n",
       "      <td>No</td>\n",
       "      <td>No</td>\n",
       "      <td>No</td>\n",
       "      <td>No</td>\n",
       "      <td>No</td>\n",
       "      <td>Ch</td>\n",
       "      <td>Yes</td>\n",
       "      <td>&gt;30</td>\n",
       "    </tr>\n",
       "    <tr>\n",
       "      <th>2</th>\n",
       "      <td>64410</td>\n",
       "      <td>86047875</td>\n",
       "      <td>AfricanAmerican</td>\n",
       "      <td>Female</td>\n",
       "      <td>[20-30)</td>\n",
       "      <td>?</td>\n",
       "      <td>1</td>\n",
       "      <td>1</td>\n",
       "      <td>7</td>\n",
       "      <td>2</td>\n",
       "      <td>?</td>\n",
       "      <td>?</td>\n",
       "      <td>11</td>\n",
       "      <td>5</td>\n",
       "      <td>13</td>\n",
       "      <td>2</td>\n",
       "      <td>0</td>\n",
       "      <td>1</td>\n",
       "      <td>648</td>\n",
       "      <td>250</td>\n",
       "      <td>V27</td>\n",
       "      <td>6</td>\n",
       "      <td>None</td>\n",
       "      <td>None</td>\n",
       "      <td>No</td>\n",
       "      <td>No</td>\n",
       "      <td>No</td>\n",
       "      <td>No</td>\n",
       "      <td>No</td>\n",
       "      <td>No</td>\n",
       "      <td>Steady</td>\n",
       "      <td>No</td>\n",
       "      <td>No</td>\n",
       "      <td>No</td>\n",
       "      <td>No</td>\n",
       "      <td>No</td>\n",
       "      <td>No</td>\n",
       "      <td>No</td>\n",
       "      <td>No</td>\n",
       "      <td>No</td>\n",
       "      <td>No</td>\n",
       "      <td>No</td>\n",
       "      <td>No</td>\n",
       "      <td>No</td>\n",
       "      <td>No</td>\n",
       "      <td>No</td>\n",
       "      <td>No</td>\n",
       "      <td>No</td>\n",
       "      <td>Yes</td>\n",
       "      <td>NO</td>\n",
       "    </tr>\n",
       "    <tr>\n",
       "      <th>3</th>\n",
       "      <td>500364</td>\n",
       "      <td>82442376</td>\n",
       "      <td>Caucasian</td>\n",
       "      <td>Male</td>\n",
       "      <td>[30-40)</td>\n",
       "      <td>?</td>\n",
       "      <td>1</td>\n",
       "      <td>1</td>\n",
       "      <td>7</td>\n",
       "      <td>2</td>\n",
       "      <td>?</td>\n",
       "      <td>?</td>\n",
       "      <td>44</td>\n",
       "      <td>1</td>\n",
       "      <td>16</td>\n",
       "      <td>0</td>\n",
       "      <td>0</td>\n",
       "      <td>0</td>\n",
       "      <td>8</td>\n",
       "      <td>250.43</td>\n",
       "      <td>403</td>\n",
       "      <td>7</td>\n",
       "      <td>None</td>\n",
       "      <td>None</td>\n",
       "      <td>No</td>\n",
       "      <td>No</td>\n",
       "      <td>No</td>\n",
       "      <td>No</td>\n",
       "      <td>No</td>\n",
       "      <td>No</td>\n",
       "      <td>No</td>\n",
       "      <td>No</td>\n",
       "      <td>No</td>\n",
       "      <td>No</td>\n",
       "      <td>No</td>\n",
       "      <td>No</td>\n",
       "      <td>No</td>\n",
       "      <td>No</td>\n",
       "      <td>No</td>\n",
       "      <td>No</td>\n",
       "      <td>No</td>\n",
       "      <td>Up</td>\n",
       "      <td>No</td>\n",
       "      <td>No</td>\n",
       "      <td>No</td>\n",
       "      <td>No</td>\n",
       "      <td>No</td>\n",
       "      <td>Ch</td>\n",
       "      <td>Yes</td>\n",
       "      <td>NO</td>\n",
       "    </tr>\n",
       "    <tr>\n",
       "      <th>4</th>\n",
       "      <td>16680</td>\n",
       "      <td>42519267</td>\n",
       "      <td>Caucasian</td>\n",
       "      <td>Male</td>\n",
       "      <td>[40-50)</td>\n",
       "      <td>?</td>\n",
       "      <td>1</td>\n",
       "      <td>1</td>\n",
       "      <td>7</td>\n",
       "      <td>1</td>\n",
       "      <td>?</td>\n",
       "      <td>?</td>\n",
       "      <td>51</td>\n",
       "      <td>0</td>\n",
       "      <td>8</td>\n",
       "      <td>0</td>\n",
       "      <td>0</td>\n",
       "      <td>0</td>\n",
       "      <td>197</td>\n",
       "      <td>157</td>\n",
       "      <td>250</td>\n",
       "      <td>5</td>\n",
       "      <td>None</td>\n",
       "      <td>None</td>\n",
       "      <td>No</td>\n",
       "      <td>No</td>\n",
       "      <td>No</td>\n",
       "      <td>No</td>\n",
       "      <td>No</td>\n",
       "      <td>No</td>\n",
       "      <td>Steady</td>\n",
       "      <td>No</td>\n",
       "      <td>No</td>\n",
       "      <td>No</td>\n",
       "      <td>No</td>\n",
       "      <td>No</td>\n",
       "      <td>No</td>\n",
       "      <td>No</td>\n",
       "      <td>No</td>\n",
       "      <td>No</td>\n",
       "      <td>No</td>\n",
       "      <td>Steady</td>\n",
       "      <td>No</td>\n",
       "      <td>No</td>\n",
       "      <td>No</td>\n",
       "      <td>No</td>\n",
       "      <td>No</td>\n",
       "      <td>Ch</td>\n",
       "      <td>Yes</td>\n",
       "      <td>NO</td>\n",
       "    </tr>\n",
       "  </tbody>\n",
       "</table>\n",
       "</div>"
      ],
      "text/plain": [
       "   encounter_id  patient_nbr             race  gender      age weight  \\\n",
       "0       2278392      8222157        Caucasian  Female   [0-10)      ?   \n",
       "1        149190     55629189        Caucasian  Female  [10-20)      ?   \n",
       "2         64410     86047875  AfricanAmerican  Female  [20-30)      ?   \n",
       "3        500364     82442376        Caucasian    Male  [30-40)      ?   \n",
       "4         16680     42519267        Caucasian    Male  [40-50)      ?   \n",
       "\n",
       "   admission_type_id  discharge_disposition_id  admission_source_id  \\\n",
       "0                  6                        25                    1   \n",
       "1                  1                         1                    7   \n",
       "2                  1                         1                    7   \n",
       "3                  1                         1                    7   \n",
       "4                  1                         1                    7   \n",
       "\n",
       "   time_in_hospital payer_code         medical_specialty  num_lab_procedures  \\\n",
       "0                 1          ?  Pediatrics-Endocrinology                  41   \n",
       "1                 3          ?                         ?                  59   \n",
       "2                 2          ?                         ?                  11   \n",
       "3                 2          ?                         ?                  44   \n",
       "4                 1          ?                         ?                  51   \n",
       "\n",
       "   num_procedures  num_medications  number_outpatient  number_emergency  \\\n",
       "0               0                1                  0                 0   \n",
       "1               0               18                  0                 0   \n",
       "2               5               13                  2                 0   \n",
       "3               1               16                  0                 0   \n",
       "4               0                8                  0                 0   \n",
       "\n",
       "   number_inpatient  diag_1  diag_2 diag_3  number_diagnoses max_glu_serum  \\\n",
       "0                 0  250.83       ?      ?                 1          None   \n",
       "1                 0     276  250.01    255                 9          None   \n",
       "2                 1     648     250    V27                 6          None   \n",
       "3                 0       8  250.43    403                 7          None   \n",
       "4                 0     197     157    250                 5          None   \n",
       "\n",
       "  A1Cresult metformin repaglinide nateglinide chlorpropamide glimepiride  \\\n",
       "0      None        No          No          No             No          No   \n",
       "1      None        No          No          No             No          No   \n",
       "2      None        No          No          No             No          No   \n",
       "3      None        No          No          No             No          No   \n",
       "4      None        No          No          No             No          No   \n",
       "\n",
       "  acetohexamide glipizide glyburide tolbutamide pioglitazone rosiglitazone  \\\n",
       "0            No        No        No          No           No            No   \n",
       "1            No        No        No          No           No            No   \n",
       "2            No    Steady        No          No           No            No   \n",
       "3            No        No        No          No           No            No   \n",
       "4            No    Steady        No          No           No            No   \n",
       "\n",
       "  acarbose miglitol troglitazone tolazamide examide citoglipton insulin  \\\n",
       "0       No       No           No         No      No          No      No   \n",
       "1       No       No           No         No      No          No      Up   \n",
       "2       No       No           No         No      No          No      No   \n",
       "3       No       No           No         No      No          No      Up   \n",
       "4       No       No           No         No      No          No  Steady   \n",
       "\n",
       "  glyburide-metformin glipizide-metformin glimepiride-pioglitazone  \\\n",
       "0                  No                  No                       No   \n",
       "1                  No                  No                       No   \n",
       "2                  No                  No                       No   \n",
       "3                  No                  No                       No   \n",
       "4                  No                  No                       No   \n",
       "\n",
       "  metformin-rosiglitazone metformin-pioglitazone change diabetesMed readmitted  \n",
       "0                      No                     No     No          No         NO  \n",
       "1                      No                     No     Ch         Yes        >30  \n",
       "2                      No                     No     No         Yes         NO  \n",
       "3                      No                     No     Ch         Yes         NO  \n",
       "4                      No                     No     Ch         Yes         NO  "
      ]
     },
     "execution_count": 2,
     "metadata": {},
     "output_type": "execute_result"
    }
   ],
   "source": [
    "df = pd.read_csv('C:/Users/Arvind Sain/Downloads/dataset_diabetes/dataset_diabetes/diabetic_data.csv')\n",
    "df.head()"
   ]
  },
  {
   "cell_type": "markdown",
   "id": "44310001",
   "metadata": {},
   "source": [
    "Data exploration and Cleaning"
   ]
  },
  {
   "cell_type": "code",
   "execution_count": 3,
   "id": "e3af01e9",
   "metadata": {},
   "outputs": [
    {
     "data": {
      "text/plain": [
       "(101766, 50)"
      ]
     },
     "execution_count": 3,
     "metadata": {},
     "output_type": "execute_result"
    }
   ],
   "source": [
    "df.shape\n"
   ]
  },
  {
   "cell_type": "code",
   "execution_count": 4,
   "id": "c0691c61",
   "metadata": {},
   "outputs": [
    {
     "name": "stdout",
     "output_type": "stream",
     "text": [
      "<class 'pandas.core.frame.DataFrame'>\n",
      "RangeIndex: 101766 entries, 0 to 101765\n",
      "Data columns (total 50 columns):\n",
      " #   Column                    Non-Null Count   Dtype \n",
      "---  ------                    --------------   ----- \n",
      " 0   encounter_id              101766 non-null  int64 \n",
      " 1   patient_nbr               101766 non-null  int64 \n",
      " 2   race                      101766 non-null  object\n",
      " 3   gender                    101766 non-null  object\n",
      " 4   age                       101766 non-null  object\n",
      " 5   weight                    101766 non-null  object\n",
      " 6   admission_type_id         101766 non-null  int64 \n",
      " 7   discharge_disposition_id  101766 non-null  int64 \n",
      " 8   admission_source_id       101766 non-null  int64 \n",
      " 9   time_in_hospital          101766 non-null  int64 \n",
      " 10  payer_code                101766 non-null  object\n",
      " 11  medical_specialty         101766 non-null  object\n",
      " 12  num_lab_procedures        101766 non-null  int64 \n",
      " 13  num_procedures            101766 non-null  int64 \n",
      " 14  num_medications           101766 non-null  int64 \n",
      " 15  number_outpatient         101766 non-null  int64 \n",
      " 16  number_emergency          101766 non-null  int64 \n",
      " 17  number_inpatient          101766 non-null  int64 \n",
      " 18  diag_1                    101766 non-null  object\n",
      " 19  diag_2                    101766 non-null  object\n",
      " 20  diag_3                    101766 non-null  object\n",
      " 21  number_diagnoses          101766 non-null  int64 \n",
      " 22  max_glu_serum             101766 non-null  object\n",
      " 23  A1Cresult                 101766 non-null  object\n",
      " 24  metformin                 101766 non-null  object\n",
      " 25  repaglinide               101766 non-null  object\n",
      " 26  nateglinide               101766 non-null  object\n",
      " 27  chlorpropamide            101766 non-null  object\n",
      " 28  glimepiride               101766 non-null  object\n",
      " 29  acetohexamide             101766 non-null  object\n",
      " 30  glipizide                 101766 non-null  object\n",
      " 31  glyburide                 101766 non-null  object\n",
      " 32  tolbutamide               101766 non-null  object\n",
      " 33  pioglitazone              101766 non-null  object\n",
      " 34  rosiglitazone             101766 non-null  object\n",
      " 35  acarbose                  101766 non-null  object\n",
      " 36  miglitol                  101766 non-null  object\n",
      " 37  troglitazone              101766 non-null  object\n",
      " 38  tolazamide                101766 non-null  object\n",
      " 39  examide                   101766 non-null  object\n",
      " 40  citoglipton               101766 non-null  object\n",
      " 41  insulin                   101766 non-null  object\n",
      " 42  glyburide-metformin       101766 non-null  object\n",
      " 43  glipizide-metformin       101766 non-null  object\n",
      " 44  glimepiride-pioglitazone  101766 non-null  object\n",
      " 45  metformin-rosiglitazone   101766 non-null  object\n",
      " 46  metformin-pioglitazone    101766 non-null  object\n",
      " 47  change                    101766 non-null  object\n",
      " 48  diabetesMed               101766 non-null  object\n",
      " 49  readmitted                101766 non-null  object\n",
      "dtypes: int64(13), object(37)\n",
      "memory usage: 38.8+ MB\n"
     ]
    }
   ],
   "source": [
    "df.info()\n"
   ]
  },
  {
   "cell_type": "code",
   "execution_count": 5,
   "id": "05037be2",
   "metadata": {},
   "outputs": [],
   "source": [
    "#There are 50 features in this data. It conatins numerical values(int) and categorical values(object).\n",
    "\n",
    "#There are 101766 samples present in this dataset. There seem to be no null values.We will dig deep and find out more."
   ]
  },
  {
   "cell_type": "code",
   "execution_count": 6,
   "id": "39ba5d44",
   "metadata": {},
   "outputs": [
    {
     "data": {
      "text/html": [
       "<div>\n",
       "<style scoped>\n",
       "    .dataframe tbody tr th:only-of-type {\n",
       "        vertical-align: middle;\n",
       "    }\n",
       "\n",
       "    .dataframe tbody tr th {\n",
       "        vertical-align: top;\n",
       "    }\n",
       "\n",
       "    .dataframe thead th {\n",
       "        text-align: right;\n",
       "    }\n",
       "</style>\n",
       "<table border=\"1\" class=\"dataframe\">\n",
       "  <thead>\n",
       "    <tr style=\"text-align: right;\">\n",
       "      <th></th>\n",
       "      <th>encounter_id</th>\n",
       "      <th>patient_nbr</th>\n",
       "      <th>admission_type_id</th>\n",
       "      <th>discharge_disposition_id</th>\n",
       "      <th>admission_source_id</th>\n",
       "      <th>time_in_hospital</th>\n",
       "      <th>num_lab_procedures</th>\n",
       "      <th>num_procedures</th>\n",
       "      <th>num_medications</th>\n",
       "      <th>number_outpatient</th>\n",
       "      <th>number_emergency</th>\n",
       "      <th>number_inpatient</th>\n",
       "      <th>number_diagnoses</th>\n",
       "    </tr>\n",
       "  </thead>\n",
       "  <tbody>\n",
       "    <tr>\n",
       "      <th>count</th>\n",
       "      <td>1.017660e+05</td>\n",
       "      <td>1.017660e+05</td>\n",
       "      <td>101766.000000</td>\n",
       "      <td>101766.000000</td>\n",
       "      <td>101766.000000</td>\n",
       "      <td>101766.000000</td>\n",
       "      <td>101766.000000</td>\n",
       "      <td>101766.000000</td>\n",
       "      <td>101766.000000</td>\n",
       "      <td>101766.000000</td>\n",
       "      <td>101766.000000</td>\n",
       "      <td>101766.000000</td>\n",
       "      <td>101766.000000</td>\n",
       "    </tr>\n",
       "    <tr>\n",
       "      <th>mean</th>\n",
       "      <td>1.652016e+08</td>\n",
       "      <td>5.433040e+07</td>\n",
       "      <td>2.024006</td>\n",
       "      <td>3.715642</td>\n",
       "      <td>5.754437</td>\n",
       "      <td>4.395987</td>\n",
       "      <td>43.095641</td>\n",
       "      <td>1.339730</td>\n",
       "      <td>16.021844</td>\n",
       "      <td>0.369357</td>\n",
       "      <td>0.197836</td>\n",
       "      <td>0.635566</td>\n",
       "      <td>7.422607</td>\n",
       "    </tr>\n",
       "    <tr>\n",
       "      <th>std</th>\n",
       "      <td>1.026403e+08</td>\n",
       "      <td>3.869636e+07</td>\n",
       "      <td>1.445403</td>\n",
       "      <td>5.280166</td>\n",
       "      <td>4.064081</td>\n",
       "      <td>2.985108</td>\n",
       "      <td>19.674362</td>\n",
       "      <td>1.705807</td>\n",
       "      <td>8.127566</td>\n",
       "      <td>1.267265</td>\n",
       "      <td>0.930472</td>\n",
       "      <td>1.262863</td>\n",
       "      <td>1.933600</td>\n",
       "    </tr>\n",
       "    <tr>\n",
       "      <th>min</th>\n",
       "      <td>1.252200e+04</td>\n",
       "      <td>1.350000e+02</td>\n",
       "      <td>1.000000</td>\n",
       "      <td>1.000000</td>\n",
       "      <td>1.000000</td>\n",
       "      <td>1.000000</td>\n",
       "      <td>1.000000</td>\n",
       "      <td>0.000000</td>\n",
       "      <td>1.000000</td>\n",
       "      <td>0.000000</td>\n",
       "      <td>0.000000</td>\n",
       "      <td>0.000000</td>\n",
       "      <td>1.000000</td>\n",
       "    </tr>\n",
       "    <tr>\n",
       "      <th>25%</th>\n",
       "      <td>8.496119e+07</td>\n",
       "      <td>2.341322e+07</td>\n",
       "      <td>1.000000</td>\n",
       "      <td>1.000000</td>\n",
       "      <td>1.000000</td>\n",
       "      <td>2.000000</td>\n",
       "      <td>31.000000</td>\n",
       "      <td>0.000000</td>\n",
       "      <td>10.000000</td>\n",
       "      <td>0.000000</td>\n",
       "      <td>0.000000</td>\n",
       "      <td>0.000000</td>\n",
       "      <td>6.000000</td>\n",
       "    </tr>\n",
       "    <tr>\n",
       "      <th>50%</th>\n",
       "      <td>1.523890e+08</td>\n",
       "      <td>4.550514e+07</td>\n",
       "      <td>1.000000</td>\n",
       "      <td>1.000000</td>\n",
       "      <td>7.000000</td>\n",
       "      <td>4.000000</td>\n",
       "      <td>44.000000</td>\n",
       "      <td>1.000000</td>\n",
       "      <td>15.000000</td>\n",
       "      <td>0.000000</td>\n",
       "      <td>0.000000</td>\n",
       "      <td>0.000000</td>\n",
       "      <td>8.000000</td>\n",
       "    </tr>\n",
       "    <tr>\n",
       "      <th>75%</th>\n",
       "      <td>2.302709e+08</td>\n",
       "      <td>8.754595e+07</td>\n",
       "      <td>3.000000</td>\n",
       "      <td>4.000000</td>\n",
       "      <td>7.000000</td>\n",
       "      <td>6.000000</td>\n",
       "      <td>57.000000</td>\n",
       "      <td>2.000000</td>\n",
       "      <td>20.000000</td>\n",
       "      <td>0.000000</td>\n",
       "      <td>0.000000</td>\n",
       "      <td>1.000000</td>\n",
       "      <td>9.000000</td>\n",
       "    </tr>\n",
       "    <tr>\n",
       "      <th>max</th>\n",
       "      <td>4.438672e+08</td>\n",
       "      <td>1.895026e+08</td>\n",
       "      <td>8.000000</td>\n",
       "      <td>28.000000</td>\n",
       "      <td>25.000000</td>\n",
       "      <td>14.000000</td>\n",
       "      <td>132.000000</td>\n",
       "      <td>6.000000</td>\n",
       "      <td>81.000000</td>\n",
       "      <td>42.000000</td>\n",
       "      <td>76.000000</td>\n",
       "      <td>21.000000</td>\n",
       "      <td>16.000000</td>\n",
       "    </tr>\n",
       "  </tbody>\n",
       "</table>\n",
       "</div>"
      ],
      "text/plain": [
       "       encounter_id   patient_nbr  admission_type_id  \\\n",
       "count  1.017660e+05  1.017660e+05      101766.000000   \n",
       "mean   1.652016e+08  5.433040e+07           2.024006   \n",
       "std    1.026403e+08  3.869636e+07           1.445403   \n",
       "min    1.252200e+04  1.350000e+02           1.000000   \n",
       "25%    8.496119e+07  2.341322e+07           1.000000   \n",
       "50%    1.523890e+08  4.550514e+07           1.000000   \n",
       "75%    2.302709e+08  8.754595e+07           3.000000   \n",
       "max    4.438672e+08  1.895026e+08           8.000000   \n",
       "\n",
       "       discharge_disposition_id  admission_source_id  time_in_hospital  \\\n",
       "count             101766.000000        101766.000000     101766.000000   \n",
       "mean                   3.715642             5.754437          4.395987   \n",
       "std                    5.280166             4.064081          2.985108   \n",
       "min                    1.000000             1.000000          1.000000   \n",
       "25%                    1.000000             1.000000          2.000000   \n",
       "50%                    1.000000             7.000000          4.000000   \n",
       "75%                    4.000000             7.000000          6.000000   \n",
       "max                   28.000000            25.000000         14.000000   \n",
       "\n",
       "       num_lab_procedures  num_procedures  num_medications  number_outpatient  \\\n",
       "count       101766.000000   101766.000000    101766.000000      101766.000000   \n",
       "mean            43.095641        1.339730        16.021844           0.369357   \n",
       "std             19.674362        1.705807         8.127566           1.267265   \n",
       "min              1.000000        0.000000         1.000000           0.000000   \n",
       "25%             31.000000        0.000000        10.000000           0.000000   \n",
       "50%             44.000000        1.000000        15.000000           0.000000   \n",
       "75%             57.000000        2.000000        20.000000           0.000000   \n",
       "max            132.000000        6.000000        81.000000          42.000000   \n",
       "\n",
       "       number_emergency  number_inpatient  number_diagnoses  \n",
       "count     101766.000000     101766.000000     101766.000000  \n",
       "mean           0.197836          0.635566          7.422607  \n",
       "std            0.930472          1.262863          1.933600  \n",
       "min            0.000000          0.000000          1.000000  \n",
       "25%            0.000000          0.000000          6.000000  \n",
       "50%            0.000000          0.000000          8.000000  \n",
       "75%            0.000000          1.000000          9.000000  \n",
       "max           76.000000         21.000000         16.000000  "
      ]
     },
     "execution_count": 6,
     "metadata": {},
     "output_type": "execute_result"
    }
   ],
   "source": [
    "df.describe()"
   ]
  },
  {
   "cell_type": "markdown",
   "id": "79bfdc81",
   "metadata": {},
   "source": [
    "There are 50 features looking into all of these.\n",
    "\n",
    "1. encounter_id : unique identifier of an encounter"
   ]
  },
  {
   "cell_type": "code",
   "execution_count": 7,
   "id": "81fe7c05",
   "metadata": {},
   "outputs": [
    {
     "data": {
      "text/plain": [
       "101766"
      ]
     },
     "execution_count": 7,
     "metadata": {},
     "output_type": "execute_result"
    }
   ],
   "source": [
    "df['encounter_id'].nunique()\n"
   ]
  },
  {
   "cell_type": "markdown",
   "id": "b65cef0c",
   "metadata": {},
   "source": [
    "All the patients that have come to the hospital have been provided with an encounter_id so that is why there are 101766 different unique values.\n",
    "\n",
    "1. patient_nbr : unique identifier of a patient"
   ]
  },
  {
   "cell_type": "code",
   "execution_count": 8,
   "id": "36529ea7",
   "metadata": {},
   "outputs": [
    {
     "data": {
      "text/plain": [
       "71518"
      ]
     },
     "execution_count": 8,
     "metadata": {},
     "output_type": "execute_result"
    }
   ],
   "source": [
    "df['patient_nbr'].nunique()\n"
   ]
  },
  {
   "cell_type": "markdown",
   "id": "4b5b7c62",
   "metadata": {},
   "source": [
    "There are 71518 unique paitents that have entered the system.\n",
    "\n"
   ]
  },
  {
   "cell_type": "markdown",
   "id": "71f33cb0",
   "metadata": {},
   "source": [
    "encounter_id and patient_nbr: these are just identifiers and not useful variables so they can be dropped\n"
   ]
  },
  {
   "cell_type": "code",
   "execution_count": 9,
   "id": "4a201d51",
   "metadata": {},
   "outputs": [],
   "source": [
    "df = df.drop(columns=['encounter_id', 'patient_nbr'])"
   ]
  },
  {
   "cell_type": "markdown",
   "id": "75e48c87",
   "metadata": {},
   "source": [
    "1. race : It is a categorical variable."
   ]
  },
  {
   "cell_type": "code",
   "execution_count": 10,
   "id": "b3c437ff",
   "metadata": {},
   "outputs": [
    {
     "name": "stdout",
     "output_type": "stream",
     "text": [
      "Caucasian          76099\n",
      "AfricanAmerican    19210\n",
      "?                   2273\n",
      "Hispanic            2037\n",
      "Other               1506\n",
      "Asian                641\n",
      "Name: race, dtype: int64\n"
     ]
    },
    {
     "data": {
      "image/png": "[encoded data removed]",
      "text/plain": [
       "<Figure size 1080x360 with 1 Axes>"
      ]
     },
     "metadata": {},
     "output_type": "display_data"
    }
   ],
   "source": [
    "print(df['race'].value_counts())\n",
    "df['race'].value_counts().plot(kind='pie',autopct='%.2f%%',figsize=(15,5))\n",
    "plt.show()"
   ]
  },
  {
   "cell_type": "markdown",
   "id": "93353b63",
   "metadata": {},
   "source": [
    "There are 5 distinct categories under race feature. There are some unknown values here entered in the form of '?' which needs to be treated.\n"
   ]
  },
  {
   "cell_type": "code",
   "execution_count": 11,
   "id": "cffb00a4",
   "metadata": {},
   "outputs": [
    {
     "data": {
      "text/plain": [
       "2.2335554114340743"
      ]
     },
     "execution_count": 11,
     "metadata": {},
     "output_type": "execute_result"
    }
   ],
   "source": [
    "df['race'] = df['race'].replace('?',np.nan)\n",
    "df['race'].isna().sum()*100/df.shape[0]\n",
    "# Only 2.3 % of null values in column 'race'"
   ]
  },
  {
   "cell_type": "code",
   "execution_count": 12,
   "id": "de5e427e",
   "metadata": {},
   "outputs": [
    {
     "data": {
      "text/plain": [
       "101766"
      ]
     },
     "execution_count": 12,
     "metadata": {},
     "output_type": "execute_result"
    }
   ],
   "source": [
    "df.shape[0]"
   ]
  },
  {
   "cell_type": "markdown",
   "id": "a54cbc22",
   "metadata": {},
   "source": [
    "For null value filling we tried replacing with mode,substituing according to the prob distribution,dropping null values but dropping the null values seemed to get the best results.\n"
   ]
  },
  {
   "cell_type": "code",
   "execution_count": 13,
   "id": "d7536f57",
   "metadata": {},
   "outputs": [],
   "source": [
    "df = df.dropna()"
   ]
  },
  {
   "cell_type": "code",
   "execution_count": 14,
   "id": "6c46e72c",
   "metadata": {},
   "outputs": [
    {
     "data": {
      "text/plain": [
       "(99493, 48)"
      ]
     },
     "execution_count": 14,
     "metadata": {},
     "output_type": "execute_result"
    }
   ],
   "source": [
    "df.shape"
   ]
  },
  {
   "cell_type": "markdown",
   "id": "2ee68223",
   "metadata": {},
   "source": [
    "1. gender: It is a categorical feature depicting the gender of the patient.\n"
   ]
  },
  {
   "cell_type": "code",
   "execution_count": 15,
   "id": "56bc39ae",
   "metadata": {},
   "outputs": [
    {
     "data": {
      "image/png": "[encoded data removed]",
      "text/plain": [
       "<Figure size 432x288 with 1 Axes>"
      ]
     },
     "metadata": {
      "needs_background": "light"
     },
     "output_type": "display_data"
    },
    {
     "name": "stdout",
     "output_type": "stream",
     "text": [
      "Female             53575\n",
      "Male               45917\n",
      "Unknown/Invalid        1\n",
      "Name: gender, dtype: int64\n"
     ]
    }
   ],
   "source": [
    "sns.countplot(df.gender)\n",
    "plt.show()\n",
    "print(df.gender.value_counts())"
   ]
  },
  {
   "cell_type": "markdown",
   "id": "dd7feae9",
   "metadata": {},
   "source": [
    "There are 2 categories here: female, male. There is a 3rd category of unknown/invalid which are missing/unknown values which only have 1 value hence they can be dropped."
   ]
  },
  {
   "cell_type": "code",
   "execution_count": 16,
   "id": "2713e43a",
   "metadata": {},
   "outputs": [],
   "source": [
    "df = df[df['gender'] != 'Unknown/Invalid']"
   ]
  },
  {
   "cell_type": "code",
   "execution_count": 17,
   "id": "93b89f0b",
   "metadata": {},
   "outputs": [],
   "source": [
    "#encoding gender\n",
    "df['gender'] = df['gender'].replace({'Female' : 0, 'Male' : 1})"
   ]
  },
  {
   "cell_type": "markdown",
   "id": "a06648e1",
   "metadata": {},
   "source": [
    "Age: It is a categorical feature as the age is grouped here in bins of 10 yrs\n"
   ]
  },
  {
   "cell_type": "code",
   "execution_count": 18,
   "id": "62dfa8f3",
   "metadata": {},
   "outputs": [
    {
     "data": {
      "image/png": "[encoded data removed]",
      "text/plain": [
       "<Figure size 432x288 with 1 Axes>"
      ]
     },
     "metadata": {
      "needs_background": "light"
     },
     "output_type": "display_data"
    }
   ],
   "source": [
    "# check 'age' feature\n",
    "df.groupby('age').size().plot(kind='bar')\n",
    "plt.ylabel('Count')\n",
    "plt.show()"
   ]
  },
  {
   "cell_type": "markdown",
   "id": "abf8e516",
   "metadata": {},
   "source": [
    "The age here range from 0 to 100 yrs.\n",
    "\n",
    "The population falling in the range of 50 to 90 yrs are mostly present in this dataset.\n",
    "\n",
    "Converting age into numerical value, the various ways tried:\n",
    "\n",
    "replacing each of the range with the min value\n",
    "\n",
    "replacing each of the range with the max value\n",
    "\n",
    "replacing each of the range with the mid values\n",
    "\n",
    "created 5 Categories (0-20) (20-40) (40-60) (60-90) (90-100) then replacing with min,max,mid values\n",
    "\n",
    "3 Categories (0-40) (40-90) (90-100) then replacing with min,max,mid values\n",
    "\n",
    "3 Categories (0-50) (50-90) (90-100) then replacing with min,max,mid values\n",
    "\n",
    "4 Categories According to Age Range - Child (0-10), Teen (10-20), Adult (20-60), Old (60-100) then replacing with min,max,mid values\n",
    "\n",
    "3 Categories According to Age Range - Young (0-20), Adult (20-60), Old (60-100) then replacing with min,max,mid values\n",
    "\n",
    "5 Categories According to Readmission Rate A,B,C,D,E :\n",
    "\n",
    "                      '[0-10)' : 'A',\n",
    "                      '[10-20)' : 'A',\n",
    "                      '[20-30)' : 'B',\n",
    "                      '[30-40)' : 'B',\n",
    "                      '[40-50)' : 'C',\n",
    "                      '[50-60)' : 'C',\n",
    "                      '[60-70)' : 'D',\n",
    "                      '[70-80)' : 'E',\n",
    "                      '[80-90)' : 'D',\n",
    "                      '[90-100)' : 'B'\n",
    "                      \n",
    "Treating age column by taking the middle value"
   ]
  },
  {
   "cell_type": "code",
   "execution_count": 19,
   "id": "96a0d039",
   "metadata": {},
   "outputs": [
    {
     "data": {
      "text/plain": [
       "75    25468\n",
       "65    21988\n",
       "55    16895\n",
       "85    16800\n",
       "45     9465\n",
       "35     3699\n",
       "95     2724\n",
       "25     1611\n",
       "15      682\n",
       "5       160\n",
       "Name: age, dtype: int64"
      ]
     },
     "execution_count": 19,
     "metadata": {},
     "output_type": "execute_result"
    }
   ],
   "source": [
    "#Age\n",
    "# Modify age column\n",
    "df['age'] = df['age'].map({'[70-80)': 75,\n",
    "                                       '[60-70)': 65,\n",
    "                                       '[80-90)': 85,\n",
    "                                       '[50-60)': 55,\n",
    "                                       '[40-50)':45,\n",
    "                                       '[30-40)': 35,\n",
    "                                       '[90-100)':95,\n",
    "                                       '[20-30)':25,\n",
    "                                       '[10-20)':15,\n",
    "                                       '[0-10)': 5})\n",
    "df['age'].value_counts()"
   ]
  },
  {
   "cell_type": "markdown",
   "id": "d760f449",
   "metadata": {},
   "source": [
    "1. Weight : weight in pounds.\n"
   ]
  },
  {
   "cell_type": "code",
   "execution_count": 20,
   "id": "58b6f303",
   "metadata": {},
   "outputs": [
    {
     "data": {
      "text/plain": [
       "?            96.925381\n",
       "[75-100)      1.285530\n",
       "[50-75)       0.865396\n",
       "[100-125)     0.599043\n",
       "[125-150)     0.136694\n",
       "[25-50)       0.093475\n",
       "[0-25)        0.047240\n",
       "[150-175)     0.034174\n",
       "[175-200)     0.010051\n",
       ">200          0.003015\n",
       "Name: weight, dtype: float64"
      ]
     },
     "execution_count": 20,
     "metadata": {},
     "output_type": "execute_result"
    }
   ],
   "source": [
    "df.weight.value_counts(1)*100\n"
   ]
  },
  {
   "cell_type": "markdown",
   "id": "b558dd4f",
   "metadata": {},
   "source": [
    "Weight is also divided into bins of 25 pounds, but 96.9% part of the weight has unknown values. So we can drop this column.\n",
    "\n"
   ]
  },
  {
   "cell_type": "code",
   "execution_count": 21,
   "id": "f2455630",
   "metadata": {},
   "outputs": [],
   "source": [
    "df.drop(['weight'],axis=1,inplace=True)\n"
   ]
  },
  {
   "cell_type": "markdown",
   "id": "f87a60f0",
   "metadata": {},
   "source": [
    "1.admission_type_id : Integer identifier corresponding to 8 distinct values, for example, emergency, urgent, elective, newborn, and not available\n"
   ]
  },
  {
   "cell_type": "code",
   "execution_count": 22,
   "id": "7f510847",
   "metadata": {},
   "outputs": [
    {
     "data": {
      "text/plain": [
       "8"
      ]
     },
     "execution_count": 22,
     "metadata": {},
     "output_type": "execute_result"
    }
   ],
   "source": [
    "df.admission_type_id.nunique()\n"
   ]
  },
  {
   "cell_type": "markdown",
   "id": "15a71fef",
   "metadata": {},
   "source": [
    "There are 8 unique values ranging from 1 to 8. These 8 values correspond to :\n",
    "\n",
    "1 Emergency\n",
    "\n",
    "2 Urgent\n",
    "\n",
    "3 Elective\n",
    "\n",
    "4 Newborn\n",
    "\n",
    "5 Not Available\n",
    "\n",
    "6 NULL\n",
    "\n",
    "7 Trauma Center\n",
    "\n",
    "8 Not Mapped\n",
    "\n",
    "For further analysis we can merger these categories into less number of categories.\n",
    "\n",
    "Emeregncy/Urgent/Trauma Center ---> Emergency\n",
    "\n",
    "Not Available/Null/Not Mapped ---> Not Available\n",
    "\n",
    "Elective ---> Elective\n",
    "\n",
    "New Born ---> New Born"
   ]
  },
  {
   "cell_type": "code",
   "execution_count": 23,
   "id": "f40a819e",
   "metadata": {},
   "outputs": [],
   "source": [
    "df['admission_type_id']=df['admission_type_id'].replace({1:'Emergency',2:'Emergency',7:'Emergency',\n",
    "                                 5:'Not Available', 6:'Not Available', 8:'Not Available',\n",
    "                                 3:'Elective',4:'Newborn'})"
   ]
  },
  {
   "cell_type": "code",
   "execution_count": 24,
   "id": "1c0e0817",
   "metadata": {},
   "outputs": [
    {
     "data": {
      "image/png": "[encoded data removed]",
      "text/plain": [
       "<Figure size 432x288 with 1 Axes>"
      ]
     },
     "metadata": {
      "needs_background": "light"
     },
     "output_type": "display_data"
    }
   ],
   "source": [
    "sns.countplot(df['admission_type_id'])\n",
    "plt.show()"
   ]
  },
  {
   "cell_type": "markdown",
   "id": "e5b0c4ee",
   "metadata": {},
   "source": [
    "From this we can see that the majority patients that have been admitted in this hospital have an admission type as emergency.\n",
    "\n"
   ]
  },
  {
   "cell_type": "code",
   "execution_count": 25,
   "id": "ddb4fc63",
   "metadata": {},
   "outputs": [
    {
     "data": {
      "text/html": [
       "<div>\n",
       "<style scoped>\n",
       "    .dataframe tbody tr th:only-of-type {\n",
       "        vertical-align: middle;\n",
       "    }\n",
       "\n",
       "    .dataframe tbody tr th {\n",
       "        vertical-align: top;\n",
       "    }\n",
       "\n",
       "    .dataframe thead th {\n",
       "        text-align: right;\n",
       "    }\n",
       "</style>\n",
       "<table border=\"1\" class=\"dataframe\">\n",
       "  <thead>\n",
       "    <tr style=\"text-align: right;\">\n",
       "      <th></th>\n",
       "      <th>gender</th>\n",
       "      <th>age</th>\n",
       "      <th>admission_type_id</th>\n",
       "    </tr>\n",
       "  </thead>\n",
       "  <tbody>\n",
       "    <tr>\n",
       "      <th>2043</th>\n",
       "      <td>1</td>\n",
       "      <td>55</td>\n",
       "      <td>Newborn</td>\n",
       "    </tr>\n",
       "    <tr>\n",
       "      <th>2203</th>\n",
       "      <td>1</td>\n",
       "      <td>85</td>\n",
       "      <td>Newborn</td>\n",
       "    </tr>\n",
       "    <tr>\n",
       "      <th>2461</th>\n",
       "      <td>1</td>\n",
       "      <td>75</td>\n",
       "      <td>Newborn</td>\n",
       "    </tr>\n",
       "    <tr>\n",
       "      <th>4823</th>\n",
       "      <td>0</td>\n",
       "      <td>65</td>\n",
       "      <td>Newborn</td>\n",
       "    </tr>\n",
       "    <tr>\n",
       "      <th>35877</th>\n",
       "      <td>1</td>\n",
       "      <td>65</td>\n",
       "      <td>Newborn</td>\n",
       "    </tr>\n",
       "    <tr>\n",
       "      <th>47548</th>\n",
       "      <td>1</td>\n",
       "      <td>45</td>\n",
       "      <td>Newborn</td>\n",
       "    </tr>\n",
       "    <tr>\n",
       "      <th>48711</th>\n",
       "      <td>0</td>\n",
       "      <td>75</td>\n",
       "      <td>Newborn</td>\n",
       "    </tr>\n",
       "    <tr>\n",
       "      <th>80354</th>\n",
       "      <td>0</td>\n",
       "      <td>5</td>\n",
       "      <td>Newborn</td>\n",
       "    </tr>\n",
       "    <tr>\n",
       "      <th>87714</th>\n",
       "      <td>1</td>\n",
       "      <td>65</td>\n",
       "      <td>Newborn</td>\n",
       "    </tr>\n",
       "    <tr>\n",
       "      <th>100721</th>\n",
       "      <td>1</td>\n",
       "      <td>85</td>\n",
       "      <td>Newborn</td>\n",
       "    </tr>\n",
       "  </tbody>\n",
       "</table>\n",
       "</div>"
      ],
      "text/plain": [
       "        gender  age admission_type_id\n",
       "2043         1   55           Newborn\n",
       "2203         1   85           Newborn\n",
       "2461         1   75           Newborn\n",
       "4823         0   65           Newborn\n",
       "35877        1   65           Newborn\n",
       "47548        1   45           Newborn\n",
       "48711        0   75           Newborn\n",
       "80354        0    5           Newborn\n",
       "87714        1   65           Newborn\n",
       "100721       1   85           Newborn"
      ]
     },
     "execution_count": 25,
     "metadata": {},
     "output_type": "execute_result"
    }
   ],
   "source": [
    "df[df['admission_type_id']== 'Newborn'][['gender','age','admission_type_id']]\n"
   ]
  },
  {
   "cell_type": "markdown",
   "id": "67731712",
   "metadata": {},
   "source": [
    "Droppping the category new born because the admission_type_id == newborn and the age and gender corresponding to it gives contradictory information.\n",
    "\n"
   ]
  },
  {
   "cell_type": "code",
   "execution_count": 26,
   "id": "a4e1d9a6",
   "metadata": {},
   "outputs": [],
   "source": [
    "df=df[df['admission_type_id']!='Newborn']\n"
   ]
  },
  {
   "cell_type": "code",
   "execution_count": 27,
   "id": "4db27723",
   "metadata": {},
   "outputs": [
    {
     "data": {
      "text/plain": [
       "Emergency        70706\n",
       "Elective         18507\n",
       "Not Available    10269\n",
       "Name: admission_type_id, dtype: int64"
      ]
     },
     "execution_count": 27,
     "metadata": {},
     "output_type": "execute_result"
    }
   ],
   "source": [
    "df.admission_type_id.value_counts()\n"
   ]
  },
  {
   "cell_type": "markdown",
   "id": "16f3601d",
   "metadata": {},
   "source": [
    "1. Discharge disposition: Integer identifier corresponding to 26 distinct values, for example, discharged to home, expired, and not available\n"
   ]
  },
  {
   "cell_type": "markdown",
   "id": "d3f797ec",
   "metadata": {},
   "source": [
    "discharge_disposition_id description"
   ]
  },
  {
   "cell_type": "markdown",
   "id": "b68e7d8d",
   "metadata": {},
   "source": [
    "1 Discharged to home\n",
    "\n",
    "2 Discharged/transferred to another short term hospital\n",
    "\n",
    "3 Discharged/transferred to SNF(skilled nursing facility)\n",
    "\n",
    "4 Discharged/transferred to ICF(intermediate care facility)\n",
    "\n",
    "5 Discharged/transferred to another type of inpatient care institution\n",
    "\n",
    "6 Discharged/transferred to home with home health service\n",
    "\n",
    "7 Left AMA(Against Medical Advice.)\n",
    "\n",
    "8 Discharged/transferred to home under care of Home IV provider\n",
    "\n",
    "9 Admitted as an inpatient to this hospital\n",
    "\n",
    "10 Neonate discharged to another hospital for neonatal aftercare\n",
    "\n",
    "11 Expired\n",
    "\n",
    "12 Still patient or expected to return for outpatient services\n",
    "\n",
    "13 Hospice / home\n",
    "\n",
    "14 Hospice / medical facility\n",
    "\n",
    "15 Discharged/transferred within this institution to Medicare approved swing bed\n",
    "\n",
    "16 Discharged/transferred/referred another institution for outpatient services\n",
    "\n",
    "17 Discharged/transferred/referred to this institution for outpatient services\n",
    "\n",
    "18 NULL\n",
    "\n",
    "19 Expired at home. Medicaid only, hospice.\n",
    "\n",
    "20 Expired in a medical facility. Medicaid only, hospice.\n",
    "\n",
    "21 Expired, place unknown. Medicaid only, hospice.\n",
    "\n",
    "22 Discharged/transferred to another rehab fac including rehab units of a hospital .\n",
    "\n",
    "23 Discharged/transferred to a long term care hospital.\n",
    "\n",
    "24 Discharged/transferred to a nursing facility certified under Medicaid but not certified under Medicare.\n",
    "\n",
    "25 Not Mapped\n",
    "\n",
    "26 Unknown/Invalid\n",
    "\n",
    "30 Discharged/transferred to another Type of Health Care Institution not Defined Elsewhere\n",
    "\n",
    "27 Discharged/transferred to a federal health care facility.\n",
    "\n",
    "28 Discharged/transferred/referred to a psychiatric hospital of psychiatric distinct part unit of a hospital\n",
    "\n",
    "29 Discharged/transferred to a Critical Access Hospital (CAH).\n",
    "\n",
    "We can merge several grps over here to reduce the number of categories:\n",
    "    \n",
    "1 ---> Discharged to home\n",
    "\n",
    "2/3/4/5/10/16/22/23/24/30/27/28/29 ---> Transferred to another medical facility\n",
    "\n",
    "7 ---> Left AMA(Against Medical Advice.)\n",
    "\n",
    "6/8 ---> Discharged to home with home health service\n",
    "\n",
    "9/12/15/17 ---> Still patient/referred to this institution\n",
    "\n",
    "11/19/20/21 ---> Expired\n",
    "\n",
    "18/25/26 ---> Not Available\n",
    "\n",
    "13/14 ---> Hospice"
   ]
  },
  {
   "cell_type": "code",
   "execution_count": 28,
   "id": "e6f725e3",
   "metadata": {},
   "outputs": [],
   "source": [
    "df['discharge_disposition_id']=df['discharge_disposition_id'].replace({1:'Discharged to home',\n",
    "                                        2:'Transferred to another medical facility',\n",
    "                                        3:'Transferred to another medical facility',\n",
    "                                        4:'Transferred to another medical facility',\n",
    "                                        5:'Transferred to another medical facility',\n",
    "                                        16:'Transferred to another medical facility',\n",
    "                                        22:'Transferred to another medical facility',\n",
    "                                        23:'Transferred to another medical facility',\n",
    "                                        24:'Transferred to another medical facility',\n",
    "                                        27:'Transferred to another medical facility',\n",
    "                                        28:'Transferred to another medical facility',\n",
    "                                        29:'Transferred to another medical facility',\n",
    "                                        30:'Transferred to another medical facility',                            \n",
    "                                        6:'Discharged to home with home health service',\n",
    "                                        8:'Discharged to home with home health service',\n",
    "                                        7:'Left AMA',\n",
    "                                        9:'Still patient/referred to this institution',\n",
    "                                        12:'Still patient/referred to this institution',\n",
    "                                        15:'Still patient/referred to this institution',\n",
    "                                        17:'Still patient/referred to this institution',\n",
    "                                        10:'Neonate discharged',\n",
    "                                        11:'Expired',\n",
    "                                        19:'Expired',\n",
    "                                        20:'Expired',\n",
    "                                        21:'Expired',\n",
    "                                        13:'Hospice',\n",
    "                                        14:'Hospice',\n",
    "                                        18:'Not Available',\n",
    "                                        25:'Not Available',\n",
    "                                        26:'Not Available'})"
   ]
  },
  {
   "cell_type": "code",
   "execution_count": 29,
   "id": "56d0abda",
   "metadata": {},
   "outputs": [
    {
     "data": {
      "text/plain": [
       "Discharged to home                             58761\n",
       "Transferred to another medical facility        20172\n",
       "Discharged to home with home health service    12801\n",
       "Not Available                                   4646\n",
       "Expired                                         1618\n",
       "Hospice                                          766\n",
       "Left AMA                                         611\n",
       "Still patient/referred to this institution       101\n",
       "Neonate discharged                                 6\n",
       "Name: discharge_disposition_id, dtype: int64"
      ]
     },
     "execution_count": 29,
     "metadata": {},
     "output_type": "execute_result"
    }
   ],
   "source": [
    "df.discharge_disposition_id.value_counts()\n"
   ]
  },
  {
   "cell_type": "markdown",
   "id": "0cb81eaa",
   "metadata": {},
   "source": [
    "The patients who have expired should be removed from the system beacuse they will create bias as they will not be readmitted.\n",
    "\n"
   ]
  },
  {
   "cell_type": "code",
   "execution_count": 30,
   "id": "6d0dbc4f",
   "metadata": {},
   "outputs": [],
   "source": [
    "df=df[df['discharge_disposition_id']!='Expired']\n",
    "df=df[df['discharge_disposition_id']!='Neonate discharged']\n",
    "df=df[df['discharge_disposition_id']!='Hospice']"
   ]
  },
  {
   "cell_type": "markdown",
   "id": "12bc1acb",
   "metadata": {},
   "source": [
    "1. admission_source_id: Integer identifier corresponding to 17 distinct values, for example, physician referral, emergency room, and transfer from a hospital\n"
   ]
  },
  {
   "cell_type": "code",
   "execution_count": 31,
   "id": "79ab988f",
   "metadata": {},
   "outputs": [
    {
     "data": {
      "text/plain": [
       "1     28456\n",
       "2      1021\n",
       "3       185\n",
       "4      2918\n",
       "5       800\n",
       "6      1964\n",
       "7     55007\n",
       "8        15\n",
       "9        54\n",
       "10        7\n",
       "11        2\n",
       "13        1\n",
       "14        1\n",
       "17     6489\n",
       "20      158\n",
       "22       12\n",
       "25        2\n",
       "Name: admission_source_id, dtype: int64"
      ]
     },
     "execution_count": 31,
     "metadata": {},
     "output_type": "execute_result"
    }
   ],
   "source": [
    "df.admission_source_id.value_counts(sort=False)\n"
   ]
  },
  {
   "cell_type": "markdown",
   "id": "a83601da",
   "metadata": {},
   "source": [
    "1 Physician Referral\n",
    "\n",
    "2 Clinic Referral\n",
    "\n",
    "3 HMO Referral(Health Maintenance Organization)\n",
    "\n",
    "4 Transfer from a hospital\n",
    "\n",
    "5 Transfer from a Skilled Nursing Facility (SNF)\n",
    "\n",
    "6 Transfer from another health care facility\n",
    "\n",
    "7 Emergency Room\n",
    "\n",
    "8 Court/Law Enforcement\n",
    "\n",
    "9 Not Available\n",
    "\n",
    "10 Transfer from critial access hospital\n",
    "\n",
    "11 Normal Delivery\n",
    "\n",
    "12 Premature Delivery\n",
    "\n",
    "13 Sick Baby\n",
    "\n",
    "14 Extramural Birth\n",
    "\n",
    "15 Not Available\n",
    "\n",
    "17 NULL\n",
    "\n",
    "18 Transfer From Another Home Health Agency\n",
    "\n",
    "19 Readmission to Same Home Health Agency\n",
    "\n",
    "20 Not Mapped\n",
    "\n",
    "21 Unknown/Invalid\n",
    "\n",
    "22 Transfer from hospital inpt/same fac reslt in a sep claim\n",
    "\n",
    "23 Born inside this hospital\n",
    "\n",
    "24 Born outside this hospital\n",
    "\n",
    "25 Transfer from Ambulatory Surgery Center\n",
    "\n",
    "26 Transfer from Hospice\n",
    "\n",
    "We can merge several grps over here to reduce the number of categories:\n",
    "1/2/3 ---> Referral\n",
    "\n",
    "4/5/6/10/18/19/25/26/22 ---> Transferred from another health care facility\n",
    "\n",
    "7 ---> Emergency\n",
    "\n",
    "9/15/17/20/21 ---> Not Available\n",
    "\n",
    "8 ---> Court/Law Enforcement\n",
    "\n",
    "Delivery ---> 11/12/14/13/23/24"
   ]
  },
  {
   "cell_type": "code",
   "execution_count": 32,
   "id": "65c2397b",
   "metadata": {},
   "outputs": [],
   "source": [
    "df['admission_source_id']=df['admission_source_id'].replace({1:'Referral',\n",
    "                                   2:'Referral',\n",
    "                                   3:'Referral',\n",
    "                                   4:'Transferred from another health care facility',\n",
    "                                   5:'Transferred from another health care facility',\n",
    "                                   6:'Transferred from another health care facility',\n",
    "                                   8:'Emergency',                                    \n",
    "                                   10:'Transferred from another health care facility',\n",
    "                                   18:'Transferred from another health care facility',\n",
    "                                   19:'Transferred from another health care facility',\n",
    "                                   25:'Transferred from another health care facility',\n",
    "                                   26:'Transferred from another health care facility',\n",
    "                                   7:'Emergency',\n",
    "                                   9:'Not Available',\n",
    "                                   15:'Not Available',\n",
    "                                   17:'Not Available',\n",
    "                                   20:'Not Available',\n",
    "                                   21:'Not Available',\n",
    "                                   11:'Delivery',\n",
    "                                   12:'Delivery',\n",
    "                                   13:'Delivery',\n",
    "                                   14:'Delivery',\n",
    "                                   23:'Delivery',\n",
    "                                   22:\"Transferred from another health care facility\",                                    \n",
    "                                   24:'Delivery'})"
   ]
  },
  {
   "cell_type": "code",
   "execution_count": 33,
   "id": "94715e19",
   "metadata": {},
   "outputs": [
    {
     "data": {
      "text/plain": [
       "Emergency                                        55022\n",
       "Referral                                         29662\n",
       "Not Available                                     6701\n",
       "Transferred from another health care facility     5703\n",
       "Delivery                                             4\n",
       "Name: admission_source_id, dtype: int64"
      ]
     },
     "execution_count": 33,
     "metadata": {},
     "output_type": "execute_result"
    }
   ],
   "source": [
    "df.admission_source_id.value_counts()\n"
   ]
  },
  {
   "cell_type": "code",
   "execution_count": 34,
   "id": "c97e08c2",
   "metadata": {},
   "outputs": [
    {
     "data": {
      "text/html": [
       "<div>\n",
       "<style scoped>\n",
       "    .dataframe tbody tr th:only-of-type {\n",
       "        vertical-align: middle;\n",
       "    }\n",
       "\n",
       "    .dataframe tbody tr th {\n",
       "        vertical-align: top;\n",
       "    }\n",
       "\n",
       "    .dataframe thead th {\n",
       "        text-align: right;\n",
       "    }\n",
       "</style>\n",
       "<table border=\"1\" class=\"dataframe\">\n",
       "  <thead>\n",
       "    <tr style=\"text-align: right;\">\n",
       "      <th></th>\n",
       "      <th>gender</th>\n",
       "      <th>age</th>\n",
       "      <th>admission_source_id</th>\n",
       "    </tr>\n",
       "  </thead>\n",
       "  <tbody>\n",
       "    <tr>\n",
       "      <th>83432</th>\n",
       "      <td>0</td>\n",
       "      <td>75</td>\n",
       "      <td>Delivery</td>\n",
       "    </tr>\n",
       "    <tr>\n",
       "      <th>83510</th>\n",
       "      <td>0</td>\n",
       "      <td>25</td>\n",
       "      <td>Delivery</td>\n",
       "    </tr>\n",
       "    <tr>\n",
       "      <th>85588</th>\n",
       "      <td>0</td>\n",
       "      <td>75</td>\n",
       "      <td>Delivery</td>\n",
       "    </tr>\n",
       "    <tr>\n",
       "      <th>97384</th>\n",
       "      <td>1</td>\n",
       "      <td>75</td>\n",
       "      <td>Delivery</td>\n",
       "    </tr>\n",
       "  </tbody>\n",
       "</table>\n",
       "</div>"
      ],
      "text/plain": [
       "       gender  age admission_source_id\n",
       "83432       0   75            Delivery\n",
       "83510       0   25            Delivery\n",
       "85588       0   75            Delivery\n",
       "97384       1   75            Delivery"
      ]
     },
     "execution_count": 34,
     "metadata": {},
     "output_type": "execute_result"
    }
   ],
   "source": [
    "df[df['admission_source_id']=='Delivery'][['gender','age','admission_source_id']]\n"
   ]
  },
  {
   "cell_type": "markdown",
   "id": "4815beb5",
   "metadata": {},
   "source": [
    "Droppping the category delivery because the admission_source_id == delivery and the age corresponding to it give contradictory information.\n",
    "\n"
   ]
  },
  {
   "cell_type": "code",
   "execution_count": 35,
   "id": "071f1d15",
   "metadata": {},
   "outputs": [],
   "source": [
    "df=df[df['admission_source_id']!='Delivery']\n"
   ]
  },
  {
   "cell_type": "markdown",
   "id": "ccbfb533",
   "metadata": {},
   "source": [
    "Since we have 2 columns regarding admission, type_id and source_id, we used this information to fill the ‘Not Available’ values in admssion_source_id columns with respect to the admission_type_id. For example, if admission_type_id is Emergency but admission_source_id is Not Available, we can fill Emergency(mode) in that place.\n",
    "\n",
    "After filling it admission_type_id column was dropped since it was giving the same information as admission_source_id and was less significant statistically."
   ]
  },
  {
   "cell_type": "code",
   "execution_count": 36,
   "id": "fa2b0e5e",
   "metadata": {},
   "outputs": [],
   "source": [
    "df = df.reset_index(drop = True )\n"
   ]
  },
  {
   "cell_type": "code",
   "execution_count": 37,
   "id": "2959c6f2",
   "metadata": {},
   "outputs": [
    {
     "data": {
      "text/html": [
       "<div>\n",
       "<style scoped>\n",
       "    .dataframe tbody tr th:only-of-type {\n",
       "        vertical-align: middle;\n",
       "    }\n",
       "\n",
       "    .dataframe tbody tr th {\n",
       "        vertical-align: top;\n",
       "    }\n",
       "\n",
       "    .dataframe thead th {\n",
       "        text-align: right;\n",
       "    }\n",
       "</style>\n",
       "<table border=\"1\" class=\"dataframe\">\n",
       "  <thead>\n",
       "    <tr style=\"text-align: right;\">\n",
       "      <th></th>\n",
       "      <th>race</th>\n",
       "      <th>gender</th>\n",
       "      <th>age</th>\n",
       "      <th>admission_type_id</th>\n",
       "      <th>discharge_disposition_id</th>\n",
       "      <th>admission_source_id</th>\n",
       "      <th>time_in_hospital</th>\n",
       "      <th>payer_code</th>\n",
       "      <th>medical_specialty</th>\n",
       "      <th>num_lab_procedures</th>\n",
       "      <th>num_procedures</th>\n",
       "      <th>num_medications</th>\n",
       "      <th>number_outpatient</th>\n",
       "      <th>number_emergency</th>\n",
       "      <th>number_inpatient</th>\n",
       "      <th>diag_1</th>\n",
       "      <th>diag_2</th>\n",
       "      <th>diag_3</th>\n",
       "      <th>number_diagnoses</th>\n",
       "      <th>max_glu_serum</th>\n",
       "      <th>A1Cresult</th>\n",
       "      <th>metformin</th>\n",
       "      <th>repaglinide</th>\n",
       "      <th>nateglinide</th>\n",
       "      <th>chlorpropamide</th>\n",
       "      <th>glimepiride</th>\n",
       "      <th>acetohexamide</th>\n",
       "      <th>glipizide</th>\n",
       "      <th>glyburide</th>\n",
       "      <th>tolbutamide</th>\n",
       "      <th>pioglitazone</th>\n",
       "      <th>rosiglitazone</th>\n",
       "      <th>acarbose</th>\n",
       "      <th>miglitol</th>\n",
       "      <th>troglitazone</th>\n",
       "      <th>tolazamide</th>\n",
       "      <th>examide</th>\n",
       "      <th>citoglipton</th>\n",
       "      <th>insulin</th>\n",
       "      <th>glyburide-metformin</th>\n",
       "      <th>glipizide-metformin</th>\n",
       "      <th>glimepiride-pioglitazone</th>\n",
       "      <th>metformin-rosiglitazone</th>\n",
       "      <th>metformin-pioglitazone</th>\n",
       "      <th>change</th>\n",
       "      <th>diabetesMed</th>\n",
       "      <th>readmitted</th>\n",
       "    </tr>\n",
       "  </thead>\n",
       "  <tbody>\n",
       "    <tr>\n",
       "      <th>0</th>\n",
       "      <td>Caucasian</td>\n",
       "      <td>0</td>\n",
       "      <td>5</td>\n",
       "      <td>Not Available</td>\n",
       "      <td>Not Available</td>\n",
       "      <td>Referral</td>\n",
       "      <td>1</td>\n",
       "      <td>?</td>\n",
       "      <td>Pediatrics-Endocrinology</td>\n",
       "      <td>41</td>\n",
       "      <td>0</td>\n",
       "      <td>1</td>\n",
       "      <td>0</td>\n",
       "      <td>0</td>\n",
       "      <td>0</td>\n",
       "      <td>250.83</td>\n",
       "      <td>?</td>\n",
       "      <td>?</td>\n",
       "      <td>1</td>\n",
       "      <td>None</td>\n",
       "      <td>None</td>\n",
       "      <td>No</td>\n",
       "      <td>No</td>\n",
       "      <td>No</td>\n",
       "      <td>No</td>\n",
       "      <td>No</td>\n",
       "      <td>No</td>\n",
       "      <td>No</td>\n",
       "      <td>No</td>\n",
       "      <td>No</td>\n",
       "      <td>No</td>\n",
       "      <td>No</td>\n",
       "      <td>No</td>\n",
       "      <td>No</td>\n",
       "      <td>No</td>\n",
       "      <td>No</td>\n",
       "      <td>No</td>\n",
       "      <td>No</td>\n",
       "      <td>No</td>\n",
       "      <td>No</td>\n",
       "      <td>No</td>\n",
       "      <td>No</td>\n",
       "      <td>No</td>\n",
       "      <td>No</td>\n",
       "      <td>No</td>\n",
       "      <td>No</td>\n",
       "      <td>NO</td>\n",
       "    </tr>\n",
       "    <tr>\n",
       "      <th>1</th>\n",
       "      <td>Caucasian</td>\n",
       "      <td>0</td>\n",
       "      <td>15</td>\n",
       "      <td>Emergency</td>\n",
       "      <td>Discharged to home</td>\n",
       "      <td>Emergency</td>\n",
       "      <td>3</td>\n",
       "      <td>?</td>\n",
       "      <td>?</td>\n",
       "      <td>59</td>\n",
       "      <td>0</td>\n",
       "      <td>18</td>\n",
       "      <td>0</td>\n",
       "      <td>0</td>\n",
       "      <td>0</td>\n",
       "      <td>276</td>\n",
       "      <td>250.01</td>\n",
       "      <td>255</td>\n",
       "      <td>9</td>\n",
       "      <td>None</td>\n",
       "      <td>None</td>\n",
       "      <td>No</td>\n",
       "      <td>No</td>\n",
       "      <td>No</td>\n",
       "      <td>No</td>\n",
       "      <td>No</td>\n",
       "      <td>No</td>\n",
       "      <td>No</td>\n",
       "      <td>No</td>\n",
       "      <td>No</td>\n",
       "      <td>No</td>\n",
       "      <td>No</td>\n",
       "      <td>No</td>\n",
       "      <td>No</td>\n",
       "      <td>No</td>\n",
       "      <td>No</td>\n",
       "      <td>No</td>\n",
       "      <td>No</td>\n",
       "      <td>Up</td>\n",
       "      <td>No</td>\n",
       "      <td>No</td>\n",
       "      <td>No</td>\n",
       "      <td>No</td>\n",
       "      <td>No</td>\n",
       "      <td>Ch</td>\n",
       "      <td>Yes</td>\n",
       "      <td>&gt;30</td>\n",
       "    </tr>\n",
       "    <tr>\n",
       "      <th>2</th>\n",
       "      <td>AfricanAmerican</td>\n",
       "      <td>0</td>\n",
       "      <td>25</td>\n",
       "      <td>Emergency</td>\n",
       "      <td>Discharged to home</td>\n",
       "      <td>Emergency</td>\n",
       "      <td>2</td>\n",
       "      <td>?</td>\n",
       "      <td>?</td>\n",
       "      <td>11</td>\n",
       "      <td>5</td>\n",
       "      <td>13</td>\n",
       "      <td>2</td>\n",
       "      <td>0</td>\n",
       "      <td>1</td>\n",
       "      <td>648</td>\n",
       "      <td>250</td>\n",
       "      <td>V27</td>\n",
       "      <td>6</td>\n",
       "      <td>None</td>\n",
       "      <td>None</td>\n",
       "      <td>No</td>\n",
       "      <td>No</td>\n",
       "      <td>No</td>\n",
       "      <td>No</td>\n",
       "      <td>No</td>\n",
       "      <td>No</td>\n",
       "      <td>Steady</td>\n",
       "      <td>No</td>\n",
       "      <td>No</td>\n",
       "      <td>No</td>\n",
       "      <td>No</td>\n",
       "      <td>No</td>\n",
       "      <td>No</td>\n",
       "      <td>No</td>\n",
       "      <td>No</td>\n",
       "      <td>No</td>\n",
       "      <td>No</td>\n",
       "      <td>No</td>\n",
       "      <td>No</td>\n",
       "      <td>No</td>\n",
       "      <td>No</td>\n",
       "      <td>No</td>\n",
       "      <td>No</td>\n",
       "      <td>No</td>\n",
       "      <td>Yes</td>\n",
       "      <td>NO</td>\n",
       "    </tr>\n",
       "    <tr>\n",
       "      <th>3</th>\n",
       "      <td>Caucasian</td>\n",
       "      <td>1</td>\n",
       "      <td>35</td>\n",
       "      <td>Emergency</td>\n",
       "      <td>Discharged to home</td>\n",
       "      <td>Emergency</td>\n",
       "      <td>2</td>\n",
       "      <td>?</td>\n",
       "      <td>?</td>\n",
       "      <td>44</td>\n",
       "      <td>1</td>\n",
       "      <td>16</td>\n",
       "      <td>0</td>\n",
       "      <td>0</td>\n",
       "      <td>0</td>\n",
       "      <td>8</td>\n",
       "      <td>250.43</td>\n",
       "      <td>403</td>\n",
       "      <td>7</td>\n",
       "      <td>None</td>\n",
       "      <td>None</td>\n",
       "      <td>No</td>\n",
       "      <td>No</td>\n",
       "      <td>No</td>\n",
       "      <td>No</td>\n",
       "      <td>No</td>\n",
       "      <td>No</td>\n",
       "      <td>No</td>\n",
       "      <td>No</td>\n",
       "      <td>No</td>\n",
       "      <td>No</td>\n",
       "      <td>No</td>\n",
       "      <td>No</td>\n",
       "      <td>No</td>\n",
       "      <td>No</td>\n",
       "      <td>No</td>\n",
       "      <td>No</td>\n",
       "      <td>No</td>\n",
       "      <td>Up</td>\n",
       "      <td>No</td>\n",
       "      <td>No</td>\n",
       "      <td>No</td>\n",
       "      <td>No</td>\n",
       "      <td>No</td>\n",
       "      <td>Ch</td>\n",
       "      <td>Yes</td>\n",
       "      <td>NO</td>\n",
       "    </tr>\n",
       "    <tr>\n",
       "      <th>4</th>\n",
       "      <td>Caucasian</td>\n",
       "      <td>1</td>\n",
       "      <td>45</td>\n",
       "      <td>Emergency</td>\n",
       "      <td>Discharged to home</td>\n",
       "      <td>Emergency</td>\n",
       "      <td>1</td>\n",
       "      <td>?</td>\n",
       "      <td>?</td>\n",
       "      <td>51</td>\n",
       "      <td>0</td>\n",
       "      <td>8</td>\n",
       "      <td>0</td>\n",
       "      <td>0</td>\n",
       "      <td>0</td>\n",
       "      <td>197</td>\n",
       "      <td>157</td>\n",
       "      <td>250</td>\n",
       "      <td>5</td>\n",
       "      <td>None</td>\n",
       "      <td>None</td>\n",
       "      <td>No</td>\n",
       "      <td>No</td>\n",
       "      <td>No</td>\n",
       "      <td>No</td>\n",
       "      <td>No</td>\n",
       "      <td>No</td>\n",
       "      <td>Steady</td>\n",
       "      <td>No</td>\n",
       "      <td>No</td>\n",
       "      <td>No</td>\n",
       "      <td>No</td>\n",
       "      <td>No</td>\n",
       "      <td>No</td>\n",
       "      <td>No</td>\n",
       "      <td>No</td>\n",
       "      <td>No</td>\n",
       "      <td>No</td>\n",
       "      <td>Steady</td>\n",
       "      <td>No</td>\n",
       "      <td>No</td>\n",
       "      <td>No</td>\n",
       "      <td>No</td>\n",
       "      <td>No</td>\n",
       "      <td>Ch</td>\n",
       "      <td>Yes</td>\n",
       "      <td>NO</td>\n",
       "    </tr>\n",
       "  </tbody>\n",
       "</table>\n",
       "</div>"
      ],
      "text/plain": [
       "              race  gender  age admission_type_id discharge_disposition_id  \\\n",
       "0        Caucasian       0    5     Not Available            Not Available   \n",
       "1        Caucasian       0   15         Emergency       Discharged to home   \n",
       "2  AfricanAmerican       0   25         Emergency       Discharged to home   \n",
       "3        Caucasian       1   35         Emergency       Discharged to home   \n",
       "4        Caucasian       1   45         Emergency       Discharged to home   \n",
       "\n",
       "  admission_source_id  time_in_hospital payer_code         medical_specialty  \\\n",
       "0            Referral                 1          ?  Pediatrics-Endocrinology   \n",
       "1           Emergency                 3          ?                         ?   \n",
       "2           Emergency                 2          ?                         ?   \n",
       "3           Emergency                 2          ?                         ?   \n",
       "4           Emergency                 1          ?                         ?   \n",
       "\n",
       "   num_lab_procedures  num_procedures  num_medications  number_outpatient  \\\n",
       "0                  41               0                1                  0   \n",
       "1                  59               0               18                  0   \n",
       "2                  11               5               13                  2   \n",
       "3                  44               1               16                  0   \n",
       "4                  51               0                8                  0   \n",
       "\n",
       "   number_emergency  number_inpatient  diag_1  diag_2 diag_3  \\\n",
       "0                 0                 0  250.83       ?      ?   \n",
       "1                 0                 0     276  250.01    255   \n",
       "2                 0                 1     648     250    V27   \n",
       "3                 0                 0       8  250.43    403   \n",
       "4                 0                 0     197     157    250   \n",
       "\n",
       "   number_diagnoses max_glu_serum A1Cresult metformin repaglinide nateglinide  \\\n",
       "0                 1          None      None        No          No          No   \n",
       "1                 9          None      None        No          No          No   \n",
       "2                 6          None      None        No          No          No   \n",
       "3                 7          None      None        No          No          No   \n",
       "4                 5          None      None        No          No          No   \n",
       "\n",
       "  chlorpropamide glimepiride acetohexamide glipizide glyburide tolbutamide  \\\n",
       "0             No          No            No        No        No          No   \n",
       "1             No          No            No        No        No          No   \n",
       "2             No          No            No    Steady        No          No   \n",
       "3             No          No            No        No        No          No   \n",
       "4             No          No            No    Steady        No          No   \n",
       "\n",
       "  pioglitazone rosiglitazone acarbose miglitol troglitazone tolazamide  \\\n",
       "0           No            No       No       No           No         No   \n",
       "1           No            No       No       No           No         No   \n",
       "2           No            No       No       No           No         No   \n",
       "3           No            No       No       No           No         No   \n",
       "4           No            No       No       No           No         No   \n",
       "\n",
       "  examide citoglipton insulin glyburide-metformin glipizide-metformin  \\\n",
       "0      No          No      No                  No                  No   \n",
       "1      No          No      Up                  No                  No   \n",
       "2      No          No      No                  No                  No   \n",
       "3      No          No      Up                  No                  No   \n",
       "4      No          No  Steady                  No                  No   \n",
       "\n",
       "  glimepiride-pioglitazone metformin-rosiglitazone metformin-pioglitazone  \\\n",
       "0                       No                      No                     No   \n",
       "1                       No                      No                     No   \n",
       "2                       No                      No                     No   \n",
       "3                       No                      No                     No   \n",
       "4                       No                      No                     No   \n",
       "\n",
       "  change diabetesMed readmitted  \n",
       "0     No          No         NO  \n",
       "1     Ch         Yes        >30  \n",
       "2     No         Yes         NO  \n",
       "3     Ch         Yes         NO  \n",
       "4     Ch         Yes         NO  "
      ]
     },
     "execution_count": 37,
     "metadata": {},
     "output_type": "execute_result"
    }
   ],
   "source": [
    "df.head()"
   ]
  },
  {
   "cell_type": "code",
   "execution_count": 38,
   "id": "a59ea514",
   "metadata": {},
   "outputs": [
    {
     "data": {
      "text/plain": [
       "Emergency                                        52268\n",
       "Referral                                         11094\n",
       "Transferred from another health care facility     4422\n",
       "Not Available                                      981\n",
       "Name: admission_source_id, dtype: int64"
      ]
     },
     "execution_count": 38,
     "metadata": {},
     "output_type": "execute_result"
    }
   ],
   "source": [
    "# Before\n",
    "df[df['admission_type_id']=='Emergency']['admission_source_id'].value_counts()"
   ]
  },
  {
   "cell_type": "code",
   "execution_count": 39,
   "id": "1ff6c697",
   "metadata": {},
   "outputs": [],
   "source": [
    "for i in range(df.shape[0]):\n",
    "    if df.loc[i, 'admission_source_id'] == 'Not Available' and df.loc[i, 'admission_type_id'] == 'Emergency':\n",
    "        df.loc[i, 'admission_source_id'] = 'Emergency'"
   ]
  },
  {
   "cell_type": "code",
   "execution_count": 40,
   "id": "b2f0777c",
   "metadata": {},
   "outputs": [
    {
     "data": {
      "text/plain": [
       "Emergency                                        53249\n",
       "Referral                                         11094\n",
       "Transferred from another health care facility     4422\n",
       "Name: admission_source_id, dtype: int64"
      ]
     },
     "execution_count": 40,
     "metadata": {},
     "output_type": "execute_result"
    }
   ],
   "source": [
    "# After\n",
    "df[df['admission_type_id']=='Emergency']['admission_source_id'].value_counts()"
   ]
  },
  {
   "cell_type": "code",
   "execution_count": 41,
   "id": "0e97dd72",
   "metadata": {},
   "outputs": [
    {
     "data": {
      "text/plain": [
       "Referral                                         16128\n",
       "Transferred from another health care facility     1211\n",
       "Emergency                                          912\n",
       "Not Available                                       59\n",
       "Name: admission_source_id, dtype: int64"
      ]
     },
     "execution_count": 41,
     "metadata": {},
     "output_type": "execute_result"
    }
   ],
   "source": [
    "# Before\n",
    "df[df['admission_type_id']=='Elective']['admission_source_id'].value_counts()"
   ]
  },
  {
   "cell_type": "code",
   "execution_count": 42,
   "id": "001bd616",
   "metadata": {},
   "outputs": [],
   "source": [
    "for i in range(df.shape[0]):\n",
    "    if df.loc[i, 'admission_source_id'] == 'Not Available' and df.loc[i, 'admission_type_id'] == 'Elective':\n",
    "        df.loc[i, 'admission_source_id'] = 'Referral'"
   ]
  },
  {
   "cell_type": "code",
   "execution_count": 43,
   "id": "c6c20f4e",
   "metadata": {},
   "outputs": [
    {
     "data": {
      "text/plain": [
       "Referral                                         16187\n",
       "Transferred from another health care facility     1211\n",
       "Emergency                                          912\n",
       "Name: admission_source_id, dtype: int64"
      ]
     },
     "execution_count": 43,
     "metadata": {},
     "output_type": "execute_result"
    }
   ],
   "source": [
    "# After\n",
    "df[df['admission_type_id']=='Elective']['admission_source_id'].value_counts()"
   ]
  },
  {
   "cell_type": "markdown",
   "id": "f8119cdc",
   "metadata": {},
   "source": [
    "1. Time in hospital: Integer number of days between admission and discharge\n"
   ]
  },
  {
   "cell_type": "code",
   "execution_count": 44,
   "id": "36fe4568",
   "metadata": {},
   "outputs": [
    {
     "data": {
      "image/png": "[encoded data removed]",
      "text/plain": [
       "<Figure size 432x288 with 1 Axes>"
      ]
     },
     "metadata": {
      "needs_background": "light"
     },
     "output_type": "display_data"
    }
   ],
   "source": [
    "sns.countplot(df.time_in_hospital)\n",
    "plt.show()"
   ]
  },
  {
   "cell_type": "markdown",
   "id": "d283a18c",
   "metadata": {},
   "source": [
    "The time in the hospital ranges from 1 day to 14 days.\n",
    "\n",
    "1.payer_code : Integer identifier corresponding to 23 distinct values, for example, Blue Cross/Blue Shield, Medicare, and self-pay Medical"
   ]
  },
  {
   "cell_type": "code",
   "execution_count": 45,
   "id": "79ba29df",
   "metadata": {},
   "outputs": [
    {
     "data": {
      "text/plain": [
       "?     40.020394\n",
       "MC    31.427159\n",
       "HM     6.230430\n",
       "SP     4.843029\n",
       "BC     4.621580\n",
       "MD     3.475198\n",
       "CP     2.468894\n",
       "UN     2.314395\n",
       "CM     1.916818\n",
       "OG     1.033083\n",
       "PO     0.599456\n",
       "DM     0.545897\n",
       "CH     0.144199\n",
       "WC     0.128749\n",
       "OT     0.094759\n",
       "MP     0.079309\n",
       "SI     0.056650\n",
       "Name: payer_code, dtype: float64"
      ]
     },
     "execution_count": 45,
     "metadata": {},
     "output_type": "execute_result"
    }
   ],
   "source": [
    "df.payer_code.value_counts(1)*100\n"
   ]
  },
  {
   "cell_type": "markdown",
   "id": "6208b750",
   "metadata": {},
   "source": [
    "Payer code has a significant number (approx. 40% )of missing values and it are not signification w.r.t the patient readmission so we can drop it.\n",
    "\n"
   ]
  },
  {
   "cell_type": "code",
   "execution_count": 46,
   "id": "3028c683",
   "metadata": {},
   "outputs": [],
   "source": [
    "df.drop(['payer_code'],axis=1,inplace=True)\n"
   ]
  },
  {
   "cell_type": "markdown",
   "id": "4c1fee68",
   "metadata": {},
   "source": [
    "1.medical_specialty: Integer identifier of a specialty of the admitting physician, corresponding to 73 distinct values, for example, cardiology, internal medicine, family/general practice, and surgeon"
   ]
  },
  {
   "cell_type": "code",
   "execution_count": 47,
   "id": "8304b1b3",
   "metadata": {},
   "outputs": [
    {
     "data": {
      "text/plain": [
       "73"
      ]
     },
     "execution_count": 47,
     "metadata": {},
     "output_type": "execute_result"
    }
   ],
   "source": [
    "df.medical_specialty.nunique()\n"
   ]
  },
  {
   "cell_type": "code",
   "execution_count": 48,
   "id": "c6b41db3",
   "metadata": {},
   "outputs": [
    {
     "data": {
      "text/plain": [
       "?                                       48.869067\n",
       "InternalMedicine                        14.215969\n",
       "Emergency/Trauma                         7.616801\n",
       "Family/GeneralPractice                   7.296473\n",
       "Cardiology                               5.330216\n",
       "Surgery-General                          3.092040\n",
       "Nephrology                               1.564560\n",
       "Orthopedics                              1.410061\n",
       "Orthopedics-Reconstructive               1.222602\n",
       "Radiologist                              1.130933\n",
       "Psychiatry                               0.852835\n",
       "Pulmonology                              0.847685\n",
       "Urology                                  0.687006\n",
       "ObstetricsandGynecology                  0.666406\n",
       "Surgery-Cardiovascular/Thoracic          0.637566\n",
       "Gastroenterology                         0.550016\n",
       "Surgery-Vascular                         0.540747\n",
       "Surgery-Neuro                            0.462467\n",
       "PhysicalMedicineandRehabilitation        0.393457\n",
       "Oncology                                 0.327538\n",
       "Pediatrics                               0.255438\n",
       "Neurology                                0.202909\n",
       "Hematology/Oncology                      0.187459\n",
       "Pediatrics-Endocrinology                 0.163769\n",
       "Otolaryngology                           0.124629\n",
       "Endocrinology                            0.120509\n",
       "Surgery-Thoracic                         0.110209\n",
       "Surgery-Cardiovascular                   0.100939\n",
       "Psychology                               0.098879\n",
       "Podiatry                                 0.092699\n",
       "Pediatrics-CriticalCare                  0.088579\n",
       "Hematology                               0.077250\n",
       "Hospitalist                              0.058710\n",
       "Gynecology                               0.058710\n",
       "Radiology                                0.052530\n",
       "Surgeon                                  0.046350\n",
       "Surgery-Plastic                          0.040170\n",
       "Osteopath                                0.039140\n",
       "Ophthalmology                            0.038110\n",
       "InfectiousDiseases                       0.036050\n",
       "SurgicalSpecialty                        0.033990\n",
       "Pediatrics-Pulmonology                   0.025750\n",
       "Obsterics&Gynecology-GynecologicOnco     0.024720\n",
       "Obstetrics                               0.019570\n",
       "Anesthesiology-Pediatric                 0.019570\n",
       "Rheumatology                             0.017510\n",
       "Pathology                                0.016480\n",
       "OutreachServices                         0.012360\n",
       "Anesthesiology                           0.012360\n",
       "Surgery-Colon&Rectal                     0.011330\n",
       "PhysicianNotFound                        0.010300\n",
       "Pediatrics-Neurology                     0.010300\n",
       "Surgery-Maxillofacial                    0.009270\n",
       "Surgery-Pediatric                        0.008240\n",
       "Endocrinology-Metabolism                 0.008240\n",
       "AllergyandImmunology                     0.007210\n",
       "Psychiatry-Child/Adolescent              0.007210\n",
       "Cardiology-Pediatric                     0.007210\n",
       "DCPTEAM                                  0.005150\n",
       "Dentistry                                0.004120\n",
       "Pediatrics-Hematology-Oncology           0.004120\n",
       "Pediatrics-EmergencyMedicine             0.003090\n",
       "Pediatrics-AllergyandImmunology          0.003090\n",
       "Resident                                 0.002060\n",
       "Neurophysiology                          0.001030\n",
       "Dermatology                              0.001030\n",
       "Surgery-PlasticwithinHeadandNeck         0.001030\n",
       "Pediatrics-InfectiousDiseases            0.001030\n",
       "Proctology                               0.001030\n",
       "SportsMedicine                           0.001030\n",
       "Speech                                   0.001030\n",
       "Psychiatry-Addictive                     0.001030\n",
       "Perinatology                             0.001030\n",
       "Name: medical_specialty, dtype: float64"
      ]
     },
     "execution_count": 48,
     "metadata": {},
     "output_type": "execute_result"
    }
   ],
   "source": [
    "df.medical_specialty.value_counts(1)*100\n"
   ]
  },
  {
   "cell_type": "markdown",
   "id": "7af2518a",
   "metadata": {},
   "source": [
    "There are 73 unique values here and a 48.8% of values are missing ('?') hence we drop this column.\n",
    "\n"
   ]
  },
  {
   "cell_type": "code",
   "execution_count": 49,
   "id": "010ecf89",
   "metadata": {},
   "outputs": [],
   "source": [
    "df.drop(['medical_specialty'],axis=1,inplace=True)\n"
   ]
  },
  {
   "cell_type": "markdown",
   "id": "faaffa6b",
   "metadata": {},
   "source": [
    "1.num_lab_procedures: Number of lab tests performed during the encounter\n"
   ]
  },
  {
   "cell_type": "code",
   "execution_count": 50,
   "id": "ed4ef4a4",
   "metadata": {},
   "outputs": [
    {
     "name": "stdout",
     "output_type": "stream",
     "text": [
      "The number of lab tests a patient has undergone can range from 1 to 132\n"
     ]
    }
   ],
   "source": [
    "print('The number of lab tests a patient has undergone can range from',df.num_lab_procedures.min(),'to',df.num_lab_procedures.max())\n"
   ]
  },
  {
   "cell_type": "markdown",
   "id": "14b984ce",
   "metadata": {},
   "source": [
    "1.num_procedures: Number of procedures(other than lab tests) performed during the encounter\n"
   ]
  },
  {
   "cell_type": "code",
   "execution_count": 51,
   "id": "b4d0eb78",
   "metadata": {},
   "outputs": [
    {
     "data": {
      "text/plain": [
       "0    44532\n",
       "1    19843\n",
       "2    12140\n",
       "3     9032\n",
       "6     4675\n",
       "4     3970\n",
       "5     2896\n",
       "Name: num_procedures, dtype: int64"
      ]
     },
     "execution_count": 51,
     "metadata": {},
     "output_type": "execute_result"
    }
   ],
   "source": [
    "df.num_procedures.value_counts()\n"
   ]
  },
  {
   "cell_type": "markdown",
   "id": "d8131b71",
   "metadata": {},
   "source": [
    "No of procedures range from 0 to 5\n",
    "\n",
    "1.num_medications: Number of distinct generic names administered during the encounter"
   ]
  },
  {
   "cell_type": "code",
   "execution_count": 52,
   "id": "73933917",
   "metadata": {},
   "outputs": [
    {
     "name": "stdout",
     "output_type": "stream",
     "text": [
      "The number of medications range from a minimum of 1 to maximum of 81\n"
     ]
    }
   ],
   "source": [
    "print('The number of medications range from a minimum of',df.num_medications.min(),'to maximum of',df.num_medications.max())\n"
   ]
  },
  {
   "cell_type": "markdown",
   "id": "c1fcdd29",
   "metadata": {},
   "source": [
    "number_outpatient: Number of outpatient visits of the patient in the year preceding the encounter\n",
    "\n",
    "number_emergency : Number of emergency visits of the patient in the year preceding the encounter\n",
    "\n",
    "number_inpatient: Number of inpatient visits of the patient in the year preceding the encounter\n",
    "\n",
    "Diagnosis1: The primary diagnosis(coded as first three digits of ICD9)\n",
    "\n",
    "Diagnosis2: Secondary diagnosis(coded as first three digits of ICD9)\n",
    "\n",
    "Diagnosis3: Additional secondary diagnosis(coded as first three digits of ICD9)"
   ]
  },
  {
   "cell_type": "code",
   "execution_count": 53,
   "id": "920cc861",
   "metadata": {},
   "outputs": [],
   "source": [
    "df = df.reset_index(drop = True )\n"
   ]
  },
  {
   "cell_type": "code",
   "execution_count": 54,
   "id": "bfda3470",
   "metadata": {},
   "outputs": [],
   "source": [
    "diag_cols = ['diag_1','diag_2','diag_3']\n"
   ]
  },
  {
   "cell_type": "code",
   "execution_count": 55,
   "id": "6be532ae",
   "metadata": {},
   "outputs": [
    {
     "data": {
      "text/plain": [
       "(69, 86)"
      ]
     },
     "execution_count": 55,
     "metadata": {},
     "output_type": "execute_result"
    }
   ],
   "source": [
    "ord('E'), ord('V')\n"
   ]
  },
  {
   "cell_type": "code",
   "execution_count": 56,
   "id": "646d9adc",
   "metadata": {},
   "outputs": [],
   "source": [
    "for i in diag_cols:\n",
    "    for j in range(len(df[i])):\n",
    "        if str(df.loc[j, i])[:3] == '250':\n",
    "            df.loc[j, i] = 'Diabetes'\n",
    "        elif ord(str(df.loc[j, i])[0]) in range(69, 87):\n",
    "            df.loc[j, i] = 'External causes of injury'\n",
    "        elif df.loc[j, i] == '?':\n",
    "            df.loc[j, i] = 'Missing'\n",
    "        else:\n",
    "            x = float(df.loc[j, i])\n",
    "            if x in range(390, 460) or x == 785:\n",
    "                df.loc[j, i] = 'Circulatory'\n",
    "            elif x in range(460, 520) or x == 786:\n",
    "                df.loc[j, i] = 'Respiratory'\n",
    "            elif x in range(520, 580) or x == 787:\n",
    "                df.loc[j, i] = 'Digestive'\n",
    "            elif x in range(800, 1000):\n",
    "                df.loc[j, i] = 'Injury and Poisoning'\n",
    "            elif x in range(710, 740):\n",
    "                df.loc[j, i] = 'Musculoskeletal System and Connective Tissue'\n",
    "            elif x in range(580, 630) or x == 788:\n",
    "                df.loc[j, i] = 'Genitourinary'\n",
    "            elif x in range(140, 230):\n",
    "                df.loc[j, i] = 'Neoplasms'\n",
    "            elif x in [780, 781, 784] or x in range(790, 800):\n",
    "                df.loc[j, i] = 'Other Symptoms'\n",
    "            elif x in range(240, 280):\n",
    "                df.loc[j, i] = 'Endocrine, Nutritional, Metabolic, Immunity'\n",
    "            elif x in range(680, 710) or x == 782:\n",
    "                df.loc[j, i] = 'Skin and Subcutaneous Tissue'\n",
    "            elif x in range(1, 140):\n",
    "                df.loc[j, i] = 'Infectious and Parasitic'\n",
    "            elif x in range(290, 320):\n",
    "                df.loc[j, i] = 'Mental Disorders'\n",
    "            elif x in range(280, 290):\n",
    "                df.loc[j, i] = 'Blood and Blood-Forming Organs'\n",
    "            elif x in range(320, 360):\n",
    "                df.loc[j, i] = 'Nervous'\n",
    "            elif x in range(630, 680):\n",
    "                df.loc[j, i] = 'Pregnancy, Childbirth'\n",
    "            elif x in range(360, 390):\n",
    "                df.loc[j, i] = 'Sense Organs'\n",
    "            else:\n",
    "                df.loc[j, i] = 'Congenital Anomalies'"
   ]
  },
  {
   "cell_type": "code",
   "execution_count": 57,
   "id": "cd707d0b",
   "metadata": {},
   "outputs": [],
   "source": [
    "for i in range(len(df['diag_2'])):\n",
    "    if df.loc[i, 'diag_2'] == 'Missing':\n",
    "        if df.loc[i, 'diag_1'] != 'Missing':\n",
    "            df.loc[i, 'diag_2'] = 'Not Required'"
   ]
  },
  {
   "cell_type": "code",
   "execution_count": 58,
   "id": "97c386fc",
   "metadata": {},
   "outputs": [],
   "source": [
    "for i in range(len(df['diag_3'])):\n",
    "    if df.loc[i, 'diag_3'] == 'Missing':\n",
    "        if df.loc[i, 'diag_2'] == 'Not Required' or df.loc[i, 'diag_2'] != 'Missing':\n",
    "            df.loc[i, 'diag_3'] = 'Not Required'"
   ]
  },
  {
   "cell_type": "code",
   "execution_count": 59,
   "id": "ca8ff52f",
   "metadata": {},
   "outputs": [
    {
     "data": {
      "text/html": [
       "<div>\n",
       "<style scoped>\n",
       "    .dataframe tbody tr th:only-of-type {\n",
       "        vertical-align: middle;\n",
       "    }\n",
       "\n",
       "    .dataframe tbody tr th {\n",
       "        vertical-align: top;\n",
       "    }\n",
       "\n",
       "    .dataframe thead th {\n",
       "        text-align: right;\n",
       "    }\n",
       "</style>\n",
       "<table border=\"1\" class=\"dataframe\">\n",
       "  <thead>\n",
       "    <tr style=\"text-align: right;\">\n",
       "      <th></th>\n",
       "      <th>diag_1</th>\n",
       "      <th>diag_2</th>\n",
       "      <th>diag_3</th>\n",
       "    </tr>\n",
       "  </thead>\n",
       "  <tbody>\n",
       "    <tr>\n",
       "      <th>Blood and Blood-Forming Organs</th>\n",
       "      <td>1078.0</td>\n",
       "      <td>2801.0</td>\n",
       "      <td>2402.0</td>\n",
       "    </tr>\n",
       "    <tr>\n",
       "      <th>Circulatory</th>\n",
       "      <td>29004.0</td>\n",
       "      <td>30465.0</td>\n",
       "      <td>28956.0</td>\n",
       "    </tr>\n",
       "    <tr>\n",
       "      <th>Congenital Anomalies</th>\n",
       "      <td>791.0</td>\n",
       "      <td>478.0</td>\n",
       "      <td>467.0</td>\n",
       "    </tr>\n",
       "    <tr>\n",
       "      <th>Diabetes</th>\n",
       "      <td>8471.0</td>\n",
       "      <td>12392.0</td>\n",
       "      <td>16540.0</td>\n",
       "    </tr>\n",
       "    <tr>\n",
       "      <th>Digestive</th>\n",
       "      <td>9154.0</td>\n",
       "      <td>3994.0</td>\n",
       "      <td>3781.0</td>\n",
       "    </tr>\n",
       "    <tr>\n",
       "      <th>Endocrine, Nutritional, Metabolic, Immunity</th>\n",
       "      <td>2553.0</td>\n",
       "      <td>7899.0</td>\n",
       "      <td>8726.0</td>\n",
       "    </tr>\n",
       "    <tr>\n",
       "      <th>External causes of injury</th>\n",
       "      <td>1595.0</td>\n",
       "      <td>2484.0</td>\n",
       "      <td>4938.0</td>\n",
       "    </tr>\n",
       "    <tr>\n",
       "      <th>Genitourinary</th>\n",
       "      <td>4912.0</td>\n",
       "      <td>8002.0</td>\n",
       "      <td>6289.0</td>\n",
       "    </tr>\n",
       "    <tr>\n",
       "      <th>Infectious and Parasitic</th>\n",
       "      <td>2487.0</td>\n",
       "      <td>1816.0</td>\n",
       "      <td>1773.0</td>\n",
       "    </tr>\n",
       "    <tr>\n",
       "      <th>Injury and Poisoning</th>\n",
       "      <td>6699.0</td>\n",
       "      <td>2302.0</td>\n",
       "      <td>1846.0</td>\n",
       "    </tr>\n",
       "    <tr>\n",
       "      <th>Mental Disorders</th>\n",
       "      <td>2174.0</td>\n",
       "      <td>2570.0</td>\n",
       "      <td>3028.0</td>\n",
       "    </tr>\n",
       "    <tr>\n",
       "      <th>Missing</th>\n",
       "      <td>18.0</td>\n",
       "      <td>NaN</td>\n",
       "      <td>NaN</td>\n",
       "    </tr>\n",
       "    <tr>\n",
       "      <th>Musculoskeletal System and Connective Tissue</th>\n",
       "      <td>4801.0</td>\n",
       "      <td>1711.0</td>\n",
       "      <td>1846.0</td>\n",
       "    </tr>\n",
       "    <tr>\n",
       "      <th>Neoplasms</th>\n",
       "      <td>2893.0</td>\n",
       "      <td>2246.0</td>\n",
       "      <td>1577.0</td>\n",
       "    </tr>\n",
       "    <tr>\n",
       "      <th>Nervous</th>\n",
       "      <td>902.0</td>\n",
       "      <td>1048.0</td>\n",
       "      <td>1398.0</td>\n",
       "    </tr>\n",
       "    <tr>\n",
       "      <th>Not Required</th>\n",
       "      <td>NaN</td>\n",
       "      <td>334.0</td>\n",
       "      <td>1345.0</td>\n",
       "    </tr>\n",
       "    <tr>\n",
       "      <th>Other Symptoms</th>\n",
       "      <td>2474.0</td>\n",
       "      <td>2319.0</td>\n",
       "      <td>2268.0</td>\n",
       "    </tr>\n",
       "    <tr>\n",
       "      <th>Pregnancy, Childbirth</th>\n",
       "      <td>668.0</td>\n",
       "      <td>406.0</td>\n",
       "      <td>301.0</td>\n",
       "    </tr>\n",
       "    <tr>\n",
       "      <th>Respiratory</th>\n",
       "      <td>13624.0</td>\n",
       "      <td>10165.0</td>\n",
       "      <td>6858.0</td>\n",
       "    </tr>\n",
       "    <tr>\n",
       "      <th>Sense Organs</th>\n",
       "      <td>254.0</td>\n",
       "      <td>156.0</td>\n",
       "      <td>254.0</td>\n",
       "    </tr>\n",
       "    <tr>\n",
       "      <th>Skin and Subcutaneous Tissue</th>\n",
       "      <td>2536.0</td>\n",
       "      <td>3500.0</td>\n",
       "      <td>2495.0</td>\n",
       "    </tr>\n",
       "  </tbody>\n",
       "</table>\n",
       "</div>"
      ],
      "text/plain": [
       "                                               diag_1   diag_2   diag_3\n",
       "Blood and Blood-Forming Organs                 1078.0   2801.0   2402.0\n",
       "Circulatory                                   29004.0  30465.0  28956.0\n",
       "Congenital Anomalies                            791.0    478.0    467.0\n",
       "Diabetes                                       8471.0  12392.0  16540.0\n",
       "Digestive                                      9154.0   3994.0   3781.0\n",
       "Endocrine, Nutritional, Metabolic, Immunity    2553.0   7899.0   8726.0\n",
       "External causes of injury                      1595.0   2484.0   4938.0\n",
       "Genitourinary                                  4912.0   8002.0   6289.0\n",
       "Infectious and Parasitic                       2487.0   1816.0   1773.0\n",
       "Injury and Poisoning                           6699.0   2302.0   1846.0\n",
       "Mental Disorders                               2174.0   2570.0   3028.0\n",
       "Missing                                          18.0      NaN      NaN\n",
       "Musculoskeletal System and Connective Tissue   4801.0   1711.0   1846.0\n",
       "Neoplasms                                      2893.0   2246.0   1577.0\n",
       "Nervous                                         902.0   1048.0   1398.0\n",
       "Not Required                                      NaN    334.0   1345.0\n",
       "Other Symptoms                                 2474.0   2319.0   2268.0\n",
       "Pregnancy, Childbirth                           668.0    406.0    301.0\n",
       "Respiratory                                   13624.0  10165.0   6858.0\n",
       "Sense Organs                                    254.0    156.0    254.0\n",
       "Skin and Subcutaneous Tissue                   2536.0   3500.0   2495.0"
      ]
     },
     "execution_count": 59,
     "metadata": {},
     "output_type": "execute_result"
    }
   ],
   "source": [
    "df1 = pd.DataFrame(df['diag_1'].value_counts())\n",
    "df2 = df1.merge(pd.DataFrame(df['diag_2'].value_counts()), how = 'outer', left_index = True, right_index = True)\n",
    "df2.merge(pd.DataFrame(df['diag_3'].value_counts()), how = 'outer', left_index = True, right_index = True)"
   ]
  },
  {
   "cell_type": "code",
   "execution_count": 60,
   "id": "f24ee897",
   "metadata": {},
   "outputs": [
    {
     "data": {
      "text/plain": [
       "18"
      ]
     },
     "execution_count": 60,
     "metadata": {},
     "output_type": "execute_result"
    }
   ],
   "source": [
    "len(df[df['diag_1'] == 'Missing'])\n"
   ]
  },
  {
   "cell_type": "code",
   "execution_count": 61,
   "id": "6c1178f8",
   "metadata": {},
   "outputs": [],
   "source": [
    "#dropping any missing values present in diag_1.\n",
    "df = df[df['diag_1'] != 'Missing']"
   ]
  },
  {
   "cell_type": "markdown",
   "id": "dc316108",
   "metadata": {},
   "source": [
    "1.number_diagnoses: Number of diagnoses entered to the system"
   ]
  },
  {
   "cell_type": "code",
   "execution_count": 62,
   "id": "57557c0e",
   "metadata": {},
   "outputs": [
    {
     "data": {
      "text/plain": [
       "<AxesSubplot:xlabel='number_diagnoses', ylabel='count'>"
      ]
     },
     "execution_count": 62,
     "metadata": {},
     "output_type": "execute_result"
    },
    {
     "data": {
      "image/png": "[encoded data removed]",
      "text/plain": [
       "<Figure size 432x288 with 1 Axes>"
      ]
     },
     "metadata": {
      "needs_background": "light"
     },
     "output_type": "display_data"
    }
   ],
   "source": [
    "sns.countplot(df.number_diagnoses)\n"
   ]
  },
  {
   "cell_type": "markdown",
   "id": "64972c2a",
   "metadata": {},
   "source": [
    "The number of diagonses entered into the system range from 1 to 16.\n",
    "\n",
    "1. max_glu_serum: Indicates the range of the result or if the test was not taken.\n",
    "    \n",
    "Values:“>200,”“>300,” “normal,”and“none” if not measured"
   ]
  },
  {
   "cell_type": "code",
   "execution_count": 63,
   "id": "35436b55",
   "metadata": {},
   "outputs": [
    {
     "data": {
      "text/plain": [
       "None    91978\n",
       "Norm     2517\n",
       ">200     1397\n",
       ">300     1178\n",
       "Name: max_glu_serum, dtype: int64"
      ]
     },
     "execution_count": 63,
     "metadata": {},
     "output_type": "execute_result"
    }
   ],
   "source": [
    "df.max_glu_serum.value_counts()\n"
   ]
  },
  {
   "cell_type": "markdown",
   "id": "6117134c",
   "metadata": {},
   "source": [
    "1. A1Cresult: Indicates the range of the result or if the test was not taken."
   ]
  },
  {
   "cell_type": "code",
   "execution_count": 64,
   "id": "603d39f7",
   "metadata": {},
   "outputs": [
    {
     "data": {
      "text/plain": [
       "None    80662\n",
       ">8       7881\n",
       "Norm     4836\n",
       ">7       3691\n",
       "Name: A1Cresult, dtype: int64"
      ]
     },
     "execution_count": 64,
     "metadata": {},
     "output_type": "execute_result"
    }
   ],
   "source": [
    "df.A1Cresult.value_counts()\n"
   ]
  },
  {
   "cell_type": "markdown",
   "id": "96c8ed30",
   "metadata": {},
   "source": [
    "Values: “>8” if the result was greater than 8%\n",
    "\n",
    "    “>7” if the result was greater than 7% but less than 8%\n",
    "\n",
    "    “normal” if the result was less than 7%\n",
    "\n",
    "    “none” if not measured."
   ]
  },
  {
   "cell_type": "markdown",
   "id": "fd81b754",
   "metadata": {},
   "source": [
    "1.24 features for medications :\n",
    "    \n",
    "For the generic names : metformin, repaglinide, nateglinide, chlorpropamide, glimepiride, acetohexamide, glipizide, glyburide, tolbutamide, pioglitazone, rosiglitazone, acarbose, miglitol, troglitazone, tolazamide, examide, sitagliptin, insulin, glyburide-metformin, glipizide-metformin, glimepiride-pioglitazone, metformin-rosiglitazone, and metformin-pioglitazone\n",
    "\n",
    "The feature indicates whether the drug was prescribed or there was a change in the dosage.\n",
    "\n",
    "Values: “up” if the dosage was increased during the encounter\n",
    "\n",
    "    “down” if the dosage was decreased\n",
    "\n",
    "    “steady” if the dosage did not change\n",
    "\n",
    "    “no” if the drug was not prescribed"
   ]
  },
  {
   "cell_type": "code",
   "execution_count": 65,
   "id": "5be1b452",
   "metadata": {},
   "outputs": [
    {
     "name": "stdout",
     "output_type": "stream",
     "text": [
      "metformin ['No' 'Steady' 'Up' 'Down']\n",
      "repaglinide ['No' 'Up' 'Steady' 'Down']\n",
      "nateglinide ['No' 'Steady' 'Down' 'Up']\n",
      "chlorpropamide ['No' 'Steady' 'Down' 'Up']\n",
      "glimepiride ['No' 'Steady' 'Down' 'Up']\n",
      "acetohexamide ['No' 'Steady']\n",
      "glipizide ['No' 'Steady' 'Up' 'Down']\n",
      "glyburide ['No' 'Steady' 'Up' 'Down']\n",
      "tolbutamide ['No' 'Steady']\n",
      "pioglitazone ['No' 'Steady' 'Up' 'Down']\n",
      "rosiglitazone ['No' 'Steady' 'Up' 'Down']\n",
      "acarbose ['No' 'Steady' 'Up' 'Down']\n",
      "miglitol ['No' 'Steady' 'Down' 'Up']\n",
      "troglitazone ['No' 'Steady']\n",
      "tolazamide ['No' 'Steady' 'Up']\n",
      "examide ['No']\n",
      "citoglipton ['No']\n",
      "insulin ['No' 'Up' 'Steady' 'Down']\n",
      "glyburide-metformin ['No' 'Steady' 'Down' 'Up']\n",
      "glipizide-metformin ['No' 'Steady']\n",
      "glimepiride-pioglitazone ['No' 'Steady']\n",
      "metformin-rosiglitazone ['No']\n",
      "metformin-pioglitazone ['No' 'Steady']\n"
     ]
    }
   ],
   "source": [
    "meds = ['metformin', 'repaglinide', 'nateglinide', 'chlorpropamide',\n",
    "       'glimepiride', 'acetohexamide', 'glipizide', 'glyburide', 'tolbutamide',\n",
    "       'pioglitazone', 'rosiglitazone', 'acarbose', 'miglitol', 'troglitazone',\n",
    "       'tolazamide', 'examide', 'citoglipton', 'insulin',\n",
    "       'glyburide-metformin', 'glipizide-metformin',\n",
    "       'glimepiride-pioglitazone', 'metformin-rosiglitazone',\n",
    "       'metformin-pioglitazone']\n",
    "\n",
    "for i in meds:\n",
    "       print(i, df[i].unique())"
   ]
  },
  {
   "cell_type": "code",
   "execution_count": 66,
   "id": "2461a91a",
   "metadata": {},
   "outputs": [],
   "source": [
    "df.drop(['examide', 'citoglipton','metformin-rosiglitazone'], axis = 1, inplace = True)\n"
   ]
  },
  {
   "cell_type": "code",
   "execution_count": 67,
   "id": "e2eec7e3",
   "metadata": {},
   "outputs": [],
   "source": [
    "meds = ['metformin', 'repaglinide', 'nateglinide', 'chlorpropamide',\n",
    "       'glimepiride', 'acetohexamide', 'glipizide', 'glyburide', 'tolbutamide',\n",
    "       'pioglitazone', 'rosiglitazone', 'acarbose', 'miglitol', 'troglitazone',\n",
    "       'tolazamide', 'insulin', 'glyburide-metformin', 'glipizide-metformin',\n",
    "       'glimepiride-pioglitazone', 'metformin-pioglitazone']"
   ]
  },
  {
   "cell_type": "code",
   "execution_count": 68,
   "id": "6277a0f6",
   "metadata": {},
   "outputs": [],
   "source": [
    "for i in meds:\n",
    "    df[i] = df[i].replace({'No' : -2,\n",
    "                           'Down' : -1,\n",
    "                           'Steady' : 0,\n",
    "                           'Up' : 1})"
   ]
  },
  {
   "cell_type": "code",
   "execution_count": 69,
   "id": "4f642233",
   "metadata": {},
   "outputs": [],
   "source": [
    "for i in meds:\n",
    "    df[i] = df[i].astype('int64')"
   ]
  },
  {
   "cell_type": "markdown",
   "id": "241a0bbf",
   "metadata": {},
   "source": [
    "1.change : Indicates if there was a change in diabetic medications (either dosage or generic name)"
   ]
  },
  {
   "cell_type": "code",
   "execution_count": 70,
   "id": "30875f08",
   "metadata": {},
   "outputs": [
    {
     "data": {
      "text/plain": [
       "No    52046\n",
       "Ch    45024\n",
       "Name: change, dtype: int64"
      ]
     },
     "execution_count": 70,
     "metadata": {},
     "output_type": "execute_result"
    }
   ],
   "source": [
    "df.change.value_counts()\n"
   ]
  },
  {
   "cell_type": "code",
   "execution_count": 71,
   "id": "08f07ce1",
   "metadata": {},
   "outputs": [],
   "source": [
    "df['change'] = df['change'].replace({'No' : 0, 'Ch' : 1})\n"
   ]
  },
  {
   "cell_type": "markdown",
   "id": "54810560",
   "metadata": {},
   "source": [
    "1.diabetesMed : Indicates if there was any diabetic medication prescribed.\n"
   ]
  },
  {
   "cell_type": "code",
   "execution_count": 72,
   "id": "3105ac46",
   "metadata": {},
   "outputs": [
    {
     "data": {
      "text/plain": [
       "Yes    74842\n",
       "No     22228\n",
       "Name: diabetesMed, dtype: int64"
      ]
     },
     "execution_count": 72,
     "metadata": {},
     "output_type": "execute_result"
    }
   ],
   "source": [
    "df.diabetesMed.value_counts()\n"
   ]
  },
  {
   "cell_type": "code",
   "execution_count": 73,
   "id": "2aa25419",
   "metadata": {},
   "outputs": [],
   "source": [
    "df['diabetesMed'] = df['diabetesMed'].replace({'Yes' : 1, 'No' : 0})\n"
   ]
  },
  {
   "cell_type": "markdown",
   "id": "1e2af8fe",
   "metadata": {},
   "source": [
    "1.readmitted: Outcome variable\n",
    "    \n",
    "The outcome we are looking at is whether the patient gets readmitted to the hospital within 30 days or not."
   ]
  },
  {
   "cell_type": "code",
   "execution_count": 74,
   "id": "dc72d438",
   "metadata": {},
   "outputs": [
    {
     "data": {
      "text/plain": [
       "NO     50995\n",
       ">30    34955\n",
       "<30    11120\n",
       "Name: readmitted, dtype: int64"
      ]
     },
     "execution_count": 74,
     "metadata": {},
     "output_type": "execute_result"
    }
   ],
   "source": [
    "df.readmitted.value_counts()\n"
   ]
  },
  {
   "cell_type": "markdown",
   "id": "f7997498",
   "metadata": {},
   "source": [
    "The outcome actually has < 30, > 30 and No Readmission categories.So w.r.t. our problem we will convert this into 2 categories i.e No readmission or readmission with in 30 days"
   ]
  },
  {
   "cell_type": "code",
   "execution_count": 75,
   "id": "95716b8d",
   "metadata": {},
   "outputs": [],
   "source": [
    "df['readmitted'] = df['readmitted'].replace('>30', 'NO')\n",
    "df['readmitted']= df['readmitted'].replace( {'NO': 0, '<30': 1} ).astype(int)"
   ]
  },
  {
   "cell_type": "code",
   "execution_count": 76,
   "id": "df568b0f",
   "metadata": {},
   "outputs": [],
   "source": [
    "df.reset_index(drop = True, inplace = True)\n"
   ]
  },
  {
   "cell_type": "markdown",
   "id": "5be40ce0",
   "metadata": {},
   "source": [
    "Creating New Features and Dropping Redundant Ones\n"
   ]
  },
  {
   "cell_type": "markdown",
   "id": "f1918e88",
   "metadata": {},
   "source": [
    "1. Preceding year visits:\n"
   ]
  },
  {
   "cell_type": "code",
   "execution_count": 77,
   "id": "8e2de1d5",
   "metadata": {},
   "outputs": [],
   "source": [
    "df['preceding_year_visits']=df['number_outpatient']+df['number_emergency']+df['number_inpatient']\n"
   ]
  },
  {
   "cell_type": "code",
   "execution_count": 78,
   "id": "b1d66115",
   "metadata": {},
   "outputs": [],
   "source": [
    "# Dropping ‘number_outpatient’, ‘number_emergency’, ‘number_inpatient’\n",
    "df = df.drop(columns=['number_outpatient', 'number_emergency','number_inpatient'])"
   ]
  },
  {
   "cell_type": "markdown",
   "id": "1393eb46",
   "metadata": {},
   "source": [
    "2. Number of Medicines Changes\n"
   ]
  },
  {
   "cell_type": "code",
   "execution_count": 79,
   "id": "44e0c5b4",
   "metadata": {},
   "outputs": [],
   "source": [
    "df['number_changes'] = np.nan\n",
    "for i in range(len(df)):\n",
    "    n = 0\n",
    "    for j in meds:\n",
    "        if df.loc[i, j] == -1 or df.loc[i, j] == 1:\n",
    "            n += 1\n",
    "    df.loc[i, 'number_changes'] = n"
   ]
  },
  {
   "cell_type": "code",
   "execution_count": 80,
   "id": "903a8b06",
   "metadata": {},
   "outputs": [
    {
     "data": {
      "text/plain": [
       "0.0    70599\n",
       "1.0    25081\n",
       "2.0     1279\n",
       "3.0      106\n",
       "4.0        5\n",
       "Name: number_changes, dtype: int64"
      ]
     },
     "execution_count": 80,
     "metadata": {},
     "output_type": "execute_result"
    }
   ],
   "source": [
    "df['number_changes'].value_counts()\n"
   ]
  },
  {
   "cell_type": "markdown",
   "id": "d0694997",
   "metadata": {},
   "source": [
    "3. Number of diabetic medicine"
   ]
  },
  {
   "cell_type": "code",
   "execution_count": 81,
   "id": "0ffe7244",
   "metadata": {},
   "outputs": [
    {
     "data": {
      "text/plain": [
       "1    44940\n",
       "0    22228\n",
       "2    21038\n",
       "3     7504\n",
       "4     1298\n",
       "5       57\n",
       "6        5\n",
       "Name: number_diab_meds, dtype: int64"
      ]
     },
     "execution_count": 81,
     "metadata": {},
     "output_type": "execute_result"
    }
   ],
   "source": [
    "df['number_diab_meds'] = np.nan\n",
    "for i in range(len(df)):\n",
    "    n = 0\n",
    "    for j in meds:\n",
    "        if df.loc[i, j] != -2:\n",
    "            n += 1\n",
    "    df.loc[i, 'number_diab_meds'] = n\n",
    "df.number_diab_meds=df.number_diab_meds.astype('int64')\n",
    "df['number_diab_meds'].value_counts()"
   ]
  },
  {
   "cell_type": "markdown",
   "id": "906ebe41",
   "metadata": {},
   "source": [
    "4. Insulin_treatment\n"
   ]
  },
  {
   "cell_type": "code",
   "execution_count": 82,
   "id": "8d861dfc",
   "metadata": {},
   "outputs": [],
   "source": [
    "df['insulin_treatment'] = np.nan\n"
   ]
  },
  {
   "cell_type": "code",
   "execution_count": 83,
   "id": "eaefc271",
   "metadata": {},
   "outputs": [
    {
     "data": {
      "text/plain": [
       "insulin_only     29118\n",
       "other_meds       23259\n",
       "insulin_combo    22465\n",
       "no_med           22228\n",
       "Name: insulin_treatment, dtype: int64"
      ]
     },
     "execution_count": 83,
     "metadata": {},
     "output_type": "execute_result"
    }
   ],
   "source": [
    "for i in range(len(df)):\n",
    "    if df.loc[i, 'insulin'] != -2 and df.loc[i, 'number_diab_meds'] == 1:\n",
    "        df.loc[i, 'insulin_treatment'] = 'insulin_only'\n",
    "    elif df.loc[i, 'insulin'] != -2 and df.loc[i, 'number_diab_meds'] > 1:\n",
    "        df.loc[i, 'insulin_treatment'] = 'insulin_combo'\n",
    "    elif df.loc[i, 'insulin'] == -2 and df.loc[i, 'number_diab_meds'] == 0:\n",
    "        df.loc[i, 'insulin_treatment'] = 'no_med'\n",
    "    else:\n",
    "        df.loc[i, 'insulin_treatment'] = 'other_meds'\n",
    "df['insulin_treatment'].value_counts()"
   ]
  },
  {
   "cell_type": "code",
   "execution_count": 84,
   "id": "fb8a08bd",
   "metadata": {},
   "outputs": [],
   "source": [
    "# number_diab_meds was inly created to make the column insulin treatment, Hence we drop it\n",
    "df=df.drop('number_diab_meds',1)\n",
    "df.reset_index(drop = True, inplace = True)"
   ]
  },
  {
   "cell_type": "markdown",
   "id": "ed1a3854",
   "metadata": {},
   "source": [
    "Statistical tests\n"
   ]
  },
  {
   "cell_type": "code",
   "execution_count": 85,
   "id": "410875bc",
   "metadata": {},
   "outputs": [],
   "source": [
    "# Numerical features\n",
    "num_cols = ['age', 'time_in_hospital', 'num_lab_procedures', 'num_procedures', 'num_medications',\n",
    "            'number_diagnoses','preceding_year_visits', 'number_changes']"
   ]
  },
  {
   "cell_type": "code",
   "execution_count": 86,
   "id": "99691317",
   "metadata": {},
   "outputs": [],
   "source": [
    "# Categorical features\n",
    "cat_cols = ['race', 'gender', 'admission_type_id', 'discharge_disposition_id', 'admission_source_id',\n",
    "            'diag_1', 'diag_2', 'diag_3', 'max_glu_serum', 'A1Cresult', 'metformin', 'repaglinide', \n",
    "            'nateglinide', 'chlorpropamide', 'glimepiride', 'acetohexamide', 'glipizide', 'glyburide', \n",
    "            'tolbutamide', 'pioglitazone', 'rosiglitazone', 'acarbose', 'miglitol', 'troglitazone',\n",
    "            'tolazamide', 'insulin', 'glyburide-metformin', 'glipizide-metformin', \n",
    "            'glimepiride-pioglitazone', 'metformin-rosiglitazone', 'metformin-pioglitazone', \n",
    "            'change', 'diabetesMed', 'insulin_treatment']"
   ]
  },
  {
   "cell_type": "code",
   "execution_count": 87,
   "id": "e764bbe8",
   "metadata": {},
   "outputs": [
    {
     "data": {
      "text/plain": [
       "(97070, 42)"
      ]
     },
     "execution_count": 87,
     "metadata": {},
     "output_type": "execute_result"
    }
   ],
   "source": [
    "df.shape"
   ]
  },
  {
   "cell_type": "code",
   "execution_count": 88,
   "id": "81440c75",
   "metadata": {},
   "outputs": [
    {
     "data": {
      "text/plain": [
       "42"
      ]
     },
     "execution_count": 88,
     "metadata": {},
     "output_type": "execute_result"
    }
   ],
   "source": [
    "len(num_cols)+len(cat_cols)"
   ]
  },
  {
   "cell_type": "markdown",
   "id": "77dd23cf",
   "metadata": {},
   "source": [
    "Chi Square for categorical v/s categorical and one way anova for categorical v/s numerical"
   ]
  },
  {
   "cell_type": "markdown",
   "id": "616292c1",
   "metadata": {},
   "source": [
    "To see if the features are significant w.r.t to the target variable (readmitted)"
   ]
  },
  {
   "cell_type": "code",
   "execution_count": 89,
   "id": "51e635b7",
   "metadata": {},
   "outputs": [
    {
     "data": {
      "text/html": [
       "<div>\n",
       "<style scoped>\n",
       "    .dataframe tbody tr th:only-of-type {\n",
       "        vertical-align: middle;\n",
       "    }\n",
       "\n",
       "    .dataframe tbody tr th {\n",
       "        vertical-align: top;\n",
       "    }\n",
       "\n",
       "    .dataframe thead th {\n",
       "        text-align: right;\n",
       "    }\n",
       "</style>\n",
       "<table border=\"1\" class=\"dataframe\">\n",
       "  <thead>\n",
       "    <tr style=\"text-align: right;\">\n",
       "      <th></th>\n",
       "      <th>columns</th>\n",
       "      <th>p_value</th>\n",
       "      <th>significance</th>\n",
       "    </tr>\n",
       "  </thead>\n",
       "  <tbody>\n",
       "    <tr>\n",
       "      <th>39</th>\n",
       "      <td>preceding_year_visits</td>\n",
       "      <td>0.000000e+00</td>\n",
       "      <td>Significant</td>\n",
       "    </tr>\n",
       "    <tr>\n",
       "      <th>38</th>\n",
       "      <td>readmitted</td>\n",
       "      <td>0.000000e+00</td>\n",
       "      <td>Significant</td>\n",
       "    </tr>\n",
       "    <tr>\n",
       "      <th>4</th>\n",
       "      <td>discharge_disposition_id</td>\n",
       "      <td>1.002865e-175</td>\n",
       "      <td>Significant</td>\n",
       "    </tr>\n",
       "    <tr>\n",
       "      <th>13</th>\n",
       "      <td>number_diagnoses</td>\n",
       "      <td>1.181113e-62</td>\n",
       "      <td>Significant</td>\n",
       "    </tr>\n",
       "    <tr>\n",
       "      <th>6</th>\n",
       "      <td>time_in_hospital</td>\n",
       "      <td>6.893070e-49</td>\n",
       "      <td>Significant</td>\n",
       "    </tr>\n",
       "    <tr>\n",
       "      <th>31</th>\n",
       "      <td>insulin</td>\n",
       "      <td>1.450024e-43</td>\n",
       "      <td>Significant</td>\n",
       "    </tr>\n",
       "    <tr>\n",
       "      <th>9</th>\n",
       "      <td>num_medications</td>\n",
       "      <td>1.128847e-39</td>\n",
       "      <td>Significant</td>\n",
       "    </tr>\n",
       "    <tr>\n",
       "      <th>41</th>\n",
       "      <td>insulin_treatment</td>\n",
       "      <td>1.750135e-39</td>\n",
       "      <td>Significant</td>\n",
       "    </tr>\n",
       "    <tr>\n",
       "      <th>40</th>\n",
       "      <td>number_changes</td>\n",
       "      <td>3.627420e-30</td>\n",
       "      <td>Significant</td>\n",
       "    </tr>\n",
       "    <tr>\n",
       "      <th>12</th>\n",
       "      <td>diag_3</td>\n",
       "      <td>5.426864e-30</td>\n",
       "      <td>Significant</td>\n",
       "    </tr>\n",
       "    <tr>\n",
       "      <th>10</th>\n",
       "      <td>diag_1</td>\n",
       "      <td>7.642047e-28</td>\n",
       "      <td>Significant</td>\n",
       "    </tr>\n",
       "    <tr>\n",
       "      <th>11</th>\n",
       "      <td>diag_2</td>\n",
       "      <td>1.229337e-19</td>\n",
       "      <td>Significant</td>\n",
       "    </tr>\n",
       "    <tr>\n",
       "      <th>37</th>\n",
       "      <td>diabetesMed</td>\n",
       "      <td>2.949361e-16</td>\n",
       "      <td>Significant</td>\n",
       "    </tr>\n",
       "    <tr>\n",
       "      <th>16</th>\n",
       "      <td>metformin</td>\n",
       "      <td>2.759957e-15</td>\n",
       "      <td>Significant</td>\n",
       "    </tr>\n",
       "    <tr>\n",
       "      <th>7</th>\n",
       "      <td>num_lab_procedures</td>\n",
       "      <td>3.503248e-14</td>\n",
       "      <td>Significant</td>\n",
       "    </tr>\n",
       "    <tr>\n",
       "      <th>2</th>\n",
       "      <td>age</td>\n",
       "      <td>3.275694e-11</td>\n",
       "      <td>Significant</td>\n",
       "    </tr>\n",
       "    <tr>\n",
       "      <th>5</th>\n",
       "      <td>admission_source_id</td>\n",
       "      <td>1.937846e-09</td>\n",
       "      <td>Significant</td>\n",
       "    </tr>\n",
       "    <tr>\n",
       "      <th>36</th>\n",
       "      <td>change</td>\n",
       "      <td>4.233463e-09</td>\n",
       "      <td>Significant</td>\n",
       "    </tr>\n",
       "    <tr>\n",
       "      <th>15</th>\n",
       "      <td>A1Cresult</td>\n",
       "      <td>1.150395e-08</td>\n",
       "      <td>Significant</td>\n",
       "    </tr>\n",
       "    <tr>\n",
       "      <th>3</th>\n",
       "      <td>admission_type_id</td>\n",
       "      <td>7.471160e-06</td>\n",
       "      <td>Significant</td>\n",
       "    </tr>\n",
       "    <tr>\n",
       "      <th>14</th>\n",
       "      <td>max_glu_serum</td>\n",
       "      <td>2.682172e-04</td>\n",
       "      <td>Significant</td>\n",
       "    </tr>\n",
       "    <tr>\n",
       "      <th>8</th>\n",
       "      <td>num_procedures</td>\n",
       "      <td>1.530071e-03</td>\n",
       "      <td>Significant</td>\n",
       "    </tr>\n",
       "    <tr>\n",
       "      <th>22</th>\n",
       "      <td>glipizide</td>\n",
       "      <td>6.078898e-03</td>\n",
       "      <td>Significant</td>\n",
       "    </tr>\n",
       "    <tr>\n",
       "      <th>17</th>\n",
       "      <td>repaglinide</td>\n",
       "      <td>1.001026e-02</td>\n",
       "      <td>Significant</td>\n",
       "    </tr>\n",
       "    <tr>\n",
       "      <th>20</th>\n",
       "      <td>glimepiride</td>\n",
       "      <td>4.203875e-02</td>\n",
       "      <td>Significant</td>\n",
       "    </tr>\n",
       "    <tr>\n",
       "      <th>25</th>\n",
       "      <td>pioglitazone</td>\n",
       "      <td>4.487769e-02</td>\n",
       "      <td>Significant</td>\n",
       "    </tr>\n",
       "    <tr>\n",
       "      <th>26</th>\n",
       "      <td>rosiglitazone</td>\n",
       "      <td>7.245006e-02</td>\n",
       "      <td>Insignificant</td>\n",
       "    </tr>\n",
       "    <tr>\n",
       "      <th>23</th>\n",
       "      <td>glyburide</td>\n",
       "      <td>1.143482e-01</td>\n",
       "      <td>Insignificant</td>\n",
       "    </tr>\n",
       "    <tr>\n",
       "      <th>0</th>\n",
       "      <td>race</td>\n",
       "      <td>1.263105e-01</td>\n",
       "      <td>Insignificant</td>\n",
       "    </tr>\n",
       "    <tr>\n",
       "      <th>28</th>\n",
       "      <td>miglitol</td>\n",
       "      <td>1.688638e-01</td>\n",
       "      <td>Insignificant</td>\n",
       "    </tr>\n",
       "    <tr>\n",
       "      <th>34</th>\n",
       "      <td>glimepiride-pioglitazone</td>\n",
       "      <td>2.261856e-01</td>\n",
       "      <td>Insignificant</td>\n",
       "    </tr>\n",
       "    <tr>\n",
       "      <th>35</th>\n",
       "      <td>metformin-pioglitazone</td>\n",
       "      <td>2.261856e-01</td>\n",
       "      <td>Insignificant</td>\n",
       "    </tr>\n",
       "    <tr>\n",
       "      <th>21</th>\n",
       "      <td>acetohexamide</td>\n",
       "      <td>2.261856e-01</td>\n",
       "      <td>Insignificant</td>\n",
       "    </tr>\n",
       "    <tr>\n",
       "      <th>27</th>\n",
       "      <td>acarbose</td>\n",
       "      <td>2.389868e-01</td>\n",
       "      <td>Insignificant</td>\n",
       "    </tr>\n",
       "    <tr>\n",
       "      <th>1</th>\n",
       "      <td>gender</td>\n",
       "      <td>4.095739e-01</td>\n",
       "      <td>Insignificant</td>\n",
       "    </tr>\n",
       "    <tr>\n",
       "      <th>19</th>\n",
       "      <td>chlorpropamide</td>\n",
       "      <td>4.419945e-01</td>\n",
       "      <td>Insignificant</td>\n",
       "    </tr>\n",
       "    <tr>\n",
       "      <th>24</th>\n",
       "      <td>tolbutamide</td>\n",
       "      <td>5.785498e-01</td>\n",
       "      <td>Insignificant</td>\n",
       "    </tr>\n",
       "    <tr>\n",
       "      <th>18</th>\n",
       "      <td>nateglinide</td>\n",
       "      <td>6.970633e-01</td>\n",
       "      <td>Insignificant</td>\n",
       "    </tr>\n",
       "    <tr>\n",
       "      <th>32</th>\n",
       "      <td>glyburide-metformin</td>\n",
       "      <td>7.088183e-01</td>\n",
       "      <td>Insignificant</td>\n",
       "    </tr>\n",
       "    <tr>\n",
       "      <th>30</th>\n",
       "      <td>tolazamide</td>\n",
       "      <td>7.391046e-01</td>\n",
       "      <td>Insignificant</td>\n",
       "    </tr>\n",
       "    <tr>\n",
       "      <th>29</th>\n",
       "      <td>troglitazone</td>\n",
       "      <td>7.768704e-01</td>\n",
       "      <td>Insignificant</td>\n",
       "    </tr>\n",
       "    <tr>\n",
       "      <th>33</th>\n",
       "      <td>glipizide-metformin</td>\n",
       "      <td>9.925195e-01</td>\n",
       "      <td>Insignificant</td>\n",
       "    </tr>\n",
       "  </tbody>\n",
       "</table>\n",
       "</div>"
      ],
      "text/plain": [
       "                     columns        p_value   significance\n",
       "39     preceding_year_visits   0.000000e+00    Significant\n",
       "38                readmitted   0.000000e+00    Significant\n",
       "4   discharge_disposition_id  1.002865e-175    Significant\n",
       "13          number_diagnoses   1.181113e-62    Significant\n",
       "6           time_in_hospital   6.893070e-49    Significant\n",
       "31                   insulin   1.450024e-43    Significant\n",
       "9            num_medications   1.128847e-39    Significant\n",
       "41         insulin_treatment   1.750135e-39    Significant\n",
       "40            number_changes   3.627420e-30    Significant\n",
       "12                    diag_3   5.426864e-30    Significant\n",
       "10                    diag_1   7.642047e-28    Significant\n",
       "11                    diag_2   1.229337e-19    Significant\n",
       "37               diabetesMed   2.949361e-16    Significant\n",
       "16                 metformin   2.759957e-15    Significant\n",
       "7         num_lab_procedures   3.503248e-14    Significant\n",
       "2                        age   3.275694e-11    Significant\n",
       "5        admission_source_id   1.937846e-09    Significant\n",
       "36                    change   4.233463e-09    Significant\n",
       "15                 A1Cresult   1.150395e-08    Significant\n",
       "3          admission_type_id   7.471160e-06    Significant\n",
       "14             max_glu_serum   2.682172e-04    Significant\n",
       "8             num_procedures   1.530071e-03    Significant\n",
       "22                 glipizide   6.078898e-03    Significant\n",
       "17               repaglinide   1.001026e-02    Significant\n",
       "20               glimepiride   4.203875e-02    Significant\n",
       "25              pioglitazone   4.487769e-02    Significant\n",
       "26             rosiglitazone   7.245006e-02  Insignificant\n",
       "23                 glyburide   1.143482e-01  Insignificant\n",
       "0                       race   1.263105e-01  Insignificant\n",
       "28                  miglitol   1.688638e-01  Insignificant\n",
       "34  glimepiride-pioglitazone   2.261856e-01  Insignificant\n",
       "35    metformin-pioglitazone   2.261856e-01  Insignificant\n",
       "21             acetohexamide   2.261856e-01  Insignificant\n",
       "27                  acarbose   2.389868e-01  Insignificant\n",
       "1                     gender   4.095739e-01  Insignificant\n",
       "19            chlorpropamide   4.419945e-01  Insignificant\n",
       "24               tolbutamide   5.785498e-01  Insignificant\n",
       "18               nateglinide   6.970633e-01  Insignificant\n",
       "32       glyburide-metformin   7.088183e-01  Insignificant\n",
       "30                tolazamide   7.391046e-01  Insignificant\n",
       "29              troglitazone   7.768704e-01  Insignificant\n",
       "33       glipizide-metformin   9.925195e-01  Insignificant"
      ]
     },
     "execution_count": 89,
     "metadata": {},
     "output_type": "execute_result"
    }
   ],
   "source": [
    "#Statistical Tests (Chi Square and Anova)\n",
    "\n",
    "p_val = []\n",
    "sig = []\n",
    "for i in df.columns:\n",
    "    if i in num_cols:\n",
    "        stat, p = stats.f_oneway(df[df['readmitted'] == 0][i], df[df['readmitted'] == 1][i])\n",
    "    else:\n",
    "        ct = pd.crosstab(df[i], df['readmitted'])\n",
    "        stat, p, dof, exp = stats.chi2_contingency(ct)\n",
    "    p_val.append(p)\n",
    "    if p < 0.05:\n",
    "        sig.append('Significant')\n",
    "    else:\n",
    "        sig.append(\"Insignificant\")\n",
    "stats_df = pd.DataFrame({\"columns\" : df.columns, \"p_value\" : p_val, \"significance\" : sig})\n",
    "\n",
    "stats_df.sort_values(by='p_value',ascending = True)"
   ]
  },
  {
   "cell_type": "code",
   "execution_count": 90,
   "id": "04ce7b20",
   "metadata": {},
   "outputs": [
    {
     "name": "stdout",
     "output_type": "stream",
     "text": [
      "Statiscally significant features are : \n",
      "\n",
      "0                          age\n",
      "1            admission_type_id\n",
      "2     discharge_disposition_id\n",
      "3          admission_source_id\n",
      "4             time_in_hospital\n",
      "5           num_lab_procedures\n",
      "6               num_procedures\n",
      "7              num_medications\n",
      "8                       diag_1\n",
      "9                       diag_2\n",
      "10                      diag_3\n",
      "11            number_diagnoses\n",
      "12               max_glu_serum\n",
      "13                   A1Cresult\n",
      "14                   metformin\n",
      "15                 repaglinide\n",
      "16                 glimepiride\n",
      "17                   glipizide\n",
      "18                pioglitazone\n",
      "19                     insulin\n",
      "20                      change\n",
      "21                 diabetesMed\n",
      "22                  readmitted\n",
      "23       preceding_year_visits\n",
      "24              number_changes\n",
      "25           insulin_treatment\n",
      "Name: columns, dtype: object\n"
     ]
    }
   ],
   "source": [
    "sig_cols = stats_df[stats_df['significance'] == 'Significant']['columns'].reset_index(drop = True)\n",
    "insig_cols = stats_df[stats_df['significance'] == 'Insignificant']['columns'].reset_index(drop = True)\n",
    "print('Statiscally significant features are :','\\n')\n",
    "print(sig_cols)"
   ]
  },
  {
   "cell_type": "code",
   "execution_count": 91,
   "id": "f959c4fe",
   "metadata": {},
   "outputs": [],
   "source": [
    "#statistically insignificant meds\n",
    "\n",
    "insignificant_meds = ['nateglinide','chlorpropamide','acetohexamide','tolbutamide','acarbose','miglitol',\n",
    "                      'troglitazone','tolazamide','glyburide-metformin','glipizide-metformin',\n",
    "                      'glimepiride-pioglitazone','metformin-pioglitazone','glyburide','rosiglitazone']"
   ]
  },
  {
   "cell_type": "markdown",
   "id": "2d007c35",
   "metadata": {},
   "source": [
    "# Looking for medicines"
   ]
  },
  {
   "cell_type": "code",
   "execution_count": 92,
   "id": "0cf111ef",
   "metadata": {},
   "outputs": [
    {
     "data": {
      "text/plain": [
       "20"
      ]
     },
     "execution_count": 92,
     "metadata": {},
     "output_type": "execute_result"
    }
   ],
   "source": [
    "meds = ['metformin','repaglinide', 'nateglinide', 'chlorpropamide', 'glimepiride',\n",
    "       'acetohexamide', 'glipizide', 'glyburide', 'tolbutamide',\n",
    "       'pioglitazone', 'rosiglitazone', 'acarbose', 'miglitol', 'troglitazone',\n",
    "       'tolazamide', 'insulin', 'glyburide-metformin', 'glipizide-metformin',\n",
    "       'glimepiride-pioglitazone', 'metformin-pioglitazone']\n",
    "\n",
    "len(meds)"
   ]
  },
  {
   "cell_type": "code",
   "execution_count": 93,
   "id": "df716adb",
   "metadata": {},
   "outputs": [
    {
     "name": "stdout",
     "output_type": "stream",
     "text": [
      "-2    77697\n",
      " 0    17777\n",
      " 1     1035\n",
      "-1      561\n",
      "Name: metformin, dtype: int64 \n",
      "\n",
      "-2    95562\n",
      " 0     1359\n",
      " 1      106\n",
      "-1       43\n",
      "Name: repaglinide, dtype: int64 \n",
      "\n",
      "-2    96389\n",
      " 0      647\n",
      " 1       23\n",
      "-1       11\n",
      "Name: nateglinide, dtype: int64 \n",
      "\n",
      "-2    96987\n",
      " 0       76\n",
      " 1        6\n",
      "-1        1\n",
      "Name: chlorpropamide, dtype: int64 \n",
      "\n",
      "-2    92105\n",
      " 0     4466\n",
      " 1      316\n",
      "-1      183\n",
      "Name: glimepiride, dtype: int64 \n",
      "\n",
      "-2    97069\n",
      " 0        1\n",
      "Name: acetohexamide, dtype: int64 \n",
      "\n",
      "-2    84827\n",
      " 0    10963\n",
      " 1      748\n",
      "-1      532\n",
      "Name: glipizide, dtype: int64 \n",
      "\n",
      "-2    86820\n",
      " 0     8925\n",
      " 1      783\n",
      "-1      542\n",
      "Name: glyburide, dtype: int64 \n",
      "\n",
      "-2    97050\n",
      " 0       20\n",
      "Name: tolbutamide, dtype: int64 \n",
      "\n",
      "-2    89970\n",
      " 0     6758\n",
      " 1      226\n",
      "-1      116\n",
      "Name: pioglitazone, dtype: int64 \n",
      "\n",
      "-2    90907\n",
      " 0     5913\n",
      " 1      168\n",
      "-1       82\n",
      "Name: rosiglitazone, dtype: int64 \n",
      "\n",
      "-2    96771\n",
      " 0      286\n",
      " 1       10\n",
      "-1        3\n",
      "Name: acarbose, dtype: int64 \n",
      "\n",
      "-2    97032\n",
      " 0       31\n",
      "-1        5\n",
      " 1        2\n",
      "Name: miglitol, dtype: int64 \n",
      "\n",
      "-2    97067\n",
      " 0        3\n",
      "Name: troglitazone, dtype: int64 \n",
      "\n",
      "-2    97031\n",
      " 0       38\n",
      " 1        1\n",
      "Name: tolazamide, dtype: int64 \n",
      "\n",
      "-2    45487\n",
      " 0    29118\n",
      "-1    11735\n",
      " 1    10730\n",
      "Name: insulin, dtype: int64 \n",
      "\n",
      "-2    96399\n",
      " 0      662\n",
      " 1        6\n",
      "-1        3\n",
      "Name: glyburide-metformin, dtype: int64 \n",
      "\n",
      "-2    97057\n",
      " 0       13\n",
      "Name: glipizide-metformin, dtype: int64 \n",
      "\n",
      "-2    97069\n",
      " 0        1\n",
      "Name: glimepiride-pioglitazone, dtype: int64 \n",
      "\n",
      "-2    97069\n",
      " 0        1\n",
      "Name: metformin-pioglitazone, dtype: int64 \n",
      "\n"
     ]
    }
   ],
   "source": [
    "# Medicines given to less than 1% of the population i.e. less than 485 people\n",
    "less_counts = []\n",
    "\n",
    "for i in meds:\n",
    "    print(df[i].value_counts(), '\\n')\n",
    "\n",
    "    vc = df[i].value_counts().values\n",
    "    if vc[1:].sum() / vc[0] < 0.01:\n",
    "        less_counts.append(i)"
   ]
  },
  {
   "cell_type": "code",
   "execution_count": 94,
   "id": "fcd69383",
   "metadata": {},
   "outputs": [
    {
     "data": {
      "text/plain": [
       "(['nateglinide',\n",
       "  'chlorpropamide',\n",
       "  'acetohexamide',\n",
       "  'tolbutamide',\n",
       "  'acarbose',\n",
       "  'miglitol',\n",
       "  'troglitazone',\n",
       "  'tolazamide',\n",
       "  'glyburide-metformin',\n",
       "  'glipizide-metformin',\n",
       "  'glimepiride-pioglitazone',\n",
       "  'metformin-pioglitazone'],\n",
       " 12)"
      ]
     },
     "execution_count": 94,
     "metadata": {},
     "output_type": "execute_result"
    }
   ],
   "source": [
    "less_counts, len(less_counts) "
   ]
  },
  {
   "cell_type": "markdown",
   "id": "6185c62e",
   "metadata": {},
   "source": [
    "We can remove these medicines because they are given to less than 1% of the population and they are statistically insignificat as well."
   ]
  },
  {
   "cell_type": "code",
   "execution_count": 95,
   "id": "1c9e4eee",
   "metadata": {},
   "outputs": [],
   "source": [
    "df = df.drop(['nateglinide','chlorpropamide','acetohexamide',  'tolbutamide',\n",
    "              'acarbose', 'miglitol',  'troglitazone',  'tolazamide',\n",
    "              'glyburide-metformin',  'glipizide-metformin',\n",
    "              'glimepiride-pioglitazone','metformin-pioglitazone'],axis=1)"
   ]
  },
  {
   "cell_type": "markdown",
   "id": "8e19dfe2",
   "metadata": {},
   "source": [
    "Change and number change are depicting the same information and both of them are significant,we are dropping one of it based on the fact that number of change is a bit more significant than change.(lessser the pvalue better it is)"
   ]
  },
  {
   "cell_type": "code",
   "execution_count": 96,
   "id": "1ee7489f",
   "metadata": {},
   "outputs": [],
   "source": [
    "df = df.drop(['change'],axis=1)\n"
   ]
  },
  {
   "cell_type": "code",
   "execution_count": 97,
   "id": "ba943bfb",
   "metadata": {},
   "outputs": [
    {
     "data": {
      "text/plain": [
       "Emergency        68753\n",
       "Elective         18305\n",
       "Not Available    10012\n",
       "Name: admission_type_id, dtype: int64"
      ]
     },
     "execution_count": 97,
     "metadata": {},
     "output_type": "execute_result"
    }
   ],
   "source": [
    "df['admission_type_id'].value_counts()"
   ]
  },
  {
   "cell_type": "markdown",
   "id": "a94ab9c3",
   "metadata": {},
   "source": [
    "admission sorce id and admission type id are similar as admission type id's details are present in admission source id so we can drop admission type id and just keep admission source id"
   ]
  },
  {
   "cell_type": "code",
   "execution_count": 98,
   "id": "fce68484",
   "metadata": {},
   "outputs": [],
   "source": [
    "df = df.drop(['admission_type_id'],axis=1)"
   ]
  },
  {
   "cell_type": "code",
   "execution_count": 99,
   "id": "043cc2a2",
   "metadata": {},
   "outputs": [
    {
     "data": {
      "text/plain": [
       "(97070, 28)"
      ]
     },
     "execution_count": 99,
     "metadata": {},
     "output_type": "execute_result"
    }
   ],
   "source": [
    "df.shape"
   ]
  },
  {
   "cell_type": "code",
   "execution_count": 100,
   "id": "2bd5955b",
   "metadata": {},
   "outputs": [
    {
     "data": {
      "text/plain": [
       "Index(['race', 'gender', 'age', 'discharge_disposition_id',\n",
       "       'admission_source_id', 'time_in_hospital', 'num_lab_procedures',\n",
       "       'num_procedures', 'num_medications', 'diag_1', 'diag_2', 'diag_3',\n",
       "       'number_diagnoses', 'max_glu_serum', 'A1Cresult', 'metformin',\n",
       "       'repaglinide', 'glimepiride', 'glipizide', 'glyburide', 'pioglitazone',\n",
       "       'rosiglitazone', 'insulin', 'diabetesMed', 'readmitted',\n",
       "       'preceding_year_visits', 'number_changes', 'insulin_treatment'],\n",
       "      dtype='object')"
      ]
     },
     "execution_count": 100,
     "metadata": {},
     "output_type": "execute_result"
    }
   ],
   "source": [
    "df.columns"
   ]
  },
  {
   "cell_type": "markdown",
   "id": "b32fbd4e",
   "metadata": {},
   "source": [
    "# Multi-Collinearity"
   ]
  },
  {
   "cell_type": "code",
   "execution_count": 101,
   "id": "d5dc2203",
   "metadata": {},
   "outputs": [
    {
     "data": {
      "image/png": "[encoded data removed]",
      "text/plain": [
       "<Figure size 576x360 with 2 Axes>"
      ]
     },
     "metadata": {
      "needs_background": "light"
     },
     "output_type": "display_data"
    }
   ],
   "source": [
    "plt.figure(figsize=(8,5))\n",
    "corr=df[num_cols].corr()\n",
    "sns.heatmap(corr,annot=True,cmap='YlGnBu')\n",
    "b,t=plt.ylim()\n",
    "plt.ylim(b+0.5,t-0.5)\n",
    "plt.show()"
   ]
  },
  {
   "cell_type": "code",
   "execution_count": 102,
   "id": "fa12bab7",
   "metadata": {},
   "outputs": [
    {
     "data": {
      "text/html": [
       "<div>\n",
       "<style scoped>\n",
       "    .dataframe tbody tr th:only-of-type {\n",
       "        vertical-align: middle;\n",
       "    }\n",
       "\n",
       "    .dataframe tbody tr th {\n",
       "        vertical-align: top;\n",
       "    }\n",
       "\n",
       "    .dataframe thead th {\n",
       "        text-align: right;\n",
       "    }\n",
       "</style>\n",
       "<table border=\"1\" class=\"dataframe\">\n",
       "  <thead>\n",
       "    <tr style=\"text-align: right;\">\n",
       "      <th></th>\n",
       "      <th>VIF</th>\n",
       "      <th>feature</th>\n",
       "    </tr>\n",
       "  </thead>\n",
       "  <tbody>\n",
       "    <tr>\n",
       "      <th>5</th>\n",
       "      <td>15.085635</td>\n",
       "      <td>number_diagnoses</td>\n",
       "    </tr>\n",
       "    <tr>\n",
       "      <th>0</th>\n",
       "      <td>12.141439</td>\n",
       "      <td>age</td>\n",
       "    </tr>\n",
       "    <tr>\n",
       "      <th>4</th>\n",
       "      <td>7.651632</td>\n",
       "      <td>num_medications</td>\n",
       "    </tr>\n",
       "    <tr>\n",
       "      <th>2</th>\n",
       "      <td>6.101781</td>\n",
       "      <td>num_lab_procedures</td>\n",
       "    </tr>\n",
       "    <tr>\n",
       "      <th>1</th>\n",
       "      <td>4.344960</td>\n",
       "      <td>time_in_hospital</td>\n",
       "    </tr>\n",
       "    <tr>\n",
       "      <th>3</th>\n",
       "      <td>1.926622</td>\n",
       "      <td>num_procedures</td>\n",
       "    </tr>\n",
       "    <tr>\n",
       "      <th>7</th>\n",
       "      <td>1.451683</td>\n",
       "      <td>number_changes</td>\n",
       "    </tr>\n",
       "    <tr>\n",
       "      <th>6</th>\n",
       "      <td>1.320692</td>\n",
       "      <td>preceding_year_visits</td>\n",
       "    </tr>\n",
       "  </tbody>\n",
       "</table>\n",
       "</div>"
      ],
      "text/plain": [
       "         VIF                feature\n",
       "5  15.085635       number_diagnoses\n",
       "0  12.141439                    age\n",
       "4   7.651632        num_medications\n",
       "2   6.101781     num_lab_procedures\n",
       "1   4.344960       time_in_hospital\n",
       "3   1.926622         num_procedures\n",
       "7   1.451683         number_changes\n",
       "6   1.320692  preceding_year_visits"
      ]
     },
     "execution_count": 102,
     "metadata": {},
     "output_type": "execute_result"
    }
   ],
   "source": [
    "from statsmodels.stats.outliers_influence import variance_inflation_factor\n",
    "vif=pd.DataFrame()\n",
    "vif['VIF']=[variance_inflation_factor(df[num_cols].values,i) for i in range(df[num_cols].shape[1])]\n",
    "vif['feature']=df[num_cols].columns\n",
    "vif=vif.sort_values('VIF',ascending=False)\n",
    "vif"
   ]
  },
  {
   "cell_type": "markdown",
   "id": "1883ecae",
   "metadata": {},
   "source": [
    "As it can be seen from correlation heatmap and vif values that there is no Multi-Collinearity in the numerical features."
   ]
  },
  {
   "cell_type": "code",
   "execution_count": 103,
   "id": "5b0fc5a2",
   "metadata": {},
   "outputs": [
    {
     "data": {
      "image/png": "[encoded data removed]",
      "text/plain": [
       "<Figure size 1080x360 with 2 Axes>"
      ]
     },
     "metadata": {
      "needs_background": "light"
     },
     "output_type": "display_data"
    }
   ],
   "source": [
    "fig,ax=plt.subplots(1,2,figsize=(15,5))\n",
    "ax=ax.flatten()\n",
    "j=0\n",
    "for i in ['A1Cresult','max_glu_serum']:    \n",
    "    sns.countplot(df[i],hue=df['readmitted'],ax=ax[j]) \n",
    "    j=j+1\n",
    "plt.show()"
   ]
  },
  {
   "cell_type": "markdown",
   "id": "4e852a47",
   "metadata": {},
   "source": [
    "We can see that majority of the readmitted patients didn’t get an A1C test and Max Glucose Serum Test."
   ]
  },
  {
   "cell_type": "markdown",
   "id": "4c3d378b",
   "metadata": {},
   "source": [
    "# Outliers and Skewness"
   ]
  },
  {
   "cell_type": "markdown",
   "id": "1246f77d",
   "metadata": {},
   "source": [
    "Box-Plots"
   ]
  },
  {
   "cell_type": "code",
   "execution_count": 104,
   "id": "2b5afdb0",
   "metadata": {},
   "outputs": [
    {
     "data": {
      "image/png": "[encoded data removed]",
      "text/plain": [
       "<Figure size 1800x720 with 8 Axes>"
      ]
     },
     "metadata": {
      "needs_background": "light"
     },
     "output_type": "display_data"
    }
   ],
   "source": [
    "fig,ax=plt.subplots(2,4,figsize=(25,10))\n",
    "ax=ax.flatten()\n",
    "j=0\n",
    "for i in num_cols:    \n",
    "    sns.boxplot(df[i],ax=ax[j]) \n",
    "    j=j+1\n",
    "plt.show()"
   ]
  },
  {
   "cell_type": "code",
   "execution_count": 105,
   "id": "64d08ba9",
   "metadata": {},
   "outputs": [
    {
     "data": {
      "image/png": "[encoded data removed]",
      "text/plain": [
       "<Figure size 1800x720 with 8 Axes>"
      ]
     },
     "metadata": {
      "needs_background": "light"
     },
     "output_type": "display_data"
    }
   ],
   "source": [
    "fig,ax=plt.subplots(2,4,figsize=(25,10))\n",
    "ax=ax.flatten()\n",
    "j=0\n",
    "for i in num_cols:    \n",
    "    sns.kdeplot(df[i],ax=ax[j],shade=True)\n",
    "    plt.rc('legend', fontsize=15) \n",
    "    j=j+1\n",
    "plt.show()"
   ]
  },
  {
   "cell_type": "code",
   "execution_count": 106,
   "id": "b3dd62c9",
   "metadata": {},
   "outputs": [
    {
     "name": "stdout",
     "output_type": "stream",
     "text": [
      "age 840\n",
      "time_in_hospital 2103\n",
      "num_lab_procedures 119\n",
      "num_procedures 4675\n",
      "num_medications 2382\n",
      "number_diagnoses 266\n",
      "preceding_year_visits 4299\n",
      "number_changes 111\n"
     ]
    }
   ],
   "source": [
    "#Number of outliers\n",
    "for i in num_cols:\n",
    "    q1 = df[i].quantile(0.25)\n",
    "    q3 = df[i].quantile(0.75)\n",
    "    iqr = q3-q1\n",
    "\n",
    "    UL = q3 + (1.5 * iqr)\n",
    "    LL = q1 - (1.5 * iqr)\n",
    "    print(i,df[(df[i]>UL) | (df[i]<LL)].count()[i])\n",
    "    #print(X[(X[i]>UL) | (X[i]<LL)][i])"
   ]
  },
  {
   "cell_type": "markdown",
   "id": "9b697df4",
   "metadata": {},
   "source": [
    "The data is not normally distributed and has few outliers, so we use transformation."
   ]
  },
  {
   "cell_type": "code",
   "execution_count": 107,
   "id": "7f0ddc09",
   "metadata": {},
   "outputs": [
    {
     "data": {
      "text/html": [
       "<div>\n",
       "<style scoped>\n",
       "    .dataframe tbody tr th:only-of-type {\n",
       "        vertical-align: middle;\n",
       "    }\n",
       "\n",
       "    .dataframe tbody tr th {\n",
       "        vertical-align: top;\n",
       "    }\n",
       "\n",
       "    .dataframe thead th {\n",
       "        text-align: right;\n",
       "    }\n",
       "</style>\n",
       "<table border=\"1\" class=\"dataframe\">\n",
       "  <thead>\n",
       "    <tr style=\"text-align: right;\">\n",
       "      <th></th>\n",
       "      <th>Skew_Before</th>\n",
       "      <th>Skew_After</th>\n",
       "    </tr>\n",
       "  </thead>\n",
       "  <tbody>\n",
       "    <tr>\n",
       "      <th>age</th>\n",
       "      <td>-0.625265</td>\n",
       "      <td>-0.119083</td>\n",
       "    </tr>\n",
       "    <tr>\n",
       "      <th>time_in_hospital</th>\n",
       "      <td>1.141139</td>\n",
       "      <td>0.012974</td>\n",
       "    </tr>\n",
       "    <tr>\n",
       "      <th>num_lab_procedures</th>\n",
       "      <td>-0.239703</td>\n",
       "      <td>-0.230143</td>\n",
       "    </tr>\n",
       "    <tr>\n",
       "      <th>num_procedures</th>\n",
       "      <td>1.320396</td>\n",
       "      <td>0.207424</td>\n",
       "    </tr>\n",
       "    <tr>\n",
       "      <th>num_medications</th>\n",
       "      <td>1.331329</td>\n",
       "      <td>0.019316</td>\n",
       "    </tr>\n",
       "    <tr>\n",
       "      <th>number_diagnoses</th>\n",
       "      <td>-0.885529</td>\n",
       "      <td>-0.154843</td>\n",
       "    </tr>\n",
       "    <tr>\n",
       "      <th>preceding_year_visits</th>\n",
       "      <td>5.327782</td>\n",
       "      <td>0.409350</td>\n",
       "    </tr>\n",
       "    <tr>\n",
       "      <th>number_changes</th>\n",
       "      <td>1.425972</td>\n",
       "      <td>1.021220</td>\n",
       "    </tr>\n",
       "  </tbody>\n",
       "</table>\n",
       "</div>"
      ],
      "text/plain": [
       "                       Skew_Before  Skew_After\n",
       "age                      -0.625265   -0.119083\n",
       "time_in_hospital          1.141139    0.012974\n",
       "num_lab_procedures       -0.239703   -0.230143\n",
       "num_procedures            1.320396    0.207424\n",
       "num_medications           1.331329    0.019316\n",
       "number_diagnoses         -0.885529   -0.154843\n",
       "preceding_year_visits     5.327782    0.409350\n",
       "number_changes            1.425972    1.021220"
      ]
     },
     "execution_count": 107,
     "metadata": {},
     "output_type": "execute_result"
    }
   ],
   "source": [
    "pt = PowerTransformer(method = 'yeo-johnson')\n",
    "df_new=df.copy()\n",
    "df_new[num_cols]=pd.DataFrame(pt.fit_transform(df_new[num_cols]), columns = num_cols)\n",
    "skew_df = pd.DataFrame({\"Skew_Before\" : df[num_cols].skew(), \"Skew_After\" : df_new[num_cols].skew()})\n",
    "skew_df"
   ]
  },
  {
   "cell_type": "markdown",
   "id": "4f39c828",
   "metadata": {},
   "source": [
    "# Scaling"
   ]
  },
  {
   "cell_type": "code",
   "execution_count": 108,
   "id": "d921e657",
   "metadata": {},
   "outputs": [],
   "source": [
    "mm=MinMaxScaler()\n",
    "df_new[num_cols]=pd.DataFrame(mm.fit_transform(df_new[num_cols]), columns = num_cols)"
   ]
  },
  {
   "cell_type": "code",
   "execution_count": 109,
   "id": "65612056",
   "metadata": {},
   "outputs": [],
   "source": [
    "df.to_csv('Diabetes_cleaned.csv', index = False)"
   ]
  },
  {
   "cell_type": "markdown",
   "id": "4175972e",
   "metadata": {},
   "source": [
    "# Modeling"
   ]
  },
  {
   "cell_type": "code",
   "execution_count": 110,
   "id": "bffc4550",
   "metadata": {
    "scrolled": false
   },
   "outputs": [
    {
     "data": {
      "text/html": [
       "<div>\n",
       "<style scoped>\n",
       "    .dataframe tbody tr th:only-of-type {\n",
       "        vertical-align: middle;\n",
       "    }\n",
       "\n",
       "    .dataframe tbody tr th {\n",
       "        vertical-align: top;\n",
       "    }\n",
       "\n",
       "    .dataframe thead th {\n",
       "        text-align: right;\n",
       "    }\n",
       "</style>\n",
       "<table border=\"1\" class=\"dataframe\">\n",
       "  <thead>\n",
       "    <tr style=\"text-align: right;\">\n",
       "      <th></th>\n",
       "      <th>race</th>\n",
       "      <th>gender</th>\n",
       "      <th>age</th>\n",
       "      <th>discharge_disposition_id</th>\n",
       "      <th>admission_source_id</th>\n",
       "      <th>time_in_hospital</th>\n",
       "      <th>num_lab_procedures</th>\n",
       "      <th>num_procedures</th>\n",
       "      <th>num_medications</th>\n",
       "      <th>diag_1</th>\n",
       "      <th>diag_2</th>\n",
       "      <th>diag_3</th>\n",
       "      <th>number_diagnoses</th>\n",
       "      <th>max_glu_serum</th>\n",
       "      <th>A1Cresult</th>\n",
       "      <th>metformin</th>\n",
       "      <th>repaglinide</th>\n",
       "      <th>glimepiride</th>\n",
       "      <th>glipizide</th>\n",
       "      <th>glyburide</th>\n",
       "      <th>pioglitazone</th>\n",
       "      <th>rosiglitazone</th>\n",
       "      <th>insulin</th>\n",
       "      <th>diabetesMed</th>\n",
       "      <th>readmitted</th>\n",
       "      <th>preceding_year_visits</th>\n",
       "      <th>number_changes</th>\n",
       "      <th>insulin_treatment</th>\n",
       "    </tr>\n",
       "  </thead>\n",
       "  <tbody>\n",
       "    <tr>\n",
       "      <th>0</th>\n",
       "      <td>Caucasian</td>\n",
       "      <td>0</td>\n",
       "      <td>5</td>\n",
       "      <td>Not Available</td>\n",
       "      <td>Referral</td>\n",
       "      <td>1</td>\n",
       "      <td>41</td>\n",
       "      <td>0</td>\n",
       "      <td>1</td>\n",
       "      <td>Diabetes</td>\n",
       "      <td>Not Required</td>\n",
       "      <td>Not Required</td>\n",
       "      <td>1</td>\n",
       "      <td>None</td>\n",
       "      <td>None</td>\n",
       "      <td>-2</td>\n",
       "      <td>-2</td>\n",
       "      <td>-2</td>\n",
       "      <td>-2</td>\n",
       "      <td>-2</td>\n",
       "      <td>-2</td>\n",
       "      <td>-2</td>\n",
       "      <td>-2</td>\n",
       "      <td>0</td>\n",
       "      <td>0</td>\n",
       "      <td>0</td>\n",
       "      <td>0.0</td>\n",
       "      <td>no_med</td>\n",
       "    </tr>\n",
       "    <tr>\n",
       "      <th>1</th>\n",
       "      <td>Caucasian</td>\n",
       "      <td>0</td>\n",
       "      <td>15</td>\n",
       "      <td>Discharged to home</td>\n",
       "      <td>Emergency</td>\n",
       "      <td>3</td>\n",
       "      <td>59</td>\n",
       "      <td>0</td>\n",
       "      <td>18</td>\n",
       "      <td>Endocrine, Nutritional, Metabolic, Immunity</td>\n",
       "      <td>Diabetes</td>\n",
       "      <td>Endocrine, Nutritional, Metabolic, Immunity</td>\n",
       "      <td>9</td>\n",
       "      <td>None</td>\n",
       "      <td>None</td>\n",
       "      <td>-2</td>\n",
       "      <td>-2</td>\n",
       "      <td>-2</td>\n",
       "      <td>-2</td>\n",
       "      <td>-2</td>\n",
       "      <td>-2</td>\n",
       "      <td>-2</td>\n",
       "      <td>1</td>\n",
       "      <td>1</td>\n",
       "      <td>0</td>\n",
       "      <td>0</td>\n",
       "      <td>1.0</td>\n",
       "      <td>insulin_only</td>\n",
       "    </tr>\n",
       "    <tr>\n",
       "      <th>2</th>\n",
       "      <td>AfricanAmerican</td>\n",
       "      <td>0</td>\n",
       "      <td>25</td>\n",
       "      <td>Discharged to home</td>\n",
       "      <td>Emergency</td>\n",
       "      <td>2</td>\n",
       "      <td>11</td>\n",
       "      <td>5</td>\n",
       "      <td>13</td>\n",
       "      <td>Pregnancy, Childbirth</td>\n",
       "      <td>Diabetes</td>\n",
       "      <td>External causes of injury</td>\n",
       "      <td>6</td>\n",
       "      <td>None</td>\n",
       "      <td>None</td>\n",
       "      <td>-2</td>\n",
       "      <td>-2</td>\n",
       "      <td>-2</td>\n",
       "      <td>0</td>\n",
       "      <td>-2</td>\n",
       "      <td>-2</td>\n",
       "      <td>-2</td>\n",
       "      <td>-2</td>\n",
       "      <td>1</td>\n",
       "      <td>0</td>\n",
       "      <td>3</td>\n",
       "      <td>0.0</td>\n",
       "      <td>other_meds</td>\n",
       "    </tr>\n",
       "    <tr>\n",
       "      <th>3</th>\n",
       "      <td>Caucasian</td>\n",
       "      <td>1</td>\n",
       "      <td>35</td>\n",
       "      <td>Discharged to home</td>\n",
       "      <td>Emergency</td>\n",
       "      <td>2</td>\n",
       "      <td>44</td>\n",
       "      <td>1</td>\n",
       "      <td>16</td>\n",
       "      <td>Infectious and Parasitic</td>\n",
       "      <td>Diabetes</td>\n",
       "      <td>Circulatory</td>\n",
       "      <td>7</td>\n",
       "      <td>None</td>\n",
       "      <td>None</td>\n",
       "      <td>-2</td>\n",
       "      <td>-2</td>\n",
       "      <td>-2</td>\n",
       "      <td>-2</td>\n",
       "      <td>-2</td>\n",
       "      <td>-2</td>\n",
       "      <td>-2</td>\n",
       "      <td>1</td>\n",
       "      <td>1</td>\n",
       "      <td>0</td>\n",
       "      <td>0</td>\n",
       "      <td>1.0</td>\n",
       "      <td>insulin_only</td>\n",
       "    </tr>\n",
       "    <tr>\n",
       "      <th>4</th>\n",
       "      <td>Caucasian</td>\n",
       "      <td>1</td>\n",
       "      <td>45</td>\n",
       "      <td>Discharged to home</td>\n",
       "      <td>Emergency</td>\n",
       "      <td>1</td>\n",
       "      <td>51</td>\n",
       "      <td>0</td>\n",
       "      <td>8</td>\n",
       "      <td>Neoplasms</td>\n",
       "      <td>Neoplasms</td>\n",
       "      <td>Diabetes</td>\n",
       "      <td>5</td>\n",
       "      <td>None</td>\n",
       "      <td>None</td>\n",
       "      <td>-2</td>\n",
       "      <td>-2</td>\n",
       "      <td>-2</td>\n",
       "      <td>0</td>\n",
       "      <td>-2</td>\n",
       "      <td>-2</td>\n",
       "      <td>-2</td>\n",
       "      <td>0</td>\n",
       "      <td>1</td>\n",
       "      <td>0</td>\n",
       "      <td>0</td>\n",
       "      <td>0.0</td>\n",
       "      <td>insulin_combo</td>\n",
       "    </tr>\n",
       "  </tbody>\n",
       "</table>\n",
       "</div>"
      ],
      "text/plain": [
       "              race  gender  age discharge_disposition_id admission_source_id  \\\n",
       "0        Caucasian       0    5            Not Available            Referral   \n",
       "1        Caucasian       0   15       Discharged to home           Emergency   \n",
       "2  AfricanAmerican       0   25       Discharged to home           Emergency   \n",
       "3        Caucasian       1   35       Discharged to home           Emergency   \n",
       "4        Caucasian       1   45       Discharged to home           Emergency   \n",
       "\n",
       "   time_in_hospital  num_lab_procedures  num_procedures  num_medications  \\\n",
       "0                 1                  41               0                1   \n",
       "1                 3                  59               0               18   \n",
       "2                 2                  11               5               13   \n",
       "3                 2                  44               1               16   \n",
       "4                 1                  51               0                8   \n",
       "\n",
       "                                        diag_1        diag_2  \\\n",
       "0                                     Diabetes  Not Required   \n",
       "1  Endocrine, Nutritional, Metabolic, Immunity      Diabetes   \n",
       "2                        Pregnancy, Childbirth      Diabetes   \n",
       "3                     Infectious and Parasitic      Diabetes   \n",
       "4                                    Neoplasms     Neoplasms   \n",
       "\n",
       "                                        diag_3  number_diagnoses  \\\n",
       "0                                 Not Required                 1   \n",
       "1  Endocrine, Nutritional, Metabolic, Immunity                 9   \n",
       "2                    External causes of injury                 6   \n",
       "3                                  Circulatory                 7   \n",
       "4                                     Diabetes                 5   \n",
       "\n",
       "  max_glu_serum A1Cresult  metformin  repaglinide  glimepiride  glipizide  \\\n",
       "0          None      None         -2           -2           -2         -2   \n",
       "1          None      None         -2           -2           -2         -2   \n",
       "2          None      None         -2           -2           -2          0   \n",
       "3          None      None         -2           -2           -2         -2   \n",
       "4          None      None         -2           -2           -2          0   \n",
       "\n",
       "   glyburide  pioglitazone  rosiglitazone  insulin  diabetesMed  readmitted  \\\n",
       "0         -2            -2             -2       -2            0           0   \n",
       "1         -2            -2             -2        1            1           0   \n",
       "2         -2            -2             -2       -2            1           0   \n",
       "3         -2            -2             -2        1            1           0   \n",
       "4         -2            -2             -2        0            1           0   \n",
       "\n",
       "   preceding_year_visits  number_changes insulin_treatment  \n",
       "0                      0             0.0            no_med  \n",
       "1                      0             1.0      insulin_only  \n",
       "2                      3             0.0        other_meds  \n",
       "3                      0             1.0      insulin_only  \n",
       "4                      0             0.0     insulin_combo  "
      ]
     },
     "execution_count": 110,
     "metadata": {},
     "output_type": "execute_result"
    }
   ],
   "source": [
    "df=pd.read_csv('Diabetes_cleaned.csv')\n",
    "df.head()"
   ]
  },
  {
   "cell_type": "code",
   "execution_count": 111,
   "id": "458e7c88",
   "metadata": {},
   "outputs": [],
   "source": [
    "import numpy as np\n",
    "import pandas as pd\n",
    "import matplotlib.pyplot as plt\n",
    "import seaborn as sns\n",
    "  \n",
    "import time\n",
    "from sklearn.linear_model import LogisticRegression\n",
    "from sklearn.ensemble import RandomForestClassifier, AdaBoostClassifier, BaggingClassifier, ExtraTreesClassifier, GradientBoostingClassifier\n",
    "from sklearn.tree import DecisionTreeClassifier\n",
    "from sklearn.neighbors import KNeighborsClassifier\n",
    "from sklearn.svm import SVC\n",
    "from sklearn.preprocessing import StandardScaler, PowerTransformer, LabelEncoder, OneHotEncoder\n",
    "from sklearn.model_selection import train_test_split, cross_val_score,RandomizedSearchCV, StratifiedKFold\n",
    "from scipy.stats import randint as sp_randint\n",
    "from sklearn.pipeline import Pipeline\n",
    "from sklearn.metrics import classification_report, confusion_matrix, precision_score, recall_score, f1_score, roc_auc_score\n",
    "import scipy.stats as stats\n",
    "from sklearn.metrics import recall_score, f1_score, confusion_matrix, classification_report, accuracy_score,precision_score, roc_auc_score"
   ]
  },
  {
   "cell_type": "code",
   "execution_count": 112,
   "id": "c25cc854",
   "metadata": {
    "scrolled": true
   },
   "outputs": [],
   "source": [
    "from xgboost import XGBClassifier"
   ]
  },
  {
   "cell_type": "code",
   "execution_count": 113,
   "id": "5cb14359",
   "metadata": {},
   "outputs": [
    {
     "name": "stdout",
     "output_type": "stream",
     "text": [
      "Requirement already satisfied: lightgbm in c:\\users\\arvind sain\\anaconda3\\lib\\site-packages (3.3.2)\n",
      "Requirement already satisfied: numpy in c:\\users\\arvind sain\\anaconda3\\lib\\site-packages (from lightgbm) (1.20.1)\n",
      "Requirement already satisfied: wheel in c:\\users\\arvind sain\\anaconda3\\lib\\site-packages (from lightgbm) (0.36.2)\n",
      "Requirement already satisfied: scikit-learn!=0.22.0 in c:\\users\\arvind sain\\anaconda3\\lib\\site-packages (from lightgbm) (1.1.1)\n",
      "Requirement already satisfied: scipy in c:\\users\\arvind sain\\anaconda3\\lib\\site-packages (from lightgbm) (1.6.2)\n",
      "Requirement already satisfied: threadpoolctl>=2.0.0 in c:\\users\\arvind sain\\anaconda3\\lib\\site-packages (from scikit-learn!=0.22.0->lightgbm) (2.1.0)\n",
      "Requirement already satisfied: joblib>=1.0.0 in c:\\users\\arvind sain\\anaconda3\\lib\\site-packages (from scikit-learn!=0.22.0->lightgbm) (1.0.1)\n"
     ]
    }
   ],
   "source": [
    "!pip3 install lightgbm"
   ]
  },
  {
   "cell_type": "code",
   "execution_count": 114,
   "id": "92396a14",
   "metadata": {},
   "outputs": [],
   "source": [
    "from lightgbm import LGBMClassifier"
   ]
  },
  {
   "cell_type": "code",
   "execution_count": null,
   "id": "e7e2909d",
   "metadata": {},
   "outputs": [],
   "source": []
  },
  {
   "cell_type": "markdown",
   "id": "1b0a41fe",
   "metadata": {},
   "source": [
    "# Baseline Model"
   ]
  },
  {
   "cell_type": "code",
   "execution_count": 115,
   "id": "25325840",
   "metadata": {},
   "outputs": [],
   "source": [
    "X = df.drop('readmitted', 1)\n",
    "y = df['readmitted']"
   ]
  },
  {
   "cell_type": "code",
   "execution_count": 116,
   "id": "14c24317",
   "metadata": {},
   "outputs": [
    {
     "data": {
      "text/plain": [
       "((67949, 95), (29121, 95))"
      ]
     },
     "execution_count": 116,
     "metadata": {},
     "output_type": "execute_result"
    }
   ],
   "source": [
    "X_dum = pd.get_dummies(X, drop_first = True)\n",
    "X_train, X_test, y_train, y_test = train_test_split(X_dum, y, test_size = 0.3, random_state = 0, stratify = y)\n",
    "X_train.shape, X_test.shape"
   ]
  },
  {
   "cell_type": "code",
   "execution_count": 117,
   "id": "6a8c0a46",
   "metadata": {},
   "outputs": [],
   "source": [
    "X_train.columns = [\"\".join (c if c.isalnum() else \"_\" for c in str(x)) for x in X_train.columns]\n",
    "X_test.columns = [\"\".join (c if c.isalnum() else \"_\" for c in str(x)) for x in X_test.columns]"
   ]
  },
  {
   "cell_type": "code",
   "execution_count": 118,
   "id": "771ea627",
   "metadata": {},
   "outputs": [],
   "source": [
    "from sklearn.metrics import recall_score, f1_score, confusion_matrix, classification_report, accuracy_score,precision_score, roc_auc_score"
   ]
  },
  {
   "cell_type": "code",
   "execution_count": 119,
   "id": "f8cb783b",
   "metadata": {
    "scrolled": true
   },
   "outputs": [
    {
     "name": "stdout",
     "output_type": "stream",
     "text": [
      "Train Accuracy Score: 0.9999411323198281\n",
      "Train Confusion Matrix:\n",
      " [[60165     0]\n",
      " [    4  7780]] \n",
      "\n",
      "Train F1 Score: 0.9997429966589566\n",
      "Train Precision Score: 1.0\n",
      "Train Recall Score: 0.9994861253854059\n",
      "Train ROC_AUC Score: 0.999999998932364\n",
      "\n",
      "Test Accuracy Score: 0.8855465128257958\n",
      "Test Confusion Matrix:\n",
      " [[25778     7]\n",
      " [ 3326    10]] \n",
      "\n",
      "Test F1 Score: 0.005964807634953773\n",
      "Test Precision Score: 0.5882352941176471\n",
      "Test Recall Score: 0.002997601918465228\n",
      "Test ROC_AUC Score: 0.6344802982512187\n"
     ]
    }
   ],
   "source": [
    "from sklearn.ensemble import RandomForestClassifier\n",
    "\n",
    "rf = RandomForestClassifier(random_state = 0, n_jobs = -1)\n",
    "rf.fit(X_train, y_train)\n",
    "y_train_pred = rf.predict(X_train)\n",
    "y_train_prob = rf.predict_proba(X_train)[:, 1]\n",
    "y_test_pred = rf.predict(X_test)\n",
    "y_test_prob = rf.predict_proba(X_test)[:, 1]\n",
    "\n",
    "print(\"Train Accuracy Score:\", accuracy_score(y_train, y_train_pred))\n",
    "print(\"Train Confusion Matrix:\\n\", confusion_matrix(y_train, y_train_pred), '\\n')\n",
    "print(\"Train F1 Score:\", f1_score(y_train, y_train_pred))\n",
    "print(\"Train Precision Score:\", precision_score(y_train, y_train_pred))\n",
    "print(\"Train Recall Score:\", recall_score(y_train, y_train_pred))\n",
    "print(\"Train ROC_AUC Score:\", roc_auc_score(y_train, y_train_prob))\n",
    "print()\n",
    "print(\"Test Accuracy Score:\", accuracy_score(y_test, y_test_pred))\n",
    "print(\"Test Confusion Matrix:\\n\", confusion_matrix(y_test, y_test_pred), '\\n')\n",
    "print(\"Test F1 Score:\", f1_score(y_test, y_test_pred))\n",
    "print(\"Test Precision Score:\", precision_score(y_test, y_test_pred))\n",
    "print(\"Test Recall Score:\", recall_score(y_test, y_test_pred))\n",
    "print(\"Test ROC_AUC Score:\", roc_auc_score(y_test, y_test_prob))"
   ]
  },
  {
   "cell_type": "markdown",
   "id": "136be74d",
   "metadata": {},
   "source": [
    "It is clear that there is overfitting and recall is very low in test results. The main cause is the class imbalance present in our data."
   ]
  },
  {
   "cell_type": "code",
   "execution_count": 120,
   "id": "84905c0c",
   "metadata": {
    "scrolled": true
   },
   "outputs": [
    {
     "name": "stdout",
     "output_type": "stream",
     "text": [
      "Note: you may need to restart the kernel to use updated packages.\n"
     ]
    },
    {
     "name": "stderr",
     "output_type": "stream",
     "text": [
      "'C:\\Users\\Arvind' is not recognized as an internal or external command,\n",
      "operable program or batch file.\n"
     ]
    }
   ],
   "source": [
    "pip install svm"
   ]
  },
  {
   "cell_type": "code",
   "execution_count": 121,
   "id": "d5b5203e",
   "metadata": {},
   "outputs": [],
   "source": [
    "import time;"
   ]
  },
  {
   "cell_type": "code",
   "execution_count": 122,
   "id": "d910fbf9",
   "metadata": {},
   "outputs": [],
   "source": [
    "from sklearn.linear_model import LogisticRegression\n",
    "from sklearn.ensemble import RandomForestClassifier, AdaBoostClassifier, BaggingClassifier, ExtraTreesClassifier, GradientBoostingClassifier\n",
    "from sklearn.tree import DecisionTreeClassifier\n",
    "from sklearn.neighbors import KNeighborsClassifier"
   ]
  },
  {
   "cell_type": "code",
   "execution_count": 123,
   "id": "558d3a79",
   "metadata": {},
   "outputs": [],
   "source": [
    "from sklearn.preprocessing import StandardScaler, PowerTransformer, LabelEncoder, OneHotEncoder"
   ]
  },
  {
   "cell_type": "code",
   "execution_count": 124,
   "id": "b0723409",
   "metadata": {},
   "outputs": [],
   "source": [
    "from sklearn.pipeline import Pipeline\n",
    "from sklearn.metrics import classification_report, confusion_matrix, precision_score, recall_score, f1_score, roc_auc_score\n",
    "import scipy.stats as stats"
   ]
  },
  {
   "cell_type": "code",
   "execution_count": null,
   "id": "b46b0f72",
   "metadata": {},
   "outputs": [],
   "source": []
  },
  {
   "cell_type": "code",
   "execution_count": 125,
   "id": "212cb4bc",
   "metadata": {},
   "outputs": [
    {
     "data": {
      "text/html": [
       "<div>\n",
       "<style scoped>\n",
       "    .dataframe tbody tr th:only-of-type {\n",
       "        vertical-align: middle;\n",
       "    }\n",
       "\n",
       "    .dataframe tbody tr th {\n",
       "        vertical-align: top;\n",
       "    }\n",
       "\n",
       "    .dataframe thead th {\n",
       "        text-align: right;\n",
       "    }\n",
       "</style>\n",
       "<table border=\"1\" class=\"dataframe\">\n",
       "  <thead>\n",
       "    <tr style=\"text-align: right;\">\n",
       "      <th></th>\n",
       "      <th>Model</th>\n",
       "      <th>Precision</th>\n",
       "      <th>Recall</th>\n",
       "      <th>F1</th>\n",
       "      <th>Accuracy</th>\n",
       "      <th>ROC_AUC</th>\n",
       "      <th>Training_Time</th>\n",
       "      <th>Prediction_Time</th>\n",
       "    </tr>\n",
       "  </thead>\n",
       "  <tbody>\n",
       "    <tr>\n",
       "      <th>0</th>\n",
       "      <td>LR</td>\n",
       "      <td>1.000000</td>\n",
       "      <td>0.000300</td>\n",
       "      <td>0.000599</td>\n",
       "      <td>0.885478</td>\n",
       "      <td>0.650394</td>\n",
       "      <td>10.445216</td>\n",
       "      <td>0.171888</td>\n",
       "    </tr>\n",
       "    <tr>\n",
       "      <th>1</th>\n",
       "      <td>DT</td>\n",
       "      <td>0.157147</td>\n",
       "      <td>0.172362</td>\n",
       "      <td>0.164403</td>\n",
       "      <td>0.799286</td>\n",
       "      <td>0.526379</td>\n",
       "      <td>2.104816</td>\n",
       "      <td>0.031252</td>\n",
       "    </tr>\n",
       "    <tr>\n",
       "      <th>2</th>\n",
       "      <td>RF</td>\n",
       "      <td>0.588235</td>\n",
       "      <td>0.002998</td>\n",
       "      <td>0.005965</td>\n",
       "      <td>0.885547</td>\n",
       "      <td>0.634480</td>\n",
       "      <td>11.619399</td>\n",
       "      <td>0.617060</td>\n",
       "    </tr>\n",
       "    <tr>\n",
       "      <th>3</th>\n",
       "      <td>ADA</td>\n",
       "      <td>0.500000</td>\n",
       "      <td>0.000600</td>\n",
       "      <td>0.001198</td>\n",
       "      <td>0.885443</td>\n",
       "      <td>0.656087</td>\n",
       "      <td>7.440469</td>\n",
       "      <td>0.763178</td>\n",
       "    </tr>\n",
       "    <tr>\n",
       "      <th>4</th>\n",
       "      <td>XGB</td>\n",
       "      <td>0.412281</td>\n",
       "      <td>0.014089</td>\n",
       "      <td>0.027246</td>\n",
       "      <td>0.884757</td>\n",
       "      <td>0.644734</td>\n",
       "      <td>18.245344</td>\n",
       "      <td>0.202718</td>\n",
       "    </tr>\n",
       "    <tr>\n",
       "      <th>5</th>\n",
       "      <td>LGB</td>\n",
       "      <td>0.750000</td>\n",
       "      <td>0.007194</td>\n",
       "      <td>0.014252</td>\n",
       "      <td>0.885993</td>\n",
       "      <td>0.662820</td>\n",
       "      <td>1.200830</td>\n",
       "      <td>0.205809</td>\n",
       "    </tr>\n",
       "  </tbody>\n",
       "</table>\n",
       "</div>"
      ],
      "text/plain": [
       "  Model  Precision    Recall        F1  Accuracy   ROC_AUC  Training_Time  \\\n",
       "0    LR   1.000000  0.000300  0.000599  0.885478  0.650394      10.445216   \n",
       "1    DT   0.157147  0.172362  0.164403  0.799286  0.526379       2.104816   \n",
       "2    RF   0.588235  0.002998  0.005965  0.885547  0.634480      11.619399   \n",
       "3   ADA   0.500000  0.000600  0.001198  0.885443  0.656087       7.440469   \n",
       "4   XGB   0.412281  0.014089  0.027246  0.884757  0.644734      18.245344   \n",
       "5   LGB   0.750000  0.007194  0.014252  0.885993  0.662820       1.200830   \n",
       "\n",
       "   Prediction_Time  \n",
       "0         0.171888  \n",
       "1         0.031252  \n",
       "2         0.617060  \n",
       "3         0.763178  \n",
       "4         0.202718  \n",
       "5         0.205809  "
      ]
     },
     "execution_count": 125,
     "metadata": {},
     "output_type": "execute_result"
    }
   ],
   "source": [
    "models = []\n",
    "\n",
    "models.append(('LR', Pipeline([(\"Transformer\", PowerTransformer()),\n",
    "                               (\"Scaler\", StandardScaler()),\n",
    "                              (\"LogReg\", LogisticRegression(random_state = 0, solver = 'liblinear'))])))\n",
    "models.append(('DT', DecisionTreeClassifier(random_state = 0)))\n",
    "models.append(('RF', RandomForestClassifier(random_state = 0, n_jobs = -1)))\n",
    "models.append(('ADA',AdaBoostClassifier(random_state = 0)))\n",
    "models.append(('XGB', XGBClassifier(random_state = 0, n_jobs = -1)))\n",
    "models.append(('LGB',LGBMClassifier(random_state = 0, n_jobs = -1)))\n",
    "#models.append(('SVC', Pipeline([(\"Transformer\", PowerTransformer()),\n",
    "#                                (\"Scaler\", StandardScaler()),\n",
    "#                                (\"SVC\", SVC(random_state = 0, probability=True))])))\n",
    "\n",
    "\n",
    "\n",
    "## Validation Set Scores\n",
    "precision = []\n",
    "recall = []\n",
    "names = []\n",
    "f1 = []\n",
    "accuracy = []\n",
    "roc_auc = []\n",
    "Training_Time=[]\n",
    "Prediction_Time=[]\n",
    "\n",
    "for name, model in models:\n",
    "    start_time = time.time()    \n",
    "    model.fit(X_train, y_train)\n",
    "    end_time = time.time()\n",
    "    Training_Time.append(end_time - start_time)\n",
    "    \n",
    "    start_time = time.time()\n",
    "    y_pred = model.predict(X_test)\n",
    "    end_time = time.time()\n",
    "    Prediction_Time.append(end_time-start_time)\n",
    "    \n",
    "    y_proba = model.predict_proba(X_test)[:, 1]\n",
    "    precision.append(precision_score(y_test, y_pred))\n",
    "    recall.append(recall_score(y_test, y_pred))\n",
    "    f1.append(f1_score(y_test, y_pred))\n",
    "    accuracy.append(accuracy_score(y_test, y_pred))\n",
    "    roc_auc.append(roc_auc_score(y_test, y_proba))\n",
    "    names.append(name)\n",
    "models_df = pd.DataFrame({'Model' : names, 'Precision' : precision, 'Recall' : recall,\n",
    "                          'F1' : f1, 'Accuracy' : accuracy, 'ROC_AUC' : roc_auc,\n",
    "                          'Training_Time':Training_Time,'Prediction_Time':Prediction_Time})\n",
    "models_df"
   ]
  },
  {
   "cell_type": "code",
   "execution_count": 126,
   "id": "1531043e",
   "metadata": {},
   "outputs": [
    {
     "data": {
      "text/plain": [
       "0    88.544349\n",
       "1    11.455651\n",
       "Name: readmitted, dtype: float64"
      ]
     },
     "execution_count": 126,
     "metadata": {},
     "output_type": "execute_result"
    }
   ],
   "source": [
    "df['readmitted'].value_counts(1)*100"
   ]
  },
  {
   "cell_type": "markdown",
   "id": "370f92d8",
   "metadata": {},
   "source": [
    "The Imbalance Ratio of our dataset was 1: 8. This may lead to treating features of the minority class as noise. Thus, there is a high probability of misclassification of the minority class as compared to the majority class. Keeping in mind the disadvantages of oversampling and undersampling techniques, we have used cost sensitive algorithms to deal with class imbalance"
   ]
  },
  {
   "cell_type": "markdown",
   "id": "42183184",
   "metadata": {},
   "source": [
    "# With Class Weights"
   ]
  },
  {
   "cell_type": "code",
   "execution_count": 127,
   "id": "6b1bdee6",
   "metadata": {},
   "outputs": [
    {
     "data": {
      "text/html": [
       "<div>\n",
       "<style scoped>\n",
       "    .dataframe tbody tr th:only-of-type {\n",
       "        vertical-align: middle;\n",
       "    }\n",
       "\n",
       "    .dataframe tbody tr th {\n",
       "        vertical-align: top;\n",
       "    }\n",
       "\n",
       "    .dataframe thead th {\n",
       "        text-align: right;\n",
       "    }\n",
       "</style>\n",
       "<table border=\"1\" class=\"dataframe\">\n",
       "  <thead>\n",
       "    <tr style=\"text-align: right;\">\n",
       "      <th></th>\n",
       "      <th>Model</th>\n",
       "      <th>Precision</th>\n",
       "      <th>Recall</th>\n",
       "      <th>F1</th>\n",
       "      <th>Accuracy</th>\n",
       "      <th>ROC_AUC</th>\n",
       "      <th>Training_Time</th>\n",
       "      <th>Prediction_Time</th>\n",
       "    </tr>\n",
       "  </thead>\n",
       "  <tbody>\n",
       "    <tr>\n",
       "      <th>0</th>\n",
       "      <td>LR</td>\n",
       "      <td>0.169277</td>\n",
       "      <td>0.612410</td>\n",
       "      <td>0.265239</td>\n",
       "      <td>0.611311</td>\n",
       "      <td>0.651578</td>\n",
       "      <td>9.811963</td>\n",
       "      <td>0.171839</td>\n",
       "    </tr>\n",
       "    <tr>\n",
       "      <th>1</th>\n",
       "      <td>DT</td>\n",
       "      <td>0.157309</td>\n",
       "      <td>0.178058</td>\n",
       "      <td>0.167042</td>\n",
       "      <td>0.796573</td>\n",
       "      <td>0.527326</td>\n",
       "      <td>1.995240</td>\n",
       "      <td>0.046890</td>\n",
       "    </tr>\n",
       "    <tr>\n",
       "      <th>2</th>\n",
       "      <td>RF</td>\n",
       "      <td>0.714286</td>\n",
       "      <td>0.002998</td>\n",
       "      <td>0.005970</td>\n",
       "      <td>0.885650</td>\n",
       "      <td>0.628691</td>\n",
       "      <td>11.528068</td>\n",
       "      <td>0.499969</td>\n",
       "    </tr>\n",
       "    <tr>\n",
       "      <th>3</th>\n",
       "      <td>XGB</td>\n",
       "      <td>0.172072</td>\n",
       "      <td>0.478717</td>\n",
       "      <td>0.253151</td>\n",
       "      <td>0.676419</td>\n",
       "      <td>0.631682</td>\n",
       "      <td>15.696156</td>\n",
       "      <td>0.156695</td>\n",
       "    </tr>\n",
       "    <tr>\n",
       "      <th>4</th>\n",
       "      <td>LGB</td>\n",
       "      <td>0.175615</td>\n",
       "      <td>0.582434</td>\n",
       "      <td>0.269861</td>\n",
       "      <td>0.638955</td>\n",
       "      <td>0.661044</td>\n",
       "      <td>1.210062</td>\n",
       "      <td>0.182198</td>\n",
       "    </tr>\n",
       "  </tbody>\n",
       "</table>\n",
       "</div>"
      ],
      "text/plain": [
       "  Model  Precision    Recall        F1  Accuracy   ROC_AUC  Training_Time  \\\n",
       "0    LR   0.169277  0.612410  0.265239  0.611311  0.651578       9.811963   \n",
       "1    DT   0.157309  0.178058  0.167042  0.796573  0.527326       1.995240   \n",
       "2    RF   0.714286  0.002998  0.005970  0.885650  0.628691      11.528068   \n",
       "3   XGB   0.172072  0.478717  0.253151  0.676419  0.631682      15.696156   \n",
       "4   LGB   0.175615  0.582434  0.269861  0.638955  0.661044       1.210062   \n",
       "\n",
       "   Prediction_Time  \n",
       "0         0.171839  \n",
       "1         0.046890  \n",
       "2         0.499969  \n",
       "3         0.156695  \n",
       "4         0.182198  "
      ]
     },
     "execution_count": 127,
     "metadata": {},
     "output_type": "execute_result"
    }
   ],
   "source": [
    "models = []\n",
    "\n",
    "models.append(('LR', Pipeline([(\"Transformer\", PowerTransformer()),\n",
    "                               (\"Scaler\", StandardScaler()),\n",
    "                               (\"LogReg\", LogisticRegression(random_state = 0, solver = 'liblinear', n_jobs = -1,class_weight='balanced'))])))\n",
    "models.append(('DT', DecisionTreeClassifier(random_state = 0,class_weight='balanced')))\n",
    "models.append(('RF', RandomForestClassifier(random_state = 0, n_jobs = -1,class_weight ='balanced_subsample')))\n",
    "models.append(('XGB', XGBClassifier(random_state = 0, n_jobs = -1,scale_pos_weight=7.72)))\n",
    "models.append(('LGB',LGBMClassifier(random_state = 0, n_jobs = -1,class_weight ='balanced')))\n",
    "#models.append(('SVC', Pipeline([(\"Transformer\", PowerTransformer()),\n",
    "#                               (\"Scaler\", StandardScaler()),\n",
    "#                               (\"SVM\", SVC(random_state = 0,class_weight='balanced', probability=True)))])))\n",
    "\n",
    "\n",
    "## Validation Set Scores\n",
    "precision = []\n",
    "recall = []\n",
    "names = []\n",
    "f1 = []\n",
    "accuracy = []\n",
    "roc_auc = []\n",
    "Training_Time=[]\n",
    "Prediction_Time=[]\n",
    "\n",
    "for name, model in models:\n",
    "    start_time = time.time()    \n",
    "    model.fit(X_train, y_train)\n",
    "    end_time = time.time()\n",
    "    Training_Time.append(end_time - start_time)\n",
    "    \n",
    "    start_time = time.time()\n",
    "    y_pred = model.predict(X_test)\n",
    "    end_time = time.time()\n",
    "    Prediction_Time.append(end_time-start_time)\n",
    "    \n",
    "    y_proba = model.predict_proba(X_test)[:, 1]\n",
    "    precision.append(precision_score(y_test, y_pred))\n",
    "    recall.append(recall_score(y_test, y_pred))\n",
    "    f1.append(f1_score(y_test, y_pred))\n",
    "    accuracy.append(accuracy_score(y_test, y_pred))\n",
    "    roc_auc.append(roc_auc_score(y_test, y_proba))\n",
    "    names.append(name)\n",
    "models_df = pd.DataFrame({'Model' : names, 'Precision' : precision, 'Recall' : recall,\n",
    "                          'F1' : f1, 'Accuracy' : accuracy, 'ROC_AUC' : roc_auc,\n",
    "                          'Training_Time':Training_Time,'Prediction_Time':Prediction_Time})\n",
    "models_df"
   ]
  },
  {
   "cell_type": "markdown",
   "id": "38a3a00d",
   "metadata": {},
   "source": [
    "After using the class weights the recall have increased significantly. The best three models are LGB. We will tune the hyperparameters of this models."
   ]
  },
  {
   "cell_type": "code",
   "execution_count": 128,
   "id": "4c3fe7f8",
   "metadata": {},
   "outputs": [
    {
     "ename": "OverflowError",
     "evalue": "Python int too large to convert to C long",
     "output_type": "error",
     "traceback": [
      "\u001b[1;31m---------------------------------------------------------------------------\u001b[0m",
      "\u001b[1;31mOverflowError\u001b[0m                             Traceback (most recent call last)",
      "\u001b[1;32m<ipython-input-128-d515e3285bf8>\u001b[0m in \u001b[0;36m<module>\u001b[1;34m\u001b[0m\n\u001b[0;32m     10\u001b[0m rsearch = RandomizedSearchCV(model, params, n_iter = 100, scoring = 'roc_auc', n_jobs = -1,\n\u001b[0;32m     11\u001b[0m                              cv = 10, verbose = 1, random_state = 0)\n\u001b[1;32m---> 12\u001b[1;33m \u001b[0mrsearch\u001b[0m\u001b[1;33m.\u001b[0m\u001b[0mfit\u001b[0m\u001b[1;33m(\u001b[0m\u001b[0mX_train\u001b[0m\u001b[1;33m,\u001b[0m \u001b[0my_train\u001b[0m\u001b[1;33m)\u001b[0m\u001b[1;33m\u001b[0m\u001b[1;33m\u001b[0m\u001b[0m\n\u001b[0m",
      "\u001b[1;32m~\\anaconda3\\lib\\site-packages\\sklearn\\model_selection\\_search.py\u001b[0m in \u001b[0;36mfit\u001b[1;34m(self, X, y, groups, **fit_params)\u001b[0m\n\u001b[0;32m    873\u001b[0m                 \u001b[1;32mreturn\u001b[0m \u001b[0mresults\u001b[0m\u001b[1;33m\u001b[0m\u001b[1;33m\u001b[0m\u001b[0m\n\u001b[0;32m    874\u001b[0m \u001b[1;33m\u001b[0m\u001b[0m\n\u001b[1;32m--> 875\u001b[1;33m             \u001b[0mself\u001b[0m\u001b[1;33m.\u001b[0m\u001b[0m_run_search\u001b[0m\u001b[1;33m(\u001b[0m\u001b[0mevaluate_candidates\u001b[0m\u001b[1;33m)\u001b[0m\u001b[1;33m\u001b[0m\u001b[1;33m\u001b[0m\u001b[0m\n\u001b[0m\u001b[0;32m    876\u001b[0m \u001b[1;33m\u001b[0m\u001b[0m\n\u001b[0;32m    877\u001b[0m             \u001b[1;31m# multimetric is determined here because in the case of a callable\u001b[0m\u001b[1;33m\u001b[0m\u001b[1;33m\u001b[0m\u001b[1;33m\u001b[0m\u001b[0m\n",
      "\u001b[1;32m~\\anaconda3\\lib\\site-packages\\sklearn\\model_selection\\_search.py\u001b[0m in \u001b[0;36m_run_search\u001b[1;34m(self, evaluate_candidates)\u001b[0m\n\u001b[0;32m   1747\u001b[0m     \u001b[1;32mdef\u001b[0m \u001b[0m_run_search\u001b[0m\u001b[1;33m(\u001b[0m\u001b[0mself\u001b[0m\u001b[1;33m,\u001b[0m \u001b[0mevaluate_candidates\u001b[0m\u001b[1;33m)\u001b[0m\u001b[1;33m:\u001b[0m\u001b[1;33m\u001b[0m\u001b[1;33m\u001b[0m\u001b[0m\n\u001b[0;32m   1748\u001b[0m         \u001b[1;34m\"\"\"Search n_iter candidates from param_distributions\"\"\"\u001b[0m\u001b[1;33m\u001b[0m\u001b[1;33m\u001b[0m\u001b[0m\n\u001b[1;32m-> 1749\u001b[1;33m         evaluate_candidates(\n\u001b[0m\u001b[0;32m   1750\u001b[0m             ParameterSampler(\n\u001b[0;32m   1751\u001b[0m                 \u001b[0mself\u001b[0m\u001b[1;33m.\u001b[0m\u001b[0mparam_distributions\u001b[0m\u001b[1;33m,\u001b[0m \u001b[0mself\u001b[0m\u001b[1;33m.\u001b[0m\u001b[0mn_iter\u001b[0m\u001b[1;33m,\u001b[0m \u001b[0mrandom_state\u001b[0m\u001b[1;33m=\u001b[0m\u001b[0mself\u001b[0m\u001b[1;33m.\u001b[0m\u001b[0mrandom_state\u001b[0m\u001b[1;33m\u001b[0m\u001b[1;33m\u001b[0m\u001b[0m\n",
      "\u001b[1;32m~\\anaconda3\\lib\\site-packages\\sklearn\\model_selection\\_search.py\u001b[0m in \u001b[0;36mevaluate_candidates\u001b[1;34m(candidate_params, cv, more_results)\u001b[0m\n\u001b[0;32m    809\u001b[0m             \u001b[1;32mdef\u001b[0m \u001b[0mevaluate_candidates\u001b[0m\u001b[1;33m(\u001b[0m\u001b[0mcandidate_params\u001b[0m\u001b[1;33m,\u001b[0m \u001b[0mcv\u001b[0m\u001b[1;33m=\u001b[0m\u001b[1;32mNone\u001b[0m\u001b[1;33m,\u001b[0m \u001b[0mmore_results\u001b[0m\u001b[1;33m=\u001b[0m\u001b[1;32mNone\u001b[0m\u001b[1;33m)\u001b[0m\u001b[1;33m:\u001b[0m\u001b[1;33m\u001b[0m\u001b[1;33m\u001b[0m\u001b[0m\n\u001b[0;32m    810\u001b[0m                 \u001b[0mcv\u001b[0m \u001b[1;33m=\u001b[0m \u001b[0mcv\u001b[0m \u001b[1;32mor\u001b[0m \u001b[0mcv_orig\u001b[0m\u001b[1;33m\u001b[0m\u001b[1;33m\u001b[0m\u001b[0m\n\u001b[1;32m--> 811\u001b[1;33m                 \u001b[0mcandidate_params\u001b[0m \u001b[1;33m=\u001b[0m \u001b[0mlist\u001b[0m\u001b[1;33m(\u001b[0m\u001b[0mcandidate_params\u001b[0m\u001b[1;33m)\u001b[0m\u001b[1;33m\u001b[0m\u001b[1;33m\u001b[0m\u001b[0m\n\u001b[0m\u001b[0;32m    812\u001b[0m                 \u001b[0mn_candidates\u001b[0m \u001b[1;33m=\u001b[0m \u001b[0mlen\u001b[0m\u001b[1;33m(\u001b[0m\u001b[0mcandidate_params\u001b[0m\u001b[1;33m)\u001b[0m\u001b[1;33m\u001b[0m\u001b[1;33m\u001b[0m\u001b[0m\n\u001b[0;32m    813\u001b[0m \u001b[1;33m\u001b[0m\u001b[0m\n",
      "\u001b[1;32m~\\anaconda3\\lib\\site-packages\\sklearn\\model_selection\\_search.py\u001b[0m in \u001b[0;36m__iter__\u001b[1;34m(self)\u001b[0m\n\u001b[0;32m    311\u001b[0m                 )\n\u001b[0;32m    312\u001b[0m                 \u001b[0mn_iter\u001b[0m \u001b[1;33m=\u001b[0m \u001b[0mgrid_size\u001b[0m\u001b[1;33m\u001b[0m\u001b[1;33m\u001b[0m\u001b[0m\n\u001b[1;32m--> 313\u001b[1;33m             \u001b[1;32mfor\u001b[0m \u001b[0mi\u001b[0m \u001b[1;32min\u001b[0m \u001b[0msample_without_replacement\u001b[0m\u001b[1;33m(\u001b[0m\u001b[0mgrid_size\u001b[0m\u001b[1;33m,\u001b[0m \u001b[0mn_iter\u001b[0m\u001b[1;33m,\u001b[0m \u001b[0mrandom_state\u001b[0m\u001b[1;33m=\u001b[0m\u001b[0mrng\u001b[0m\u001b[1;33m)\u001b[0m\u001b[1;33m:\u001b[0m\u001b[1;33m\u001b[0m\u001b[1;33m\u001b[0m\u001b[0m\n\u001b[0m\u001b[0;32m    314\u001b[0m                 \u001b[1;32myield\u001b[0m \u001b[0mparam_grid\u001b[0m\u001b[1;33m[\u001b[0m\u001b[0mi\u001b[0m\u001b[1;33m]\u001b[0m\u001b[1;33m\u001b[0m\u001b[1;33m\u001b[0m\u001b[0m\n\u001b[0;32m    315\u001b[0m \u001b[1;33m\u001b[0m\u001b[0m\n",
      "\u001b[1;32msklearn\\utils\\_random.pyx\u001b[0m in \u001b[0;36msklearn.utils._random.sample_without_replacement\u001b[1;34m()\u001b[0m\n",
      "\u001b[1;31mOverflowError\u001b[0m: Python int too large to convert to C long"
     ]
    }
   ],
   "source": [
    "model = LGBMClassifier(objective = 'binary', random_state = 0, n_jobs = -1, is_unbalance = True)\n",
    "\n",
    "params = {'boosting_type' : ['gbdt', 'dart', 'goss', 'rf'],\n",
    "          'num_leaves' : np.arange(15, 60),\n",
    "          'max_depth' : np.arange(75, 300),\n",
    "          'learning_rate' : np.linspace(0.007, 0.7, 25),\n",
    "          'n_estimators' : np.arange(40, 160),\n",
    "          'min_child_samples' : np.arange(9, 36)}\n",
    "\n",
    "rsearch = RandomizedSearchCV(model, params, n_iter = 100, scoring = 'roc_auc', n_jobs = -1,\n",
    "                             cv = 10, verbose = 1, random_state = 0)\n",
    "rsearch.fit(X_train, y_train)"
   ]
  },
  {
   "cell_type": "code",
   "execution_count": 129,
   "id": "51eb3c87",
   "metadata": {},
   "outputs": [
    {
     "name": "stdout",
     "output_type": "stream",
     "text": [
      "Training Time: 1.10170316696167\n",
      "Prediction Time: 0.18748688697814941\n",
      "Train Accuracy Score: 0.6396414958277532\n",
      "Train Confusion Matrix:\n",
      " [[38071 22094]\n",
      " [ 2392  5392]] \n",
      "\n",
      "Train F1 Score: 0.30575559965976756\n",
      "Train Precision Score: 0.19617259695845157\n",
      "Train Recall Score: 0.6927029804727647\n",
      "Train ROC_AUC Score: 0.7283908400579462\n",
      "\n",
      "Test Accuracy Score: 0.6266611723498506\n",
      "Test Confusion Matrix:\n",
      " [[16215  9570]\n",
      " [ 1302  2034]] \n",
      "\n",
      "Test F1 Score: 0.27228915662650605\n",
      "Test Precision Score: 0.1752843846949328\n",
      "Test Recall Score: 0.6097122302158273\n",
      "Test ROC_AUC Score: 0.6633169787613771\n"
     ]
    }
   ],
   "source": [
    "model = LGBMClassifier(objective = 'binary', random_state = 0, n_jobs = -1, is_unbalance = True,\n",
    "                       boosting_type = 'gbdt', learning_rate = 0.06475, max_depth = 178,\n",
    "                       min_child_samples = 22, n_estimators = 128, num_leaves = 23)\n",
    "start_time = time.time()\n",
    "model.fit(X_train, y_train)\n",
    "end_time = time.time()\n",
    "print(\"Training Time:\", end_time - start_time)\n",
    "y_train_pred = model.predict(X_train)\n",
    "y_train_prob = model.predict_proba(X_train)[:, 1]\n",
    "start_time = time.time()\n",
    "y_test_pred = model.predict(X_test)\n",
    "end_time = time.time()\n",
    "print(\"Prediction Time:\", end_time - start_time)\n",
    "y_test_prob = model.predict_proba(X_test)[:, 1]\n",
    "print(\"Train Accuracy Score:\", accuracy_score(y_train, y_train_pred))\n",
    "print(\"Train Confusion Matrix:\\n\", confusion_matrix(y_train, y_train_pred), '\\n')\n",
    "print(\"Train F1 Score:\", f1_score(y_train, y_train_pred))\n",
    "print(\"Train Precision Score:\", precision_score(y_train, y_train_pred))\n",
    "print(\"Train Recall Score:\", recall_score(y_train, y_train_pred))\n",
    "print(\"Train ROC_AUC Score:\", roc_auc_score(y_train, y_train_prob))\n",
    "print()\n",
    "print(\"Test Accuracy Score:\", accuracy_score(y_test, y_test_pred))\n",
    "print(\"Test Confusion Matrix:\\n\", confusion_matrix(y_test, y_test_pred), '\\n')\n",
    "print(\"Test F1 Score:\", f1_score(y_test, y_test_pred))\n",
    "print(\"Test Precision Score:\", precision_score(y_test, y_test_pred))\n",
    "print(\"Test Recall Score:\", recall_score(y_test, y_test_pred))\n",
    "print(\"Test ROC_AUC Score:\", roc_auc_score(y_test, y_test_prob))"
   ]
  },
  {
   "cell_type": "code",
   "execution_count": 130,
   "id": "53275edb",
   "metadata": {},
   "outputs": [
    {
     "data": {
      "image/png": "[encoded data removed]",
      "text/plain": [
       "<Figure size 576x360 with 1 Axes>"
      ]
     },
     "metadata": {
      "needs_background": "light"
     },
     "output_type": "display_data"
    }
   ],
   "source": [
    "from sklearn.metrics import precision_recall_curve\n",
    "\n",
    "plt.figure(figsize = (8, 5))\n",
    "prec, rec, thresh = precision_recall_curve(y_test, y_test_prob)\n",
    "plt.plot(thresh, prec[1:], marker = 'o', c = 'b', label = 'Precision')\n",
    "plt.plot(thresh, rec[1:], marker = 'x', c = 'g', label = 'Recall')\n",
    "plt.legend(loc = 'center left')\n",
    "plt.xlabel(\"Thresholds\")\n",
    "plt.ylabel('Precision and Recall')\n",
    "plt.title('Precision Recall Tradeoff')\n",
    "plt.show()"
   ]
  },
  {
   "cell_type": "markdown",
   "id": "9295618e",
   "metadata": {},
   "source": [
    "As we increase the Recall, the precision decreases which means that if we want to reduce the number of False Negatives our False Positives will increase."
   ]
  },
  {
   "cell_type": "code",
   "execution_count": 131,
   "id": "2508f82c",
   "metadata": {},
   "outputs": [
    {
     "data": {
      "text/html": [
       "<div>\n",
       "<style scoped>\n",
       "    .dataframe tbody tr th:only-of-type {\n",
       "        vertical-align: middle;\n",
       "    }\n",
       "\n",
       "    .dataframe tbody tr th {\n",
       "        vertical-align: top;\n",
       "    }\n",
       "\n",
       "    .dataframe thead th {\n",
       "        text-align: right;\n",
       "    }\n",
       "</style>\n",
       "<table border=\"1\" class=\"dataframe\">\n",
       "  <thead>\n",
       "    <tr style=\"text-align: right;\">\n",
       "      <th></th>\n",
       "      <th>Thresholds</th>\n",
       "      <th>Accuracy</th>\n",
       "      <th>F1</th>\n",
       "      <th>Precision</th>\n",
       "      <th>Recall</th>\n",
       "    </tr>\n",
       "  </thead>\n",
       "  <tbody>\n",
       "    <tr>\n",
       "      <th>0</th>\n",
       "      <td>0.10</td>\n",
       "      <td>0.116926</td>\n",
       "      <td>0.205904</td>\n",
       "      <td>0.114776</td>\n",
       "      <td>0.999400</td>\n",
       "    </tr>\n",
       "    <tr>\n",
       "      <th>1</th>\n",
       "      <td>0.15</td>\n",
       "      <td>0.122832</td>\n",
       "      <td>0.206757</td>\n",
       "      <td>0.115326</td>\n",
       "      <td>0.997902</td>\n",
       "    </tr>\n",
       "    <tr>\n",
       "      <th>2</th>\n",
       "      <td>0.20</td>\n",
       "      <td>0.140174</td>\n",
       "      <td>0.209103</td>\n",
       "      <td>0.116866</td>\n",
       "      <td>0.992206</td>\n",
       "    </tr>\n",
       "    <tr>\n",
       "      <th>3</th>\n",
       "      <td>0.25</td>\n",
       "      <td>0.174960</td>\n",
       "      <td>0.213243</td>\n",
       "      <td>0.119697</td>\n",
       "      <td>0.976019</td>\n",
       "    </tr>\n",
       "    <tr>\n",
       "      <th>4</th>\n",
       "      <td>0.30</td>\n",
       "      <td>0.235225</td>\n",
       "      <td>0.221865</td>\n",
       "      <td>0.125569</td>\n",
       "      <td>0.951739</td>\n",
       "    </tr>\n",
       "    <tr>\n",
       "      <th>5</th>\n",
       "      <td>0.35</td>\n",
       "      <td>0.317056</td>\n",
       "      <td>0.232361</td>\n",
       "      <td>0.133351</td>\n",
       "      <td>0.902278</td>\n",
       "    </tr>\n",
       "    <tr>\n",
       "      <th>6</th>\n",
       "      <td>0.40</td>\n",
       "      <td>0.421036</td>\n",
       "      <td>0.248395</td>\n",
       "      <td>0.145894</td>\n",
       "      <td>0.835132</td>\n",
       "    </tr>\n",
       "    <tr>\n",
       "      <th>7</th>\n",
       "      <td>0.45</td>\n",
       "      <td>0.523849</td>\n",
       "      <td>0.259769</td>\n",
       "      <td>0.158028</td>\n",
       "      <td>0.729317</td>\n",
       "    </tr>\n",
       "    <tr>\n",
       "      <th>8</th>\n",
       "      <td>0.50</td>\n",
       "      <td>0.626661</td>\n",
       "      <td>0.272289</td>\n",
       "      <td>0.175284</td>\n",
       "      <td>0.609712</td>\n",
       "    </tr>\n",
       "    <tr>\n",
       "      <th>9</th>\n",
       "      <td>0.55</td>\n",
       "      <td>0.713780</td>\n",
       "      <td>0.272370</td>\n",
       "      <td>0.192142</td>\n",
       "      <td>0.467626</td>\n",
       "    </tr>\n",
       "    <tr>\n",
       "      <th>10</th>\n",
       "      <td>0.60</td>\n",
       "      <td>0.802891</td>\n",
       "      <td>0.251239</td>\n",
       "      <td>0.222402</td>\n",
       "      <td>0.288669</td>\n",
       "    </tr>\n",
       "    <tr>\n",
       "      <th>11</th>\n",
       "      <td>0.65</td>\n",
       "      <td>0.854881</td>\n",
       "      <td>0.190111</td>\n",
       "      <td>0.263549</td>\n",
       "      <td>0.148681</td>\n",
       "    </tr>\n",
       "    <tr>\n",
       "      <th>12</th>\n",
       "      <td>0.70</td>\n",
       "      <td>0.876790</td>\n",
       "      <td>0.118428</td>\n",
       "      <td>0.328338</td>\n",
       "      <td>0.072242</td>\n",
       "    </tr>\n",
       "    <tr>\n",
       "      <th>13</th>\n",
       "      <td>0.75</td>\n",
       "      <td>0.884551</td>\n",
       "      <td>0.055618</td>\n",
       "      <td>0.441964</td>\n",
       "      <td>0.029676</td>\n",
       "    </tr>\n",
       "    <tr>\n",
       "      <th>14</th>\n",
       "      <td>0.80</td>\n",
       "      <td>0.885821</td>\n",
       "      <td>0.018885</td>\n",
       "      <td>0.603774</td>\n",
       "      <td>0.009592</td>\n",
       "    </tr>\n",
       "    <tr>\n",
       "      <th>15</th>\n",
       "      <td>0.85</td>\n",
       "      <td>0.885547</td>\n",
       "      <td>0.002394</td>\n",
       "      <td>0.800000</td>\n",
       "      <td>0.001199</td>\n",
       "    </tr>\n",
       "  </tbody>\n",
       "</table>\n",
       "</div>"
      ],
      "text/plain": [
       "    Thresholds  Accuracy        F1  Precision    Recall\n",
       "0         0.10  0.116926  0.205904   0.114776  0.999400\n",
       "1         0.15  0.122832  0.206757   0.115326  0.997902\n",
       "2         0.20  0.140174  0.209103   0.116866  0.992206\n",
       "3         0.25  0.174960  0.213243   0.119697  0.976019\n",
       "4         0.30  0.235225  0.221865   0.125569  0.951739\n",
       "5         0.35  0.317056  0.232361   0.133351  0.902278\n",
       "6         0.40  0.421036  0.248395   0.145894  0.835132\n",
       "7         0.45  0.523849  0.259769   0.158028  0.729317\n",
       "8         0.50  0.626661  0.272289   0.175284  0.609712\n",
       "9         0.55  0.713780  0.272370   0.192142  0.467626\n",
       "10        0.60  0.802891  0.251239   0.222402  0.288669\n",
       "11        0.65  0.854881  0.190111   0.263549  0.148681\n",
       "12        0.70  0.876790  0.118428   0.328338  0.072242\n",
       "13        0.75  0.884551  0.055618   0.441964  0.029676\n",
       "14        0.80  0.885821  0.018885   0.603774  0.009592\n",
       "15        0.85  0.885547  0.002394   0.800000  0.001199"
      ]
     },
     "execution_count": 131,
     "metadata": {},
     "output_type": "execute_result"
    }
   ],
   "source": [
    "acc = []\n",
    "f1 = []\n",
    "prec = []\n",
    "rec = []\n",
    "thresh = [0.1, 0.15, 0.2, 0.25, 0.3, 0.35, 0.4, 0.45, 0.5, 0.55, 0.6, 0.65, 0.7, 0.75, 0.8, 0.85]\n",
    "for i in thresh:\n",
    "    pred = (y_test_prob >= i).astype(bool)\n",
    "    f1.append(f1_score(y_test, pred))\n",
    "    acc.append(accuracy_score(y_test, pred))\n",
    "    prec.append(precision_score(y_test, pred))\n",
    "    rec.append(recall_score(y_test, pred))\n",
    "res = pd.DataFrame({\"Thresholds\" : thresh, \"Accuracy\" : acc, \"F1\" : f1, \"Precision\" : prec, \"Recall\" : rec})\n",
    "res"
   ]
  },
  {
   "cell_type": "code",
   "execution_count": 132,
   "id": "50b0aa58",
   "metadata": {},
   "outputs": [
    {
     "data": {
      "image/png": "[encoded data removed]",
      "text/plain": [
       "<Figure size 432x288 with 1 Axes>"
      ]
     },
     "metadata": {
      "needs_background": "light"
     },
     "output_type": "display_data"
    }
   ],
   "source": [
    "plt.plot(thresh, f1, marker = 's', c = 'r', label = 'F1 Score')\n",
    "plt.plot(thresh, acc, marker = 'd', c = 'y', label = 'Accuracy')\n",
    "plt.xlabel('Thresholds')\n",
    "plt.ylabel('F1 Score & Accuracy')\n",
    "plt.title('F1 Score & Accuracy vs Thresholds')\n",
    "plt.legend(loc = 'best')\n",
    "plt.show()"
   ]
  },
  {
   "cell_type": "code",
   "execution_count": 133,
   "id": "c560034d",
   "metadata": {},
   "outputs": [
    {
     "name": "stdout",
     "output_type": "stream",
     "text": [
      "Best Threshold=0.498919, G-Mean=0.620\n"
     ]
    },
    {
     "data": {
      "image/png": "[encoded data removed]",
      "text/plain": [
       "<Figure size 576x360 with 1 Axes>"
      ]
     },
     "metadata": {
      "needs_background": "light"
     },
     "output_type": "display_data"
    }
   ],
   "source": [
    "from sklearn.metrics import roc_curve\n",
    "plt.figure(figsize = (8, 5))\n",
    "# calculate roc curves\n",
    "fpr, tpr, thresholds = roc_curve(y_test, y_test_prob)\n",
    "# calculate the g-mean for each threshold\n",
    "gmeans = np.sqrt(tpr * (1-fpr))\n",
    "# locate the index of the largest g-mean\n",
    "ix = np.argmax(gmeans)\n",
    "print('Best Threshold=%f, G-Mean=%.3f' % (thresholds[ix], gmeans[ix]))\n",
    "# plot the roc curve for the model\n",
    "plt.plot([0,1], [0,1], linestyle='--', label='No Skill')\n",
    "plt.plot(fpr, tpr, marker='.', label='LGBMClassifier')\n",
    "plt.scatter(fpr[ix], tpr[ix], marker='o', color='black', alpha = 1, edgecolors = 'k', s = 100,\n",
    "            label='Best Threshold: '+str(round(thresholds[ix], 3)))\n",
    "# axis labels\n",
    "plt.xlabel('False Positive Rate')\n",
    "plt.ylabel('True Positive Rate')\n",
    "plt.title(\"ROC Curve\")\n",
    "plt.legend(loc = 'best')\n",
    "# show the plot\n",
    "plt.show()"
   ]
  },
  {
   "cell_type": "code",
   "execution_count": 134,
   "id": "7579ebb9",
   "metadata": {},
   "outputs": [
    {
     "name": "stdout",
     "output_type": "stream",
     "text": [
      "Train Accuracy Score: 0.6150200885958587\n",
      "Train Confusion Matrix:\n",
      " [[36156 24009]\n",
      " [ 2150  5634]] \n",
      "\n",
      "Train F1 Score: 0.3010660752932375\n",
      "Train Precision Score: 0.19006173464224269\n",
      "Train Recall Score: 0.723792394655704\n",
      "Train ROC_AUC Score: 0.7283908400579462\n",
      "\n",
      "Test Accuracy Score: 0.598605817107929\n",
      "Test Confusion Matrix:\n",
      " [[15296 10489]\n",
      " [ 1200  2136]] \n",
      "\n",
      "Test F1 Score: 0.2676524027316584\n",
      "Test Precision Score: 0.1691881188118812\n",
      "Test Recall Score: 0.6402877697841727\n",
      "Test ROC_AUC Score: 0.6633169787613771\n"
     ]
    }
   ],
   "source": [
    "y_train_pred = (y_train_prob >= 0.487).astype(bool)\n",
    "y_test_pred = (y_test_prob >= 0.487).astype(bool)\n",
    "print(\"Train Accuracy Score:\", accuracy_score(y_train, y_train_pred))\n",
    "print(\"Train Confusion Matrix:\\n\", confusion_matrix(y_train, y_train_pred), '\\n')\n",
    "print(\"Train F1 Score:\", f1_score(y_train, y_train_pred))\n",
    "print(\"Train Precision Score:\", precision_score(y_train, y_train_pred))\n",
    "print(\"Train Recall Score:\", recall_score(y_train, y_train_pred))\n",
    "print(\"Train ROC_AUC Score:\", roc_auc_score(y_train, y_train_prob))\n",
    "print()\n",
    "print(\"Test Accuracy Score:\", accuracy_score(y_test, y_test_pred))\n",
    "print(\"Test Confusion Matrix:\\n\", confusion_matrix(y_test, y_test_pred), '\\n')\n",
    "print(\"Test F1 Score:\", f1_score(y_test, y_test_pred))\n",
    "print(\"Test Precision Score:\", precision_score(y_test, y_test_pred))\n",
    "print(\"Test Recall Score:\", recall_score(y_test, y_test_pred))\n",
    "print(\"Test ROC_AUC Score:\", roc_auc_score(y_test, y_test_prob))"
   ]
  },
  {
   "cell_type": "markdown",
   "id": "fb50ef9f",
   "metadata": {},
   "source": [
    "# SHAP"
   ]
  },
  {
   "cell_type": "code",
   "execution_count": 136,
   "id": "bb758b2a",
   "metadata": {},
   "outputs": [
    {
     "name": "stdout",
     "output_type": "stream",
     "text": [
      "Collecting shap\n",
      "  Downloading shap-0.41.0-cp38-cp38-win_amd64.whl (435 kB)\n",
      "Requirement already satisfied: scipy in c:\\users\\arvind sain\\anaconda3\\lib\\site-packages (from shap) (1.6.2)\n",
      "Collecting packaging>20.9\n",
      "  Downloading packaging-21.3-py3-none-any.whl (40 kB)\n",
      "Requirement already satisfied: cloudpickle in c:\\users\\arvind sain\\anaconda3\\lib\\site-packages (from shap) (1.6.0)\n",
      "Requirement already satisfied: pandas in c:\\users\\arvind sain\\anaconda3\\lib\\site-packages (from shap) (1.2.4)\n",
      "Requirement already satisfied: scikit-learn in c:\\users\\arvind sain\\anaconda3\\lib\\site-packages (from shap) (1.1.1)\n",
      "Collecting slicer==0.0.7\n",
      "  Downloading slicer-0.0.7-py3-none-any.whl (14 kB)\n",
      "Requirement already satisfied: numba in c:\\users\\arvind sain\\anaconda3\\lib\\site-packages (from shap) (0.53.1)\n",
      "Requirement already satisfied: numpy in c:\\users\\arvind sain\\anaconda3\\lib\\site-packages (from shap) (1.20.1)\n",
      "Requirement already satisfied: tqdm>4.25.0 in c:\\users\\arvind sain\\anaconda3\\lib\\site-packages (from shap) (4.59.0)\n",
      "Requirement already satisfied: pyparsing!=3.0.5,>=2.0.2 in c:\\users\\arvind sain\\anaconda3\\lib\\site-packages (from packaging>20.9->shap) (2.4.7)\n",
      "Requirement already satisfied: llvmlite<0.37,>=0.36.0rc1 in c:\\users\\arvind sain\\anaconda3\\lib\\site-packages (from numba->shap) (0.36.0)\n",
      "Requirement already satisfied: setuptools in c:\\users\\arvind sain\\anaconda3\\lib\\site-packages (from numba->shap) (52.0.0.post20210125)\n",
      "Requirement already satisfied: pytz>=2017.3 in c:\\users\\arvind sain\\anaconda3\\lib\\site-packages (from pandas->shap) (2021.1)\n",
      "Requirement already satisfied: python-dateutil>=2.7.3 in c:\\users\\arvind sain\\anaconda3\\lib\\site-packages (from pandas->shap) (2.8.1)\n",
      "Requirement already satisfied: six>=1.5 in c:\\users\\arvind sain\\anaconda3\\lib\\site-packages (from python-dateutil>=2.7.3->pandas->shap) (1.15.0)\n",
      "Requirement already satisfied: threadpoolctl>=2.0.0 in c:\\users\\arvind sain\\anaconda3\\lib\\site-packages (from scikit-learn->shap) (2.1.0)\n",
      "Requirement already satisfied: joblib>=1.0.0 in c:\\users\\arvind sain\\anaconda3\\lib\\site-packages (from scikit-learn->shap) (1.0.1)\n",
      "Installing collected packages: slicer, packaging, shap\n",
      "  Attempting uninstall: packaging\n",
      "    Found existing installation: packaging 20.9\n",
      "    Uninstalling packaging-20.9:\n",
      "      Successfully uninstalled packaging-20.9\n",
      "Successfully installed packaging-21.3 shap-0.41.0 slicer-0.0.7\n"
     ]
    }
   ],
   "source": [
    "!pip install shap"
   ]
  },
  {
   "cell_type": "code",
   "execution_count": 137,
   "id": "59eec829",
   "metadata": {},
   "outputs": [
    {
     "name": "stderr",
     "output_type": "stream",
     "text": [
      " 99%|===================| 28898/29121 [01:47<00:00]        "
     ]
    },
    {
     "data": {
      "text/html": [
       "<div>\n",
       "<style scoped>\n",
       "    .dataframe tbody tr th:only-of-type {\n",
       "        vertical-align: middle;\n",
       "    }\n",
       "\n",
       "    .dataframe tbody tr th {\n",
       "        vertical-align: top;\n",
       "    }\n",
       "\n",
       "    .dataframe thead th {\n",
       "        text-align: right;\n",
       "    }\n",
       "</style>\n",
       "<table border=\"1\" class=\"dataframe\">\n",
       "  <thead>\n",
       "    <tr style=\"text-align: right;\">\n",
       "      <th></th>\n",
       "      <th>0</th>\n",
       "      <th>1</th>\n",
       "      <th>2</th>\n",
       "      <th>3</th>\n",
       "      <th>4</th>\n",
       "      <th>5</th>\n",
       "      <th>6</th>\n",
       "      <th>7</th>\n",
       "      <th>8</th>\n",
       "      <th>9</th>\n",
       "      <th>10</th>\n",
       "      <th>11</th>\n",
       "      <th>12</th>\n",
       "      <th>13</th>\n",
       "      <th>14</th>\n",
       "      <th>15</th>\n",
       "      <th>16</th>\n",
       "      <th>17</th>\n",
       "      <th>18</th>\n",
       "      <th>19</th>\n",
       "      <th>20</th>\n",
       "      <th>21</th>\n",
       "      <th>22</th>\n",
       "      <th>23</th>\n",
       "      <th>24</th>\n",
       "      <th>25</th>\n",
       "      <th>26</th>\n",
       "      <th>27</th>\n",
       "      <th>28</th>\n",
       "      <th>29</th>\n",
       "      <th>30</th>\n",
       "      <th>31</th>\n",
       "      <th>32</th>\n",
       "      <th>33</th>\n",
       "      <th>34</th>\n",
       "      <th>35</th>\n",
       "      <th>36</th>\n",
       "      <th>37</th>\n",
       "      <th>38</th>\n",
       "      <th>39</th>\n",
       "      <th>40</th>\n",
       "      <th>41</th>\n",
       "      <th>42</th>\n",
       "      <th>43</th>\n",
       "      <th>44</th>\n",
       "      <th>45</th>\n",
       "      <th>46</th>\n",
       "      <th>47</th>\n",
       "      <th>48</th>\n",
       "      <th>49</th>\n",
       "      <th>50</th>\n",
       "      <th>51</th>\n",
       "      <th>52</th>\n",
       "      <th>53</th>\n",
       "      <th>54</th>\n",
       "      <th>55</th>\n",
       "      <th>56</th>\n",
       "      <th>57</th>\n",
       "      <th>58</th>\n",
       "      <th>59</th>\n",
       "      <th>60</th>\n",
       "      <th>61</th>\n",
       "      <th>62</th>\n",
       "      <th>63</th>\n",
       "      <th>64</th>\n",
       "      <th>65</th>\n",
       "      <th>66</th>\n",
       "      <th>67</th>\n",
       "      <th>68</th>\n",
       "      <th>69</th>\n",
       "      <th>70</th>\n",
       "      <th>71</th>\n",
       "      <th>72</th>\n",
       "      <th>73</th>\n",
       "      <th>74</th>\n",
       "      <th>75</th>\n",
       "      <th>76</th>\n",
       "      <th>77</th>\n",
       "      <th>78</th>\n",
       "      <th>79</th>\n",
       "      <th>80</th>\n",
       "      <th>81</th>\n",
       "      <th>82</th>\n",
       "      <th>83</th>\n",
       "      <th>84</th>\n",
       "      <th>85</th>\n",
       "      <th>86</th>\n",
       "      <th>87</th>\n",
       "      <th>88</th>\n",
       "      <th>89</th>\n",
       "      <th>90</th>\n",
       "      <th>91</th>\n",
       "      <th>92</th>\n",
       "      <th>93</th>\n",
       "      <th>94</th>\n",
       "    </tr>\n",
       "  </thead>\n",
       "  <tbody>\n",
       "    <tr>\n",
       "      <th>0</th>\n",
       "      <td>-0.012312</td>\n",
       "      <td>0.071096</td>\n",
       "      <td>0.063750</td>\n",
       "      <td>0.025886</td>\n",
       "      <td>-0.004228</td>\n",
       "      <td>-0.032323</td>\n",
       "      <td>-0.029881</td>\n",
       "      <td>0.023245</td>\n",
       "      <td>0.0</td>\n",
       "      <td>0.005288</td>\n",
       "      <td>0.000661</td>\n",
       "      <td>-0.000119</td>\n",
       "      <td>-0.004604</td>\n",
       "      <td>0.001514</td>\n",
       "      <td>-0.001030</td>\n",
       "      <td>0.021310</td>\n",
       "      <td>-0.263810</td>\n",
       "      <td>-0.008897</td>\n",
       "      <td>0.0</td>\n",
       "      <td>-0.024131</td>\n",
       "      <td>0.000051</td>\n",
       "      <td>0.000000</td>\n",
       "      <td>-0.005082</td>\n",
       "      <td>-0.001225</td>\n",
       "      <td>-0.023032</td>\n",
       "      <td>0.0</td>\n",
       "      <td>-0.201863</td>\n",
       "      <td>0.010830</td>\n",
       "      <td>-0.006188</td>\n",
       "      <td>0.006800</td>\n",
       "      <td>-0.040506</td>\n",
       "      <td>0.0</td>\n",
       "      <td>-0.010744</td>\n",
       "      <td>0.000005</td>\n",
       "      <td>-0.000264</td>\n",
       "      <td>0.001324</td>\n",
       "      <td>0.003341</td>\n",
       "      <td>0.000000</td>\n",
       "      <td>-0.000128</td>\n",
       "      <td>0.002115</td>\n",
       "      <td>-0.245621</td>\n",
       "      <td>0.00000</td>\n",
       "      <td>-0.000313</td>\n",
       "      <td>-0.000057</td>\n",
       "      <td>-0.000400</td>\n",
       "      <td>0.010437</td>\n",
       "      <td>0.0</td>\n",
       "      <td>0.001603</td>\n",
       "      <td>0.023739</td>\n",
       "      <td>0.000000</td>\n",
       "      <td>-0.002558</td>\n",
       "      <td>0.0</td>\n",
       "      <td>0.000209</td>\n",
       "      <td>0.001056</td>\n",
       "      <td>0.000486</td>\n",
       "      <td>-0.000647</td>\n",
       "      <td>0.000138</td>\n",
       "      <td>0.003096</td>\n",
       "      <td>-0.01439</td>\n",
       "      <td>-0.008774</td>\n",
       "      <td>0.000234</td>\n",
       "      <td>0.0</td>\n",
       "      <td>-0.000133</td>\n",
       "      <td>0.0</td>\n",
       "      <td>0.006025</td>\n",
       "      <td>0.0</td>\n",
       "      <td>-0.001740</td>\n",
       "      <td>-0.001057</td>\n",
       "      <td>-0.002228</td>\n",
       "      <td>-0.000040</td>\n",
       "      <td>-0.002011</td>\n",
       "      <td>0.003635</td>\n",
       "      <td>-0.168559</td>\n",
       "      <td>-0.001185</td>\n",
       "      <td>0.00000</td>\n",
       "      <td>0.0</td>\n",
       "      <td>0.000000</td>\n",
       "      <td>0.0</td>\n",
       "      <td>-0.002998</td>\n",
       "      <td>-0.000405</td>\n",
       "      <td>0.002600</td>\n",
       "      <td>0.000054</td>\n",
       "      <td>0.0</td>\n",
       "      <td>-0.000126</td>\n",
       "      <td>0.0</td>\n",
       "      <td>0.000000</td>\n",
       "      <td>0.0</td>\n",
       "      <td>0.017329</td>\n",
       "      <td>-0.002135</td>\n",
       "      <td>0.000755</td>\n",
       "      <td>0.012857</td>\n",
       "      <td>0.002237</td>\n",
       "      <td>-0.025491</td>\n",
       "      <td>0.0</td>\n",
       "      <td>-0.004603</td>\n",
       "    </tr>\n",
       "    <tr>\n",
       "      <th>1</th>\n",
       "      <td>-0.012012</td>\n",
       "      <td>-0.092860</td>\n",
       "      <td>0.004778</td>\n",
       "      <td>0.000147</td>\n",
       "      <td>0.031736</td>\n",
       "      <td>-0.028354</td>\n",
       "      <td>-0.057536</td>\n",
       "      <td>0.027002</td>\n",
       "      <td>0.0</td>\n",
       "      <td>0.004431</td>\n",
       "      <td>0.000188</td>\n",
       "      <td>-0.000419</td>\n",
       "      <td>0.006060</td>\n",
       "      <td>0.002180</td>\n",
       "      <td>-0.007294</td>\n",
       "      <td>0.015816</td>\n",
       "      <td>0.140105</td>\n",
       "      <td>-0.003658</td>\n",
       "      <td>0.0</td>\n",
       "      <td>-0.004051</td>\n",
       "      <td>0.000127</td>\n",
       "      <td>-0.000148</td>\n",
       "      <td>-0.016769</td>\n",
       "      <td>-0.002958</td>\n",
       "      <td>0.001710</td>\n",
       "      <td>0.0</td>\n",
       "      <td>-0.146437</td>\n",
       "      <td>0.005165</td>\n",
       "      <td>0.000709</td>\n",
       "      <td>-0.098001</td>\n",
       "      <td>-0.025120</td>\n",
       "      <td>0.0</td>\n",
       "      <td>-0.012633</td>\n",
       "      <td>0.000021</td>\n",
       "      <td>-0.000155</td>\n",
       "      <td>-0.003297</td>\n",
       "      <td>0.002799</td>\n",
       "      <td>0.001387</td>\n",
       "      <td>-0.000026</td>\n",
       "      <td>-0.000421</td>\n",
       "      <td>0.013915</td>\n",
       "      <td>0.00000</td>\n",
       "      <td>0.000000</td>\n",
       "      <td>0.002171</td>\n",
       "      <td>-0.003101</td>\n",
       "      <td>-0.171267</td>\n",
       "      <td>0.0</td>\n",
       "      <td>0.002141</td>\n",
       "      <td>-0.005153</td>\n",
       "      <td>0.000000</td>\n",
       "      <td>-0.006182</td>\n",
       "      <td>0.0</td>\n",
       "      <td>-0.004995</td>\n",
       "      <td>-0.000316</td>\n",
       "      <td>0.000672</td>\n",
       "      <td>-0.000466</td>\n",
       "      <td>0.000138</td>\n",
       "      <td>0.002366</td>\n",
       "      <td>0.00000</td>\n",
       "      <td>-0.009923</td>\n",
       "      <td>0.000449</td>\n",
       "      <td>0.0</td>\n",
       "      <td>0.000881</td>\n",
       "      <td>0.0</td>\n",
       "      <td>0.008789</td>\n",
       "      <td>0.0</td>\n",
       "      <td>-0.000985</td>\n",
       "      <td>-0.002366</td>\n",
       "      <td>0.000365</td>\n",
       "      <td>-0.007305</td>\n",
       "      <td>-0.001886</td>\n",
       "      <td>0.000732</td>\n",
       "      <td>0.017793</td>\n",
       "      <td>-0.001353</td>\n",
       "      <td>0.00000</td>\n",
       "      <td>0.0</td>\n",
       "      <td>0.000000</td>\n",
       "      <td>0.0</td>\n",
       "      <td>-0.002859</td>\n",
       "      <td>-0.000347</td>\n",
       "      <td>0.003617</td>\n",
       "      <td>-0.001481</td>\n",
       "      <td>0.0</td>\n",
       "      <td>-0.007463</td>\n",
       "      <td>0.0</td>\n",
       "      <td>0.000000</td>\n",
       "      <td>0.0</td>\n",
       "      <td>0.003137</td>\n",
       "      <td>-0.003391</td>\n",
       "      <td>0.001273</td>\n",
       "      <td>0.015019</td>\n",
       "      <td>0.001850</td>\n",
       "      <td>0.070225</td>\n",
       "      <td>0.0</td>\n",
       "      <td>-0.000168</td>\n",
       "    </tr>\n",
       "    <tr>\n",
       "      <th>2</th>\n",
       "      <td>-0.007661</td>\n",
       "      <td>-0.019694</td>\n",
       "      <td>-0.008822</td>\n",
       "      <td>0.002896</td>\n",
       "      <td>0.020177</td>\n",
       "      <td>-0.047281</td>\n",
       "      <td>0.032479</td>\n",
       "      <td>0.015530</td>\n",
       "      <td>0.0</td>\n",
       "      <td>0.013239</td>\n",
       "      <td>0.000633</td>\n",
       "      <td>0.004495</td>\n",
       "      <td>-0.000195</td>\n",
       "      <td>0.003101</td>\n",
       "      <td>0.000158</td>\n",
       "      <td>-0.032039</td>\n",
       "      <td>0.450588</td>\n",
       "      <td>0.005549</td>\n",
       "      <td>0.0</td>\n",
       "      <td>-0.002130</td>\n",
       "      <td>0.000160</td>\n",
       "      <td>0.000000</td>\n",
       "      <td>-0.006753</td>\n",
       "      <td>-0.001460</td>\n",
       "      <td>-0.000721</td>\n",
       "      <td>0.0</td>\n",
       "      <td>-0.082715</td>\n",
       "      <td>0.010587</td>\n",
       "      <td>-0.003461</td>\n",
       "      <td>0.004676</td>\n",
       "      <td>-0.017583</td>\n",
       "      <td>0.0</td>\n",
       "      <td>0.078170</td>\n",
       "      <td>0.000045</td>\n",
       "      <td>-0.000419</td>\n",
       "      <td>-0.003647</td>\n",
       "      <td>0.003061</td>\n",
       "      <td>0.001300</td>\n",
       "      <td>-0.000175</td>\n",
       "      <td>-0.000447</td>\n",
       "      <td>0.005065</td>\n",
       "      <td>0.00000</td>\n",
       "      <td>0.000000</td>\n",
       "      <td>-0.000743</td>\n",
       "      <td>-0.001278</td>\n",
       "      <td>0.013618</td>\n",
       "      <td>0.0</td>\n",
       "      <td>0.001033</td>\n",
       "      <td>-0.000830</td>\n",
       "      <td>0.000000</td>\n",
       "      <td>-0.004092</td>\n",
       "      <td>0.0</td>\n",
       "      <td>0.050211</td>\n",
       "      <td>-0.000126</td>\n",
       "      <td>0.000594</td>\n",
       "      <td>-0.000521</td>\n",
       "      <td>0.000552</td>\n",
       "      <td>-0.000765</td>\n",
       "      <td>0.00000</td>\n",
       "      <td>-0.008814</td>\n",
       "      <td>0.001494</td>\n",
       "      <td>0.0</td>\n",
       "      <td>0.000881</td>\n",
       "      <td>0.0</td>\n",
       "      <td>0.002180</td>\n",
       "      <td>0.0</td>\n",
       "      <td>-0.000904</td>\n",
       "      <td>-0.000143</td>\n",
       "      <td>0.001675</td>\n",
       "      <td>0.000557</td>\n",
       "      <td>0.082470</td>\n",
       "      <td>0.001494</td>\n",
       "      <td>0.012599</td>\n",
       "      <td>-0.001259</td>\n",
       "      <td>0.00000</td>\n",
       "      <td>0.0</td>\n",
       "      <td>0.000075</td>\n",
       "      <td>0.0</td>\n",
       "      <td>-0.004273</td>\n",
       "      <td>-0.000355</td>\n",
       "      <td>0.000022</td>\n",
       "      <td>0.000108</td>\n",
       "      <td>0.0</td>\n",
       "      <td>-0.004557</td>\n",
       "      <td>0.0</td>\n",
       "      <td>0.000086</td>\n",
       "      <td>0.0</td>\n",
       "      <td>0.003228</td>\n",
       "      <td>0.001425</td>\n",
       "      <td>0.001240</td>\n",
       "      <td>0.020211</td>\n",
       "      <td>0.002151</td>\n",
       "      <td>-0.045349</td>\n",
       "      <td>0.0</td>\n",
       "      <td>-0.000716</td>\n",
       "    </tr>\n",
       "    <tr>\n",
       "      <th>3</th>\n",
       "      <td>0.005172</td>\n",
       "      <td>0.018569</td>\n",
       "      <td>0.054252</td>\n",
       "      <td>-0.158696</td>\n",
       "      <td>-0.149307</td>\n",
       "      <td>-0.363867</td>\n",
       "      <td>0.033909</td>\n",
       "      <td>0.030829</td>\n",
       "      <td>0.0</td>\n",
       "      <td>0.003780</td>\n",
       "      <td>0.000374</td>\n",
       "      <td>-0.007510</td>\n",
       "      <td>-0.000512</td>\n",
       "      <td>-0.013525</td>\n",
       "      <td>-0.007946</td>\n",
       "      <td>0.009772</td>\n",
       "      <td>0.008847</td>\n",
       "      <td>0.031960</td>\n",
       "      <td>0.0</td>\n",
       "      <td>-0.001952</td>\n",
       "      <td>0.000051</td>\n",
       "      <td>0.000000</td>\n",
       "      <td>-0.012591</td>\n",
       "      <td>-0.004206</td>\n",
       "      <td>-0.021151</td>\n",
       "      <td>0.0</td>\n",
       "      <td>-0.135603</td>\n",
       "      <td>0.025826</td>\n",
       "      <td>-0.023579</td>\n",
       "      <td>0.003155</td>\n",
       "      <td>-0.008029</td>\n",
       "      <td>0.0</td>\n",
       "      <td>-0.008009</td>\n",
       "      <td>0.004775</td>\n",
       "      <td>-0.000152</td>\n",
       "      <td>-0.002456</td>\n",
       "      <td>-0.001353</td>\n",
       "      <td>0.000000</td>\n",
       "      <td>-0.000157</td>\n",
       "      <td>-0.000715</td>\n",
       "      <td>0.011624</td>\n",
       "      <td>0.00000</td>\n",
       "      <td>0.000000</td>\n",
       "      <td>0.000329</td>\n",
       "      <td>-0.001197</td>\n",
       "      <td>0.021781</td>\n",
       "      <td>0.0</td>\n",
       "      <td>0.000574</td>\n",
       "      <td>0.012110</td>\n",
       "      <td>0.000171</td>\n",
       "      <td>-0.006523</td>\n",
       "      <td>0.0</td>\n",
       "      <td>-0.000530</td>\n",
       "      <td>-0.000316</td>\n",
       "      <td>0.000933</td>\n",
       "      <td>-0.000167</td>\n",
       "      <td>0.000069</td>\n",
       "      <td>-0.001820</td>\n",
       "      <td>0.00000</td>\n",
       "      <td>-0.003529</td>\n",
       "      <td>0.003195</td>\n",
       "      <td>0.0</td>\n",
       "      <td>0.000268</td>\n",
       "      <td>0.0</td>\n",
       "      <td>0.004645</td>\n",
       "      <td>0.0</td>\n",
       "      <td>-0.002756</td>\n",
       "      <td>-0.028844</td>\n",
       "      <td>0.001863</td>\n",
       "      <td>-0.001559</td>\n",
       "      <td>-0.003917</td>\n",
       "      <td>0.001021</td>\n",
       "      <td>0.014362</td>\n",
       "      <td>-0.005468</td>\n",
       "      <td>0.00000</td>\n",
       "      <td>0.0</td>\n",
       "      <td>-0.000003</td>\n",
       "      <td>0.0</td>\n",
       "      <td>-0.003835</td>\n",
       "      <td>0.000157</td>\n",
       "      <td>0.000093</td>\n",
       "      <td>0.001666</td>\n",
       "      <td>0.0</td>\n",
       "      <td>-0.004201</td>\n",
       "      <td>0.0</td>\n",
       "      <td>0.000100</td>\n",
       "      <td>0.0</td>\n",
       "      <td>0.002727</td>\n",
       "      <td>-0.000692</td>\n",
       "      <td>0.001104</td>\n",
       "      <td>-0.002197</td>\n",
       "      <td>0.002574</td>\n",
       "      <td>-0.057572</td>\n",
       "      <td>0.0</td>\n",
       "      <td>-0.000454</td>\n",
       "    </tr>\n",
       "    <tr>\n",
       "      <th>4</th>\n",
       "      <td>0.004519</td>\n",
       "      <td>-0.105162</td>\n",
       "      <td>0.042657</td>\n",
       "      <td>0.022582</td>\n",
       "      <td>0.003849</td>\n",
       "      <td>0.036144</td>\n",
       "      <td>-0.029926</td>\n",
       "      <td>0.000686</td>\n",
       "      <td>0.0</td>\n",
       "      <td>0.000676</td>\n",
       "      <td>0.000324</td>\n",
       "      <td>-0.006394</td>\n",
       "      <td>-0.000091</td>\n",
       "      <td>0.002495</td>\n",
       "      <td>0.012041</td>\n",
       "      <td>0.017308</td>\n",
       "      <td>0.001792</td>\n",
       "      <td>-0.015509</td>\n",
       "      <td>0.0</td>\n",
       "      <td>0.000100</td>\n",
       "      <td>0.000025</td>\n",
       "      <td>0.000000</td>\n",
       "      <td>-0.004889</td>\n",
       "      <td>0.000596</td>\n",
       "      <td>-0.011885</td>\n",
       "      <td>0.0</td>\n",
       "      <td>0.282344</td>\n",
       "      <td>-0.009688</td>\n",
       "      <td>0.010560</td>\n",
       "      <td>0.005659</td>\n",
       "      <td>-0.008551</td>\n",
       "      <td>0.0</td>\n",
       "      <td>-0.001597</td>\n",
       "      <td>0.000968</td>\n",
       "      <td>0.000215</td>\n",
       "      <td>-0.005411</td>\n",
       "      <td>0.004470</td>\n",
       "      <td>0.000000</td>\n",
       "      <td>-0.005729</td>\n",
       "      <td>-0.001050</td>\n",
       "      <td>0.004581</td>\n",
       "      <td>0.01921</td>\n",
       "      <td>0.000000</td>\n",
       "      <td>-0.000930</td>\n",
       "      <td>-0.001033</td>\n",
       "      <td>0.006860</td>\n",
       "      <td>0.0</td>\n",
       "      <td>0.000724</td>\n",
       "      <td>-0.000603</td>\n",
       "      <td>0.000000</td>\n",
       "      <td>-0.004395</td>\n",
       "      <td>0.0</td>\n",
       "      <td>-0.000149</td>\n",
       "      <td>-0.001361</td>\n",
       "      <td>0.000998</td>\n",
       "      <td>-0.000344</td>\n",
       "      <td>0.000138</td>\n",
       "      <td>0.000513</td>\n",
       "      <td>0.00000</td>\n",
       "      <td>-0.005771</td>\n",
       "      <td>-0.000823</td>\n",
       "      <td>0.0</td>\n",
       "      <td>0.000720</td>\n",
       "      <td>0.0</td>\n",
       "      <td>0.006135</td>\n",
       "      <td>0.0</td>\n",
       "      <td>-0.000825</td>\n",
       "      <td>0.002795</td>\n",
       "      <td>-0.000030</td>\n",
       "      <td>-0.009212</td>\n",
       "      <td>-0.002003</td>\n",
       "      <td>0.001760</td>\n",
       "      <td>0.015607</td>\n",
       "      <td>-0.000972</td>\n",
       "      <td>0.01636</td>\n",
       "      <td>0.0</td>\n",
       "      <td>-0.000078</td>\n",
       "      <td>0.0</td>\n",
       "      <td>-0.000896</td>\n",
       "      <td>0.000157</td>\n",
       "      <td>-0.000025</td>\n",
       "      <td>-0.000690</td>\n",
       "      <td>0.0</td>\n",
       "      <td>-0.001840</td>\n",
       "      <td>0.0</td>\n",
       "      <td>0.000110</td>\n",
       "      <td>0.0</td>\n",
       "      <td>0.003199</td>\n",
       "      <td>-0.000635</td>\n",
       "      <td>0.000750</td>\n",
       "      <td>0.006579</td>\n",
       "      <td>0.002628</td>\n",
       "      <td>-0.015934</td>\n",
       "      <td>0.0</td>\n",
       "      <td>0.000565</td>\n",
       "    </tr>\n",
       "  </tbody>\n",
       "</table>\n",
       "</div>"
      ],
      "text/plain": [
       "         0         1         2         3         4         5         6   \\\n",
       "0 -0.012312  0.071096  0.063750  0.025886 -0.004228 -0.032323 -0.029881   \n",
       "1 -0.012012 -0.092860  0.004778  0.000147  0.031736 -0.028354 -0.057536   \n",
       "2 -0.007661 -0.019694 -0.008822  0.002896  0.020177 -0.047281  0.032479   \n",
       "3  0.005172  0.018569  0.054252 -0.158696 -0.149307 -0.363867  0.033909   \n",
       "4  0.004519 -0.105162  0.042657  0.022582  0.003849  0.036144 -0.029926   \n",
       "\n",
       "         7    8         9         10        11        12        13        14  \\\n",
       "0  0.023245  0.0  0.005288  0.000661 -0.000119 -0.004604  0.001514 -0.001030   \n",
       "1  0.027002  0.0  0.004431  0.000188 -0.000419  0.006060  0.002180 -0.007294   \n",
       "2  0.015530  0.0  0.013239  0.000633  0.004495 -0.000195  0.003101  0.000158   \n",
       "3  0.030829  0.0  0.003780  0.000374 -0.007510 -0.000512 -0.013525 -0.007946   \n",
       "4  0.000686  0.0  0.000676  0.000324 -0.006394 -0.000091  0.002495  0.012041   \n",
       "\n",
       "         15        16        17   18        19        20        21        22  \\\n",
       "0  0.021310 -0.263810 -0.008897  0.0 -0.024131  0.000051  0.000000 -0.005082   \n",
       "1  0.015816  0.140105 -0.003658  0.0 -0.004051  0.000127 -0.000148 -0.016769   \n",
       "2 -0.032039  0.450588  0.005549  0.0 -0.002130  0.000160  0.000000 -0.006753   \n",
       "3  0.009772  0.008847  0.031960  0.0 -0.001952  0.000051  0.000000 -0.012591   \n",
       "4  0.017308  0.001792 -0.015509  0.0  0.000100  0.000025  0.000000 -0.004889   \n",
       "\n",
       "         23        24   25        26        27        28        29        30  \\\n",
       "0 -0.001225 -0.023032  0.0 -0.201863  0.010830 -0.006188  0.006800 -0.040506   \n",
       "1 -0.002958  0.001710  0.0 -0.146437  0.005165  0.000709 -0.098001 -0.025120   \n",
       "2 -0.001460 -0.000721  0.0 -0.082715  0.010587 -0.003461  0.004676 -0.017583   \n",
       "3 -0.004206 -0.021151  0.0 -0.135603  0.025826 -0.023579  0.003155 -0.008029   \n",
       "4  0.000596 -0.011885  0.0  0.282344 -0.009688  0.010560  0.005659 -0.008551   \n",
       "\n",
       "    31        32        33        34        35        36        37        38  \\\n",
       "0  0.0 -0.010744  0.000005 -0.000264  0.001324  0.003341  0.000000 -0.000128   \n",
       "1  0.0 -0.012633  0.000021 -0.000155 -0.003297  0.002799  0.001387 -0.000026   \n",
       "2  0.0  0.078170  0.000045 -0.000419 -0.003647  0.003061  0.001300 -0.000175   \n",
       "3  0.0 -0.008009  0.004775 -0.000152 -0.002456 -0.001353  0.000000 -0.000157   \n",
       "4  0.0 -0.001597  0.000968  0.000215 -0.005411  0.004470  0.000000 -0.005729   \n",
       "\n",
       "         39        40       41        42        43        44        45   46  \\\n",
       "0  0.002115 -0.245621  0.00000 -0.000313 -0.000057 -0.000400  0.010437  0.0   \n",
       "1 -0.000421  0.013915  0.00000  0.000000  0.002171 -0.003101 -0.171267  0.0   \n",
       "2 -0.000447  0.005065  0.00000  0.000000 -0.000743 -0.001278  0.013618  0.0   \n",
       "3 -0.000715  0.011624  0.00000  0.000000  0.000329 -0.001197  0.021781  0.0   \n",
       "4 -0.001050  0.004581  0.01921  0.000000 -0.000930 -0.001033  0.006860  0.0   \n",
       "\n",
       "         47        48        49        50   51        52        53        54  \\\n",
       "0  0.001603  0.023739  0.000000 -0.002558  0.0  0.000209  0.001056  0.000486   \n",
       "1  0.002141 -0.005153  0.000000 -0.006182  0.0 -0.004995 -0.000316  0.000672   \n",
       "2  0.001033 -0.000830  0.000000 -0.004092  0.0  0.050211 -0.000126  0.000594   \n",
       "3  0.000574  0.012110  0.000171 -0.006523  0.0 -0.000530 -0.000316  0.000933   \n",
       "4  0.000724 -0.000603  0.000000 -0.004395  0.0 -0.000149 -0.001361  0.000998   \n",
       "\n",
       "         55        56        57       58        59        60   61        62  \\\n",
       "0 -0.000647  0.000138  0.003096 -0.01439 -0.008774  0.000234  0.0 -0.000133   \n",
       "1 -0.000466  0.000138  0.002366  0.00000 -0.009923  0.000449  0.0  0.000881   \n",
       "2 -0.000521  0.000552 -0.000765  0.00000 -0.008814  0.001494  0.0  0.000881   \n",
       "3 -0.000167  0.000069 -0.001820  0.00000 -0.003529  0.003195  0.0  0.000268   \n",
       "4 -0.000344  0.000138  0.000513  0.00000 -0.005771 -0.000823  0.0  0.000720   \n",
       "\n",
       "    63        64   65        66        67        68        69        70  \\\n",
       "0  0.0  0.006025  0.0 -0.001740 -0.001057 -0.002228 -0.000040 -0.002011   \n",
       "1  0.0  0.008789  0.0 -0.000985 -0.002366  0.000365 -0.007305 -0.001886   \n",
       "2  0.0  0.002180  0.0 -0.000904 -0.000143  0.001675  0.000557  0.082470   \n",
       "3  0.0  0.004645  0.0 -0.002756 -0.028844  0.001863 -0.001559 -0.003917   \n",
       "4  0.0  0.006135  0.0 -0.000825  0.002795 -0.000030 -0.009212 -0.002003   \n",
       "\n",
       "         71        72        73       74   75        76   77        78  \\\n",
       "0  0.003635 -0.168559 -0.001185  0.00000  0.0  0.000000  0.0 -0.002998   \n",
       "1  0.000732  0.017793 -0.001353  0.00000  0.0  0.000000  0.0 -0.002859   \n",
       "2  0.001494  0.012599 -0.001259  0.00000  0.0  0.000075  0.0 -0.004273   \n",
       "3  0.001021  0.014362 -0.005468  0.00000  0.0 -0.000003  0.0 -0.003835   \n",
       "4  0.001760  0.015607 -0.000972  0.01636  0.0 -0.000078  0.0 -0.000896   \n",
       "\n",
       "         79        80        81   82        83   84        85   86        87  \\\n",
       "0 -0.000405  0.002600  0.000054  0.0 -0.000126  0.0  0.000000  0.0  0.017329   \n",
       "1 -0.000347  0.003617 -0.001481  0.0 -0.007463  0.0  0.000000  0.0  0.003137   \n",
       "2 -0.000355  0.000022  0.000108  0.0 -0.004557  0.0  0.000086  0.0  0.003228   \n",
       "3  0.000157  0.000093  0.001666  0.0 -0.004201  0.0  0.000100  0.0  0.002727   \n",
       "4  0.000157 -0.000025 -0.000690  0.0 -0.001840  0.0  0.000110  0.0  0.003199   \n",
       "\n",
       "         88        89        90        91        92   93        94  \n",
       "0 -0.002135  0.000755  0.012857  0.002237 -0.025491  0.0 -0.004603  \n",
       "1 -0.003391  0.001273  0.015019  0.001850  0.070225  0.0 -0.000168  \n",
       "2  0.001425  0.001240  0.020211  0.002151 -0.045349  0.0 -0.000716  \n",
       "3 -0.000692  0.001104 -0.002197  0.002574 -0.057572  0.0 -0.000454  \n",
       "4 -0.000635  0.000750  0.006579  0.002628 -0.015934  0.0  0.000565  "
      ]
     },
     "execution_count": 137,
     "metadata": {},
     "output_type": "execute_result"
    }
   ],
   "source": [
    "import shap\n",
    "explainer = shap.TreeExplainer(model, data=X_train)\n",
    "shap_values = explainer.shap_values(X_test)\n",
    "pd.DataFrame(shap_values).head()"
   ]
  },
  {
   "cell_type": "code",
   "execution_count": 138,
   "id": "bc2a1e6e",
   "metadata": {},
   "outputs": [
    {
     "data": {
      "image/png": "[encoded data removed]",
      "text/plain": [
       "<Figure size 576x684 with 2 Axes>"
      ]
     },
     "metadata": {
      "needs_background": "light"
     },
     "output_type": "display_data"
    }
   ],
   "source": [
    "shap.summary_plot(shap_values, X_test)"
   ]
  },
  {
   "cell_type": "code",
   "execution_count": null,
   "id": "2f40b4e9",
   "metadata": {},
   "outputs": [],
   "source": []
  }
 ],
 "metadata": {
  "kernelspec": {
   "display_name": "Python 3",
   "language": "python",
   "name": "python3"
  },
  "language_info": {
   "codemirror_mode": {
    "name": "ipython",
    "version": 3
   },
   "file_extension": ".py",
   "mimetype": "text/x-python",
   "name": "python",
   "nbconvert_exporter": "python",
   "pygments_lexer": "ipython3",
   "version": "3.8.8"
  }
 },
 "nbformat": 4,
 "nbformat_minor": 5
}
